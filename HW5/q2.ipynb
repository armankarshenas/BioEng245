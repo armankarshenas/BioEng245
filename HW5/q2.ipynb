{
  "nbformat": 4,
  "nbformat_minor": 0,
  "metadata": {
    "colab": {
      "provenance": []
    },
    "kernelspec": {
      "name": "python3",
      "display_name": "Python 3"
    },
    "language_info": {
      "name": "python"
    }
  },
  "cells": [
    {
      "cell_type": "markdown",
      "source": [
        "# Homework 5 Q2\n",
        "\n",
        "Up to this point, we have created our own models and practiced implementing existing machine learning techniques and derivations. It is now time to move on to more recent advancements of machine learning–Deep Learning. In this homework, I will demonstrate how PyTorch can be used and some common and useful functionalities. In the end, you will be required to create your own model that will be trained on a dataset."
      ],
      "metadata": {
        "id": "grF7sAQBffrg"
      }
    },
    {
      "cell_type": "markdown",
      "source": [
        "## PyTorch Tensors\n",
        "\n",
        "We have made you practice NumPy extensively over the past few weeks: to understand the functions, the dimensions, and the axes. In PyTorch, the package doesn't like to work with NumPy objects. Instead, it works with its own version of NumPy called Torch.Tensors. Torch.Tensor is extremely similar to NumPy and we will show it here.\n",
        "\n",
        "Let's make a random matrix to play with."
      ],
      "metadata": {
        "id": "7MxDWa8ZgJjh"
      }
    },
    {
      "cell_type": "code",
      "execution_count": 1,
      "metadata": {
        "id": "yAurHyHnfdk6",
        "colab": {
          "base_uri": "https://localhost:8080/"
        },
        "outputId": "7b0698d3-d801-49fa-ec29-c33c5a565ec8"
      },
      "outputs": [
        {
          "output_type": "execute_result",
          "data": {
            "text/plain": [
              "tensor([[0.7665, 0.3665, 0.7167, 0.9416, 0.1785, 0.8672, 0.8302, 0.6261],\n",
              "        [0.4662, 0.2577, 0.9504, 0.7469, 0.8473, 0.8646, 0.6125, 0.9919],\n",
              "        [0.1549, 0.9842, 0.2731, 0.5143, 0.4070, 0.8282, 0.2505, 0.2658],\n",
              "        [0.8546, 0.9318, 0.2714, 0.7939, 0.9010, 0.9546, 0.3130, 0.9498],\n",
              "        [0.4937, 0.9015, 0.5820, 0.7383, 0.1304, 0.6268, 0.5726, 0.5126]])"
            ]
          },
          "metadata": {},
          "execution_count": 1
        }
      ],
      "source": [
        "import torch\n",
        "import numpy as np\n",
        "\n",
        "X = torch.rand(5, 8)\n",
        "X"
      ]
    },
    {
      "cell_type": "markdown",
      "source": [
        "We can easily create the NumPy object of the same tensor using the `.numpy()` method.\n",
        "\n"
      ],
      "metadata": {
        "id": "5_fl1IKxiAk1"
      }
    },
    {
      "cell_type": "code",
      "source": [
        "X_np = X.numpy()    # create a NumPy version of X\n",
        "print(X_np)\n",
        "print(type(X_np))"
      ],
      "metadata": {
        "id": "HI0TkbDMhgWS",
        "colab": {
          "base_uri": "https://localhost:8080/"
        },
        "outputId": "be9eda1f-92ca-4bc6-ddda-dd7c480313d3"
      },
      "execution_count": null,
      "outputs": [
        {
          "output_type": "stream",
          "name": "stdout",
          "text": [
            "[[0.7678662  0.6846761  0.46399367 0.3194554  0.82030976 0.15098578\n",
            "  0.0834018  0.02886879]\n",
            " [0.68998116 0.16587502 0.268995   0.18060899 0.10096872 0.275876\n",
            "  0.4732849  0.8219267 ]\n",
            " [0.9095101  0.8044556  0.9394762  0.61516887 0.39900762 0.07582706\n",
            "  0.8105888  0.8900904 ]\n",
            " [0.9582729  0.1928457  0.04037315 0.2833798  0.6383595  0.88382196\n",
            "  0.14247441 0.23506242]\n",
            " [0.84612226 0.6870341  0.293136   0.09697014 0.20125806 0.60338944\n",
            "  0.47761345 0.9289197 ]]\n",
            "<class 'numpy.ndarray'>\n"
          ]
        }
      ]
    },
    {
      "cell_type": "markdown",
      "source": [
        "And change it back to Torch.Tensor by wrapping it around with torch.tensor()."
      ],
      "metadata": {
        "id": "ALcdk3BAiU3k"
      }
    },
    {
      "cell_type": "code",
      "source": [
        "X = torch.tensor(X_np)\n",
        "print(X)\n",
        "print(\"Shape:\\t\", X.shape)\n",
        "print(\"X.shape is still represented by a tuple:\\t\", X.shape == (5, 8))\n",
        "print(\"Type:\\t\", type(X))"
      ],
      "metadata": {
        "id": "RX3ob7vRgu6s",
        "colab": {
          "base_uri": "https://localhost:8080/"
        },
        "outputId": "163e8571-8012-468a-d371-65e0b3a8062f"
      },
      "execution_count": null,
      "outputs": [
        {
          "output_type": "stream",
          "name": "stdout",
          "text": [
            "tensor([[0.7679, 0.6847, 0.4640, 0.3195, 0.8203, 0.1510, 0.0834, 0.0289],\n",
            "        [0.6900, 0.1659, 0.2690, 0.1806, 0.1010, 0.2759, 0.4733, 0.8219],\n",
            "        [0.9095, 0.8045, 0.9395, 0.6152, 0.3990, 0.0758, 0.8106, 0.8901],\n",
            "        [0.9583, 0.1928, 0.0404, 0.2834, 0.6384, 0.8838, 0.1425, 0.2351],\n",
            "        [0.8461, 0.6870, 0.2931, 0.0970, 0.2013, 0.6034, 0.4776, 0.9289]])\n",
            "Shape:\t torch.Size([5, 8])\n",
            "X.shape is still represented by a tuple:\t True\n",
            "Type:\t <class 'torch.Tensor'>\n"
          ]
        }
      ]
    },
    {
      "cell_type": "markdown",
      "source": [
        "Slicing works the same as NumPy as well."
      ],
      "metadata": {
        "id": "HHzGObF8hMYt"
      }
    },
    {
      "cell_type": "code",
      "source": [
        "print(X[1:3, 2:5])      # certain section of the matrix\n",
        "print(X[[0, 2, 4], :])  # row 0, 2, and 4"
      ],
      "metadata": {
        "id": "0Ika9wZIg7Rf",
        "colab": {
          "base_uri": "https://localhost:8080/"
        },
        "outputId": "af56910c-b300-4429-af76-fb3bf7b287ec"
      },
      "execution_count": null,
      "outputs": [
        {
          "output_type": "stream",
          "name": "stdout",
          "text": [
            "tensor([[0.2690, 0.1806, 0.1010],\n",
            "        [0.9395, 0.6152, 0.3990]])\n",
            "tensor([[0.7679, 0.6847, 0.4640, 0.3195, 0.8203, 0.1510, 0.0834, 0.0289],\n",
            "        [0.9095, 0.8045, 0.9395, 0.6152, 0.3990, 0.0758, 0.8106, 0.8901],\n",
            "        [0.8461, 0.6870, 0.2931, 0.0970, 0.2013, 0.6034, 0.4776, 0.9289]])\n"
          ]
        }
      ]
    },
    {
      "cell_type": "markdown",
      "source": [
        "Boolean slicing works the same as NumPy as well."
      ],
      "metadata": {
        "id": "cgvrUbLKiuF6"
      }
    },
    {
      "cell_type": "code",
      "source": [
        "bool_idx = X < 0.5\n",
        "print(bool_idx)\n",
        "X_bool_filter = torch.clone(X)  # torch.clone() can help us deep copy a matrix so we don't accidentally modify the original copy\n",
        "X_bool_filter[bool_idx] = 99    # using the boolean slicing, we change the values less than 0.5 to 99\n",
        "print(torch.round(X_bool_filter, decimals=4))\n",
        "print(X)                        # notice how the original tensor is unchanged, that's why torch.clone() is important"
      ],
      "metadata": {
        "id": "R3t9qJexixaZ",
        "colab": {
          "base_uri": "https://localhost:8080/"
        },
        "outputId": "876d0cf4-a76d-48c3-f9ec-59120293bac6"
      },
      "execution_count": null,
      "outputs": [
        {
          "output_type": "stream",
          "name": "stdout",
          "text": [
            "tensor([[False, False,  True,  True, False,  True,  True,  True],\n",
            "        [False,  True,  True,  True,  True,  True,  True, False],\n",
            "        [False, False, False, False,  True,  True, False, False],\n",
            "        [False,  True,  True,  True, False, False,  True,  True],\n",
            "        [False, False,  True,  True,  True, False,  True, False]])\n",
            "tensor([[ 0.7679,  0.6847, 99.0000, 99.0000,  0.8203, 99.0000, 99.0000, 99.0000],\n",
            "        [ 0.6900, 99.0000, 99.0000, 99.0000, 99.0000, 99.0000, 99.0000,  0.8219],\n",
            "        [ 0.9095,  0.8045,  0.9395,  0.6152, 99.0000, 99.0000,  0.8106,  0.8901],\n",
            "        [ 0.9583, 99.0000, 99.0000, 99.0000,  0.6384,  0.8838, 99.0000, 99.0000],\n",
            "        [ 0.8461,  0.6870, 99.0000, 99.0000, 99.0000,  0.6034, 99.0000,  0.9289]])\n",
            "tensor([[0.7679, 0.6847, 0.4640, 0.3195, 0.8203, 0.1510, 0.0834, 0.0289],\n",
            "        [0.6900, 0.1659, 0.2690, 0.1806, 0.1010, 0.2759, 0.4733, 0.8219],\n",
            "        [0.9095, 0.8045, 0.9395, 0.6152, 0.3990, 0.0758, 0.8106, 0.8901],\n",
            "        [0.9583, 0.1928, 0.0404, 0.2834, 0.6384, 0.8838, 0.1425, 0.2351],\n",
            "        [0.8461, 0.6870, 0.2931, 0.0970, 0.2013, 0.6034, 0.4776, 0.9289]])\n"
          ]
        }
      ]
    },
    {
      "cell_type": "markdown",
      "source": [
        "Of course, we have our favorite mean, var, and std functions.\n",
        "Now, the only difference between tensors and NumPy is that tensors use the keyword **dim** in place of NumPy's **axis**, like so."
      ],
      "metadata": {
        "id": "s2njEG_3hhRM"
      }
    },
    {
      "cell_type": "code",
      "source": [
        "print(torch.mean(X))\n",
        "print(torch.var(X))\n",
        "print(torch.std(X))"
      ],
      "metadata": {
        "id": "qfvKMNDfheLP",
        "colab": {
          "base_uri": "https://localhost:8080/"
        },
        "outputId": "f52f540e-da2f-4c02-c36c-8f387b6718b5"
      },
      "execution_count": null,
      "outputs": [
        {
          "output_type": "stream",
          "name": "stdout",
          "text": [
            "tensor(0.4813)\n",
            "tensor(0.0984)\n",
            "tensor(0.3138)\n"
          ]
        }
      ]
    },
    {
      "cell_type": "code",
      "source": [
        "print(torch.mean(X, dim=0))\n",
        "print(torch.var(X, dim=0))\n",
        "print(torch.std(X, dim=0))"
      ],
      "metadata": {
        "id": "ZA3m8JfRigLm",
        "colab": {
          "base_uri": "https://localhost:8080/"
        },
        "outputId": "9c5619fd-8d5d-496b-8b01-b5d8c1156b9c"
      },
      "execution_count": null,
      "outputs": [
        {
          "output_type": "stream",
          "name": "stdout",
          "text": [
            "tensor([0.8344, 0.5070, 0.4012, 0.2991, 0.4320, 0.3980, 0.3975, 0.5810])\n",
            "tensor([0.0116, 0.0919, 0.1133, 0.0389, 0.0893, 0.1145, 0.0866, 0.1748])\n",
            "tensor([0.1077, 0.3031, 0.3365, 0.1971, 0.2989, 0.3384, 0.2943, 0.4181])\n"
          ]
        }
      ]
    },
    {
      "cell_type": "markdown",
      "source": [
        "Some linear algebra operations:\n"
      ],
      "metadata": {
        "id": "NFSSgDexlFHK"
      }
    },
    {
      "cell_type": "code",
      "source": [
        "Z = torch.rand(8, 3)\n",
        "# dot product - two ways of doing so (NumPy also takes @ for dot products)\n",
        "print(X @ Z)\n",
        "print(torch.matmul(X, Z))\n",
        "print(torch.einsum(\"ij,jk->ik\", [X, Z]))    # this is torch.einsum - not important for this class but a cool function regardless\n",
        "print((X @ Z).shape)"
      ],
      "metadata": {
        "id": "ACdPdLRtikn_",
        "colab": {
          "base_uri": "https://localhost:8080/"
        },
        "outputId": "80dfaf3d-b6fc-41e8-c644-41daf67d345b"
      },
      "execution_count": null,
      "outputs": [
        {
          "output_type": "stream",
          "name": "stdout",
          "text": [
            "tensor([[1.5170, 2.0012, 2.2193],\n",
            "        [1.0714, 1.2020, 1.5086],\n",
            "        [2.0836, 2.4772, 2.9012],\n",
            "        [1.6251, 1.9987, 2.0067],\n",
            "        [1.8142, 1.9596, 2.4304]])\n",
            "tensor([[1.5170, 2.0012, 2.2193],\n",
            "        [1.0714, 1.2020, 1.5086],\n",
            "        [2.0836, 2.4772, 2.9012],\n",
            "        [1.6251, 1.9987, 2.0067],\n",
            "        [1.8142, 1.9596, 2.4304]])\n",
            "tensor([[1.5170, 2.0012, 2.2193],\n",
            "        [1.0714, 1.2020, 1.5086],\n",
            "        [2.0836, 2.4772, 2.9012],\n",
            "        [1.6251, 1.9987, 2.0067],\n",
            "        [1.8142, 1.9596, 2.4304]])\n",
            "torch.Size([5, 3])\n"
          ]
        }
      ]
    },
    {
      "cell_type": "markdown",
      "source": [
        "Calculate eigenvectors and eigenvalues with PyTorch!"
      ],
      "metadata": {
        "id": "-KMI-BxVmabm"
      }
    },
    {
      "cell_type": "code",
      "source": [
        "X = torch.rand(4, 4)\n",
        "print(torch.linalg.eig(X))"
      ],
      "metadata": {
        "id": "7Sgv_i1blZVi",
        "colab": {
          "base_uri": "https://localhost:8080/"
        },
        "outputId": "13b8d981-7252-4d5a-847e-66f1b8658f3d"
      },
      "execution_count": null,
      "outputs": [
        {
          "output_type": "stream",
          "name": "stdout",
          "text": [
            "torch.return_types.linalg_eig(\n",
            "eigenvalues=tensor([ 2.2307+0.j, -0.3463+0.j, -0.2087+0.j,  0.5177+0.j]),\n",
            "eigenvectors=tensor([[ 0.4502+0.j,  0.6487+0.j, -0.4720+0.j,  0.1680+0.j],\n",
            "        [ 0.4106+0.j, -0.4189+0.j,  0.3550+0.j, -0.7383+0.j],\n",
            "        [ 0.6453+0.j, -0.0797+0.j, -0.0992+0.j,  0.3710+0.j],\n",
            "        [ 0.4608+0.j, -0.6304+0.j,  0.8008+0.j,  0.5376+0.j]]))\n"
          ]
        }
      ]
    },
    {
      "cell_type": "markdown",
      "source": [
        "## Neural Network 101\n",
        "\n",
        "Now, we will learn how to create our own neural networks using PyTorch. Our model is still pretty light since this is our first exposure to PyTorch. Next week, we will be learning how to train on models on GPU's to speed up training time!"
      ],
      "metadata": {
        "id": "uKWZ-8ximfvr"
      }
    },
    {
      "cell_type": "markdown",
      "source": [
        "Firstly, we will mount on Google Drive, so you can access your files from Google Drive like how you would access files from your local computer."
      ],
      "metadata": {
        "id": "MaORQBHJn3Xw"
      }
    },
    {
      "cell_type": "code",
      "source": [
        "from google.colab import drive\n",
        "drive.mount('/content/drive')"
      ],
      "metadata": {
        "id": "WTegbN2ZoXOT",
        "colab": {
          "base_uri": "https://localhost:8080/"
        },
        "outputId": "e77c36ae-f661-473c-fdd5-2f2993c07ea2"
      },
      "execution_count": null,
      "outputs": [
        {
          "output_type": "stream",
          "name": "stdout",
          "text": [
            "Mounted at /content/drive\n"
          ]
        }
      ]
    },
    {
      "cell_type": "markdown",
      "source": [
        "Some standard imports!"
      ],
      "metadata": {
        "id": "EaKrU7HzpUi1"
      }
    },
    {
      "cell_type": "code",
      "source": [
        "import torch\n",
        "import torch.nn as nn\n",
        "import torch.nn.functional as F\n",
        "\n",
        "import pandas as pd\n",
        "import numpy as np"
      ],
      "metadata": {
        "id": "m9P3-Ro-mHvR"
      },
      "execution_count": 1,
      "outputs": []
    },
    {
      "cell_type": "markdown",
      "source": [
        "We will be working with a very popular deep learning dataset Fashion MNIST. Each data point is a 28x28 image of some type of clothes."
      ],
      "metadata": {
        "id": "UDrlQoGMrTIL"
      }
    },
    {
      "cell_type": "code",
      "source": [
        "file_path = \"./\"      # ENTER YOUR OWN FILE PATH\n",
        "data = pd.read_csv(file_path + \"fashion_mnist_data.csv\", sep=',')\n",
        "data.head()"
      ],
      "metadata": {
        "id": "kghvXO08nqjc",
        "colab": {
          "base_uri": "https://localhost:8080/",
          "height": 253
        },
        "outputId": "ea77d5bc-7fd9-4753-f717-37b9c0e22728"
      },
      "execution_count": 2,
      "outputs": [
        {
          "output_type": "execute_result",
          "data": {
            "text/plain": [
              "   label  pixel1  pixel2  pixel3  pixel4  pixel5  pixel6  pixel7  pixel8  \\\n",
              "0      0       0       0       0       0       0       0       0       9   \n",
              "1      1       0       0       0       0       0       0       0       0   \n",
              "2      2       0       0       0       0       0       0      14      53   \n",
              "3      2       0       0       0       0       0       0       0       0   \n",
              "4      3       0       0       0       0       0       0       0       0   \n",
              "\n",
              "   pixel9  ...  pixel775  pixel776  pixel777  pixel778  pixel779  pixel780  \\\n",
              "0       8  ...       103        87        56         0         0         0   \n",
              "1       0  ...        34         0         0         0         0         0   \n",
              "2      99  ...         0         0         0         0        63        53   \n",
              "3       0  ...       137       126       140         0       133       224   \n",
              "4       0  ...         0         0         0         0         0         0   \n",
              "\n",
              "   pixel781  pixel782  pixel783  pixel784  \n",
              "0         0         0         0         0  \n",
              "1         0         0         0         0  \n",
              "2        31         0         0         0  \n",
              "3       222        56         0         0  \n",
              "4         0         0         0         0  \n",
              "\n",
              "[5 rows x 785 columns]"
            ],
            "text/html": [
              "\n",
              "  <div id=\"df-cd144b46-d950-4bc7-bf14-16a7817c4b7e\" class=\"colab-df-container\">\n",
              "    <div>\n",
              "<style scoped>\n",
              "    .dataframe tbody tr th:only-of-type {\n",
              "        vertical-align: middle;\n",
              "    }\n",
              "\n",
              "    .dataframe tbody tr th {\n",
              "        vertical-align: top;\n",
              "    }\n",
              "\n",
              "    .dataframe thead th {\n",
              "        text-align: right;\n",
              "    }\n",
              "</style>\n",
              "<table border=\"1\" class=\"dataframe\">\n",
              "  <thead>\n",
              "    <tr style=\"text-align: right;\">\n",
              "      <th></th>\n",
              "      <th>label</th>\n",
              "      <th>pixel1</th>\n",
              "      <th>pixel2</th>\n",
              "      <th>pixel3</th>\n",
              "      <th>pixel4</th>\n",
              "      <th>pixel5</th>\n",
              "      <th>pixel6</th>\n",
              "      <th>pixel7</th>\n",
              "      <th>pixel8</th>\n",
              "      <th>pixel9</th>\n",
              "      <th>...</th>\n",
              "      <th>pixel775</th>\n",
              "      <th>pixel776</th>\n",
              "      <th>pixel777</th>\n",
              "      <th>pixel778</th>\n",
              "      <th>pixel779</th>\n",
              "      <th>pixel780</th>\n",
              "      <th>pixel781</th>\n",
              "      <th>pixel782</th>\n",
              "      <th>pixel783</th>\n",
              "      <th>pixel784</th>\n",
              "    </tr>\n",
              "  </thead>\n",
              "  <tbody>\n",
              "    <tr>\n",
              "      <th>0</th>\n",
              "      <td>0</td>\n",
              "      <td>0</td>\n",
              "      <td>0</td>\n",
              "      <td>0</td>\n",
              "      <td>0</td>\n",
              "      <td>0</td>\n",
              "      <td>0</td>\n",
              "      <td>0</td>\n",
              "      <td>9</td>\n",
              "      <td>8</td>\n",
              "      <td>...</td>\n",
              "      <td>103</td>\n",
              "      <td>87</td>\n",
              "      <td>56</td>\n",
              "      <td>0</td>\n",
              "      <td>0</td>\n",
              "      <td>0</td>\n",
              "      <td>0</td>\n",
              "      <td>0</td>\n",
              "      <td>0</td>\n",
              "      <td>0</td>\n",
              "    </tr>\n",
              "    <tr>\n",
              "      <th>1</th>\n",
              "      <td>1</td>\n",
              "      <td>0</td>\n",
              "      <td>0</td>\n",
              "      <td>0</td>\n",
              "      <td>0</td>\n",
              "      <td>0</td>\n",
              "      <td>0</td>\n",
              "      <td>0</td>\n",
              "      <td>0</td>\n",
              "      <td>0</td>\n",
              "      <td>...</td>\n",
              "      <td>34</td>\n",
              "      <td>0</td>\n",
              "      <td>0</td>\n",
              "      <td>0</td>\n",
              "      <td>0</td>\n",
              "      <td>0</td>\n",
              "      <td>0</td>\n",
              "      <td>0</td>\n",
              "      <td>0</td>\n",
              "      <td>0</td>\n",
              "    </tr>\n",
              "    <tr>\n",
              "      <th>2</th>\n",
              "      <td>2</td>\n",
              "      <td>0</td>\n",
              "      <td>0</td>\n",
              "      <td>0</td>\n",
              "      <td>0</td>\n",
              "      <td>0</td>\n",
              "      <td>0</td>\n",
              "      <td>14</td>\n",
              "      <td>53</td>\n",
              "      <td>99</td>\n",
              "      <td>...</td>\n",
              "      <td>0</td>\n",
              "      <td>0</td>\n",
              "      <td>0</td>\n",
              "      <td>0</td>\n",
              "      <td>63</td>\n",
              "      <td>53</td>\n",
              "      <td>31</td>\n",
              "      <td>0</td>\n",
              "      <td>0</td>\n",
              "      <td>0</td>\n",
              "    </tr>\n",
              "    <tr>\n",
              "      <th>3</th>\n",
              "      <td>2</td>\n",
              "      <td>0</td>\n",
              "      <td>0</td>\n",
              "      <td>0</td>\n",
              "      <td>0</td>\n",
              "      <td>0</td>\n",
              "      <td>0</td>\n",
              "      <td>0</td>\n",
              "      <td>0</td>\n",
              "      <td>0</td>\n",
              "      <td>...</td>\n",
              "      <td>137</td>\n",
              "      <td>126</td>\n",
              "      <td>140</td>\n",
              "      <td>0</td>\n",
              "      <td>133</td>\n",
              "      <td>224</td>\n",
              "      <td>222</td>\n",
              "      <td>56</td>\n",
              "      <td>0</td>\n",
              "      <td>0</td>\n",
              "    </tr>\n",
              "    <tr>\n",
              "      <th>4</th>\n",
              "      <td>3</td>\n",
              "      <td>0</td>\n",
              "      <td>0</td>\n",
              "      <td>0</td>\n",
              "      <td>0</td>\n",
              "      <td>0</td>\n",
              "      <td>0</td>\n",
              "      <td>0</td>\n",
              "      <td>0</td>\n",
              "      <td>0</td>\n",
              "      <td>...</td>\n",
              "      <td>0</td>\n",
              "      <td>0</td>\n",
              "      <td>0</td>\n",
              "      <td>0</td>\n",
              "      <td>0</td>\n",
              "      <td>0</td>\n",
              "      <td>0</td>\n",
              "      <td>0</td>\n",
              "      <td>0</td>\n",
              "      <td>0</td>\n",
              "    </tr>\n",
              "  </tbody>\n",
              "</table>\n",
              "<p>5 rows × 785 columns</p>\n",
              "</div>\n",
              "    <div class=\"colab-df-buttons\">\n",
              "\n",
              "  <div class=\"colab-df-container\">\n",
              "    <button class=\"colab-df-convert\" onclick=\"convertToInteractive('df-cd144b46-d950-4bc7-bf14-16a7817c4b7e')\"\n",
              "            title=\"Convert this dataframe to an interactive table.\"\n",
              "            style=\"display:none;\">\n",
              "\n",
              "  <svg xmlns=\"http://www.w3.org/2000/svg\" height=\"24px\" viewBox=\"0 -960 960 960\">\n",
              "    <path d=\"M120-120v-720h720v720H120Zm60-500h600v-160H180v160Zm220 220h160v-160H400v160Zm0 220h160v-160H400v160ZM180-400h160v-160H180v160Zm440 0h160v-160H620v160ZM180-180h160v-160H180v160Zm440 0h160v-160H620v160Z\"/>\n",
              "  </svg>\n",
              "    </button>\n",
              "\n",
              "  <style>\n",
              "    .colab-df-container {\n",
              "      display:flex;\n",
              "      gap: 12px;\n",
              "    }\n",
              "\n",
              "    .colab-df-convert {\n",
              "      background-color: #E8F0FE;\n",
              "      border: none;\n",
              "      border-radius: 50%;\n",
              "      cursor: pointer;\n",
              "      display: none;\n",
              "      fill: #1967D2;\n",
              "      height: 32px;\n",
              "      padding: 0 0 0 0;\n",
              "      width: 32px;\n",
              "    }\n",
              "\n",
              "    .colab-df-convert:hover {\n",
              "      background-color: #E2EBFA;\n",
              "      box-shadow: 0px 1px 2px rgba(60, 64, 67, 0.3), 0px 1px 3px 1px rgba(60, 64, 67, 0.15);\n",
              "      fill: #174EA6;\n",
              "    }\n",
              "\n",
              "    .colab-df-buttons div {\n",
              "      margin-bottom: 4px;\n",
              "    }\n",
              "\n",
              "    [theme=dark] .colab-df-convert {\n",
              "      background-color: #3B4455;\n",
              "      fill: #D2E3FC;\n",
              "    }\n",
              "\n",
              "    [theme=dark] .colab-df-convert:hover {\n",
              "      background-color: #434B5C;\n",
              "      box-shadow: 0px 1px 3px 1px rgba(0, 0, 0, 0.15);\n",
              "      filter: drop-shadow(0px 1px 2px rgba(0, 0, 0, 0.3));\n",
              "      fill: #FFFFFF;\n",
              "    }\n",
              "  </style>\n",
              "\n",
              "    <script>\n",
              "      const buttonEl =\n",
              "        document.querySelector('#df-cd144b46-d950-4bc7-bf14-16a7817c4b7e button.colab-df-convert');\n",
              "      buttonEl.style.display =\n",
              "        google.colab.kernel.accessAllowed ? 'block' : 'none';\n",
              "\n",
              "      async function convertToInteractive(key) {\n",
              "        const element = document.querySelector('#df-cd144b46-d950-4bc7-bf14-16a7817c4b7e');\n",
              "        const dataTable =\n",
              "          await google.colab.kernel.invokeFunction('convertToInteractive',\n",
              "                                                    [key], {});\n",
              "        if (!dataTable) return;\n",
              "\n",
              "        const docLinkHtml = 'Like what you see? Visit the ' +\n",
              "          '<a target=\"_blank\" href=https://colab.research.google.com/notebooks/data_table.ipynb>data table notebook</a>'\n",
              "          + ' to learn more about interactive tables.';\n",
              "        element.innerHTML = '';\n",
              "        dataTable['output_type'] = 'display_data';\n",
              "        await google.colab.output.renderOutput(dataTable, element);\n",
              "        const docLink = document.createElement('div');\n",
              "        docLink.innerHTML = docLinkHtml;\n",
              "        element.appendChild(docLink);\n",
              "      }\n",
              "    </script>\n",
              "  </div>\n",
              "\n",
              "\n",
              "<div id=\"df-f021740c-f209-4b2e-8329-84930a2b9f4c\">\n",
              "  <button class=\"colab-df-quickchart\" onclick=\"quickchart('df-f021740c-f209-4b2e-8329-84930a2b9f4c')\"\n",
              "            title=\"Suggest charts\"\n",
              "            style=\"display:none;\">\n",
              "\n",
              "<svg xmlns=\"http://www.w3.org/2000/svg\" height=\"24px\"viewBox=\"0 0 24 24\"\n",
              "     width=\"24px\">\n",
              "    <g>\n",
              "        <path d=\"M19 3H5c-1.1 0-2 .9-2 2v14c0 1.1.9 2 2 2h14c1.1 0 2-.9 2-2V5c0-1.1-.9-2-2-2zM9 17H7v-7h2v7zm4 0h-2V7h2v10zm4 0h-2v-4h2v4z\"/>\n",
              "    </g>\n",
              "</svg>\n",
              "  </button>\n",
              "\n",
              "<style>\n",
              "  .colab-df-quickchart {\n",
              "      --bg-color: #E8F0FE;\n",
              "      --fill-color: #1967D2;\n",
              "      --hover-bg-color: #E2EBFA;\n",
              "      --hover-fill-color: #174EA6;\n",
              "      --disabled-fill-color: #AAA;\n",
              "      --disabled-bg-color: #DDD;\n",
              "  }\n",
              "\n",
              "  [theme=dark] .colab-df-quickchart {\n",
              "      --bg-color: #3B4455;\n",
              "      --fill-color: #D2E3FC;\n",
              "      --hover-bg-color: #434B5C;\n",
              "      --hover-fill-color: #FFFFFF;\n",
              "      --disabled-bg-color: #3B4455;\n",
              "      --disabled-fill-color: #666;\n",
              "  }\n",
              "\n",
              "  .colab-df-quickchart {\n",
              "    background-color: var(--bg-color);\n",
              "    border: none;\n",
              "    border-radius: 50%;\n",
              "    cursor: pointer;\n",
              "    display: none;\n",
              "    fill: var(--fill-color);\n",
              "    height: 32px;\n",
              "    padding: 0;\n",
              "    width: 32px;\n",
              "  }\n",
              "\n",
              "  .colab-df-quickchart:hover {\n",
              "    background-color: var(--hover-bg-color);\n",
              "    box-shadow: 0 1px 2px rgba(60, 64, 67, 0.3), 0 1px 3px 1px rgba(60, 64, 67, 0.15);\n",
              "    fill: var(--button-hover-fill-color);\n",
              "  }\n",
              "\n",
              "  .colab-df-quickchart-complete:disabled,\n",
              "  .colab-df-quickchart-complete:disabled:hover {\n",
              "    background-color: var(--disabled-bg-color);\n",
              "    fill: var(--disabled-fill-color);\n",
              "    box-shadow: none;\n",
              "  }\n",
              "\n",
              "  .colab-df-spinner {\n",
              "    border: 2px solid var(--fill-color);\n",
              "    border-color: transparent;\n",
              "    border-bottom-color: var(--fill-color);\n",
              "    animation:\n",
              "      spin 1s steps(1) infinite;\n",
              "  }\n",
              "\n",
              "  @keyframes spin {\n",
              "    0% {\n",
              "      border-color: transparent;\n",
              "      border-bottom-color: var(--fill-color);\n",
              "      border-left-color: var(--fill-color);\n",
              "    }\n",
              "    20% {\n",
              "      border-color: transparent;\n",
              "      border-left-color: var(--fill-color);\n",
              "      border-top-color: var(--fill-color);\n",
              "    }\n",
              "    30% {\n",
              "      border-color: transparent;\n",
              "      border-left-color: var(--fill-color);\n",
              "      border-top-color: var(--fill-color);\n",
              "      border-right-color: var(--fill-color);\n",
              "    }\n",
              "    40% {\n",
              "      border-color: transparent;\n",
              "      border-right-color: var(--fill-color);\n",
              "      border-top-color: var(--fill-color);\n",
              "    }\n",
              "    60% {\n",
              "      border-color: transparent;\n",
              "      border-right-color: var(--fill-color);\n",
              "    }\n",
              "    80% {\n",
              "      border-color: transparent;\n",
              "      border-right-color: var(--fill-color);\n",
              "      border-bottom-color: var(--fill-color);\n",
              "    }\n",
              "    90% {\n",
              "      border-color: transparent;\n",
              "      border-bottom-color: var(--fill-color);\n",
              "    }\n",
              "  }\n",
              "</style>\n",
              "\n",
              "  <script>\n",
              "    async function quickchart(key) {\n",
              "      const quickchartButtonEl =\n",
              "        document.querySelector('#' + key + ' button');\n",
              "      quickchartButtonEl.disabled = true;  // To prevent multiple clicks.\n",
              "      quickchartButtonEl.classList.add('colab-df-spinner');\n",
              "      try {\n",
              "        const charts = await google.colab.kernel.invokeFunction(\n",
              "            'suggestCharts', [key], {});\n",
              "      } catch (error) {\n",
              "        console.error('Error during call to suggestCharts:', error);\n",
              "      }\n",
              "      quickchartButtonEl.classList.remove('colab-df-spinner');\n",
              "      quickchartButtonEl.classList.add('colab-df-quickchart-complete');\n",
              "    }\n",
              "    (() => {\n",
              "      let quickchartButtonEl =\n",
              "        document.querySelector('#df-f021740c-f209-4b2e-8329-84930a2b9f4c button');\n",
              "      quickchartButtonEl.style.display =\n",
              "        google.colab.kernel.accessAllowed ? 'block' : 'none';\n",
              "    })();\n",
              "  </script>\n",
              "</div>\n",
              "    </div>\n",
              "  </div>\n"
            ],
            "application/vnd.google.colaboratory.intrinsic+json": {
              "type": "dataframe",
              "variable_name": "data"
            }
          },
          "metadata": {},
          "execution_count": 2
        }
      ]
    },
    {
      "cell_type": "code",
      "source": [
        "print(data.shape)   # (N, D + 1) (one column is the label column)"
      ],
      "metadata": {
        "id": "2MzrHvzirEsc",
        "colab": {
          "base_uri": "https://localhost:8080/"
        },
        "outputId": "5ab1d07e-7132-4650-eed7-a8a5f39a6e48"
      },
      "execution_count": 3,
      "outputs": [
        {
          "output_type": "stream",
          "name": "stdout",
          "text": [
            "(8000, 785)\n"
          ]
        }
      ]
    },
    {
      "cell_type": "markdown",
      "source": [
        "In the following cell, transform the DataFrame data to 2 NumPy arrays X and y, where X is the data matrix with 784 pixels per row. y should be a NumPy vector of the labels. From the cell above, we see that there are 8,000 samples to work with. Each sample has 784 features, or pixels, where the first column, \"label\", is the label of that sample. The final shape of X should be `(8000, 784)` and y should be `(8000, )`."
      ],
      "metadata": {
        "id": "Hv49eFRJqvZ4"
      }
    },
    {
      "cell_type": "code",
      "source": [
        "### YOUR CODE HERE\n",
        "y = np.array(data['label'])\n",
        "X = np.array(data[data.columns[1:]].values)\n",
        "print(X.shape)\n",
        "print(y.shape)"
      ],
      "metadata": {
        "id": "cg824aI6qehg",
        "colab": {
          "base_uri": "https://localhost:8080/"
        },
        "outputId": "cea9caa9-99b2-4775-b012-af49f01604ee"
      },
      "execution_count": 3,
      "outputs": [
        {
          "output_type": "stream",
          "name": "stdout",
          "text": [
            "(8000, 784)\n",
            "(8000,)\n"
          ]
        }
      ]
    },
    {
      "cell_type": "markdown",
      "source": [
        "Let's quickly visualize some samples. You should see some images of clothes and the correct labels if you implemented the above cell correctly."
      ],
      "metadata": {
        "id": "L8pXuVsesIks"
      }
    },
    {
      "cell_type": "code",
      "source": [
        "import matplotlib.pyplot as plt\n",
        "\n",
        "labels = [\"T-Shirt/Top\", \"Trouser\", \"Pullover\", \"Dress\", \"Coat\", \"Sandal\", \"Shirt\", \"Sneaker\", \"Bag\", \"Boot\"]\n",
        "\n",
        "def show_image_labels(img, label):\n",
        "    plt.imshow(img.reshape(28, 28))\n",
        "    plt.title(labels[label])\n",
        "    plt.show()\n",
        "\n",
        "for i in range(5):\n",
        "    show_image_labels(X[i], y[i])"
      ],
      "metadata": {
        "id": "kUakZ4dyq_yj",
        "colab": {
          "base_uri": "https://localhost:8080/",
          "height": 1000
        },
        "outputId": "2b31c451-bc3c-43b7-bbab-a3418228b72c"
      },
      "execution_count": 5,
      "outputs": [
        {
          "output_type": "display_data",
          "data": {
            "text/plain": [
              "<Figure size 640x480 with 1 Axes>"
            ],
            "image/png": "[encoded data removed]"
          },
          "metadata": {}
        },
        {
          "output_type": "display_data",
          "data": {
            "text/plain": [
              "<Figure size 640x480 with 1 Axes>"
            ],
            "image/png": "[encoded data removed]"
          },
          "metadata": {}
        },
        {
          "output_type": "display_data",
          "data": {
            "text/plain": [
              "<Figure size 640x480 with 1 Axes>"
            ],
            "image/png": "[encoded data removed]"
          },
          "metadata": {}
        },
        {
          "output_type": "display_data",
          "data": {
            "text/plain": [
              "<Figure size 640x480 with 1 Axes>"
            ],
            "image/png": "[encoded data removed]"
          },
          "metadata": {}
        },
        {
          "output_type": "display_data",
          "data": {
            "text/plain": [
              "<Figure size 640x480 with 1 Axes>"
            ],
            "image/png": "[encoded data removed]"
          },
          "metadata": {}
        }
      ]
    },
    {
      "cell_type": "markdown",
      "source": [
        "Now, we will build our first neural network!"
      ],
      "metadata": {
        "id": "dTxzqTEYtkYZ"
      }
    },
    {
      "cell_type": "code",
      "source": [
        "class Sample_Network(nn.Module):\n",
        "    def __init__(self):\n",
        "        super().__init__()\n",
        "        # TODO\n",
        "        input_dim =  784    # what should be the input dimension? what are we feeding the network?\n",
        "        output_dim = len(np.unique(y))    # what should be the output dimension? what do we want from the network after running model(), or also known as model.forward()?\n",
        "        self.input_layer = nn.Linear(input_dim, 126)\n",
        "        self.hidden_layer = nn.Linear(126, 256)\n",
        "        self.output_layer = nn.Linear(256, output_dim)\n",
        "\n",
        "    # self.forward is the main function that you will run your model with!\n",
        "    # model(X) is equivalent as model.forward(X).\n",
        "    # you will see how it's used in just a bit!\n",
        "    # nothing to implement here - an example of how you the forward method works\n",
        "    # as you can see, X is first passed into the input layer, then a non-linearity ReLU\n",
        "    # then, the hidden layer followed by a non-linearity ReLU\n",
        "    # in the end, the output_layer produces a logit matrix based on how many classes\n",
        "    # we want it to classify\n",
        "    def forward(self, X):\n",
        "        X = self.input_layer(X)\n",
        "        X = F.relu(X)\n",
        "        X = self.hidden_layer(X)\n",
        "        X = F.relu(X)\n",
        "        logits = self.output_layer(X)\n",
        "        return logits\n",
        "\n",
        "    # we will create our own function to help with prediction\n",
        "    # we will utilize F.softmax and torch.argmax!\n",
        "    def classify(self, X):\n",
        "        \"\"\"\n",
        "        Q:  create a function classify that will take in X data points and produce\n",
        "            the predicted classification of these points.\n",
        "\n",
        "        HINT: use torch.softmax() and torch.argmax()! you NEED them.\n",
        "\n",
        "        Inputs\n",
        "        - X: the torch.tensor matrix to be classified with shape (N, D)\n",
        "\n",
        "        Outputs\n",
        "        - labels: a torch.tensor with the shape (N, ), each item being X[i]'s\n",
        "                  classification prediction\n",
        "        \"\"\"\n",
        "        #X = torch.tensor(X).type(torch.float32)     # enforce smooth-running with the model\n",
        "        logits = self.forward(X)\n",
        "        Softmax_f = nn.Softmax(dim=1)\n",
        "        output = Softmax_f(logits)\n",
        "        labels = torch.argmax(output,dim=1)\n",
        "        return labels.type(torch.long)"
      ],
      "metadata": {
        "id": "c-8aNVErtHXc"
      },
      "execution_count": 4,
      "outputs": []
    },
    {
      "cell_type": "markdown",
      "source": [
        "Write code to transform X and y into Tensors. `X` needs to be of type `torch.float32` and `y` needs to be of type `torch.long`. Google how you can cast a tensor to some certain type with PyTorch."
      ],
      "metadata": {
        "id": "epYwFybOvIPw"
      }
    },
    {
      "cell_type": "code",
      "source": [
        "### YOUR CODE HERE\n",
        "X, y = torch.tensor(X, dtype = torch.float32), torch.tensor(y, dtype = torch.long)"
      ],
      "metadata": {
        "id": "XFZAMEgFvH2g"
      },
      "execution_count": 5,
      "outputs": []
    },
    {
      "cell_type": "markdown",
      "source": [
        "Let's instantiate our model and see what the outputs look like! It should look like (2, 10) because we fed in 2 samples and we're classifying one of the 10 possible classes!"
      ],
      "metadata": {
        "id": "z8Vrj4RHv5Hn"
      }
    },
    {
      "cell_type": "code",
      "source": [
        "model = Sample_Network()\n",
        "out = model(X[:2])\n",
        "print(out)\n",
        "print(out.shape)\n"
      ],
      "metadata": {
        "id": "xzkJUASct-rA",
        "colab": {
          "base_uri": "https://localhost:8080/"
        },
        "outputId": "382be03e-19fb-4bba-8c91-f653395fa3e2"
      },
      "execution_count": 13,
      "outputs": [
        {
          "output_type": "stream",
          "name": "stdout",
          "text": [
            "tensor([[-1.3513e+00,  8.0478e+00,  2.5925e+01, -7.7205e+00,  2.5792e-01,\n",
            "         -1.5724e+01, -1.2585e+01,  9.8523e+00,  1.1685e+01,  2.0281e-02],\n",
            "        [-3.4878e+00,  8.3312e+00,  2.3813e+01, -5.4268e+00, -3.0266e+00,\n",
            "         -1.2785e+00,  3.2331e+00,  1.1885e+01,  4.7932e+00, -1.0462e+01]],\n",
            "       grad_fn=<AddmmBackward0>)\n",
            "torch.Size([2, 10])\n"
          ]
        }
      ]
    },
    {
      "cell_type": "markdown",
      "source": [
        "If we apply softmax to the output, we get the probability distribution of each class!"
      ],
      "metadata": {
        "id": "hUl3IeKYwJTC"
      }
    },
    {
      "cell_type": "code",
      "source": [
        "preds = model.classify(X[:2])\n",
        "print(preds)    # the model thinks that the first 2 samples are these classes"
      ],
      "metadata": {
        "id": "CZcJ98WSwIbC",
        "colab": {
          "base_uri": "https://localhost:8080/"
        },
        "outputId": "278ca522-689a-49c5-99f0-be477c011cd3"
      },
      "execution_count": 14,
      "outputs": [
        {
          "output_type": "stream",
          "name": "stdout",
          "text": [
            "tensor([2, 2])\n"
          ]
        },
        {
          "output_type": "stream",
          "name": "stderr",
          "text": [
            "<ipython-input-12-bd72ae160ca4>:43: UserWarning: To copy construct from a tensor, it is recommended to use sourceTensor.clone().detach() or sourceTensor.clone().detach().requires_grad_(True), rather than torch.tensor(sourceTensor).\n",
            "  X = torch.tensor(X).type(torch.float32)     # enforce smooth-running with the model\n"
          ]
        }
      ]
    },
    {
      "cell_type": "code",
      "source": [
        "# let's see if the model is doing a good job\n",
        "show_image_labels(X[0], preds[0])       # this should be a T-shirt, not a shirt - they are two different classes\n",
        "show_image_labels(X[1], preds[1])"
      ],
      "metadata": {
        "id": "ZoRW9az6vEys",
        "colab": {
          "base_uri": "https://localhost:8080/",
          "height": 887
        },
        "outputId": "f4aa2fab-88d5-40d0-864c-e340913b007f"
      },
      "execution_count": 15,
      "outputs": [
        {
          "output_type": "display_data",
          "data": {
            "text/plain": [
              "<Figure size 640x480 with 1 Axes>"
            ],
            "image/png": "[encoded data removed]"
          },
          "metadata": {}
        },
        {
          "output_type": "display_data",
          "data": {
            "text/plain": [
              "<Figure size 640x480 with 1 Axes>"
            ],
            "image/png": "[encoded data removed]"
          },
          "metadata": {}
        }
      ]
    },
    {
      "cell_type": "markdown",
      "source": [
        "Technically, the first image is supposed to be a t-shirt, not a shirt, soooo the model got both wrong (if it somehow did it got lucky)... Why? Well, we haven't trained it yet! And that's our next section!"
      ],
      "metadata": {
        "id": "14PEE-Wpx6j5"
      }
    },
    {
      "cell_type": "markdown",
      "source": [
        "## Writing the Training Loop\n",
        "\n",
        "This is arguably one of the most important components of Deep Learning and PyTorch. We need to write our own training loop that will repeatedly train our model a number of epochs of times, based on our own specifications.\n",
        "\n",
        "A typical training loop will have the following structure:\n",
        "\n",
        "\n",
        "*   Take in the model and the data X_train, y_train, X_val, and y_val.\n",
        "*   Take in hyperparameters such as learning rate, batch size, optimizer, schedulers, etc.\n",
        "*   Iterate through the epochs\n",
        "*   Each epoch, iterate through the batches and keep track of the losses and the metrics of choice (accuracy in our case)."
      ],
      "metadata": {
        "id": "1nnMk8NIyGnX"
      }
    },
    {
      "cell_type": "code",
      "source": [
        "from sklearn.metrics import accuracy_score\n",
        "\n",
        "def train(model, X_train, y_train, X_val, y_val, epochs=15, batch_size=32, lr=1e-3):\n",
        "    \"\"\"\n",
        "    Q:  write the training loop following the schema shown above.\n",
        "\n",
        "    Inputs\n",
        "    - model: the model to be trained - a PyTorch nn.Module class object\n",
        "    - X_train, y_train, X_val, y_val: training and validation data\n",
        "    - epochs: num epochs, or the number of times we want to run through the entire training data\n",
        "    - batch_size: number of data points per batch\n",
        "    - lr: learning rate\n",
        "    - optimizer: optimizer used\n",
        "\n",
        "    Outputs\n",
        "    - losses: a list of losses\n",
        "    - accuracies: a list of validation accuracies\n",
        "    - train_accs: a list of training accuracies\n",
        "    \"\"\"\n",
        "    if len(y_train)%batch_size == 0: # using batch_size, determine the number of batches needed\n",
        "      batches = len(y_train) / batch_size\n",
        "    else:\n",
        "      batches = len(y_train) // batch_size + 1\n",
        "\n",
        "    loss_fn = nn.CrossEntropyLoss()                             # read the write-up for an explanation on CrossEntropyLoss()\n",
        "    optimizer = torch.optim.Adam(model.parameters(), lr=lr)     # read the write-up for an explanation on Adam\n",
        "    scheduler = torch.optim.lr_scheduler.StepLR(optimizer, step_size=5, gamma=0.1)\n",
        "\n",
        "    losses = []\n",
        "    train_accs = []\n",
        "    accuracies = []\n",
        "\n",
        "    for epoch in range(epochs):\n",
        "      idx_shuffled = np.random.permutation(len(y_train))\n",
        "      X_train = X_train.clone().detach()[idx_shuffled,:]\n",
        "      y_train = y_train.clone().detach()[idx_shuffled]\n",
        "      for i in range(batches):\n",
        "\n",
        "        if len(y_train)%batch_size == 0:\n",
        "          X_batch = X_train.clone().detach()[i*batch_size:(i+1)*batch_size]\n",
        "          y_batch = y_train.clone().detach()[i*batch_size:(i+1)*batch_size]\n",
        "        else:\n",
        "          if i < batches-1:\n",
        "            X_batch = X_train.clone().detach()[i*batch_size:(i+1)*batch_size]\n",
        "            y_batch = y_train.clone().detach()[i*batch_size:(i+1)*batch_size]\n",
        "          else:\n",
        "            X_batch = X_train.clone().detach()[i*batch_size:]\n",
        "            y_batch = y_train.clone().detach()[i*batch_size:]\n",
        "\n",
        "\n",
        "\n",
        "        logits = model(X_batch)\n",
        "\n",
        "        loss = loss_fn(logits, y_batch)\n",
        "            # these 3 functions will follow you whenever you train a model with PyTorch\n",
        "        optimizer.zero_grad()   # erases the gradients from the previous epoch (sets all gradients to 0)\n",
        "        loss.backward()         # calculates the gradients with respect to every single weight matrix in the model\n",
        "        optimizer.step()        # takes ONE learning step with the gradients just calculated\n",
        "\n",
        "        # feel free to use sklearn's accuracy_score function\n",
        "        # calculate the training accuracy\n",
        "        preds = model.classify(X_batch)\n",
        "\n",
        "        accuracy_score_training = accuracy_score(y_batch,preds)\n",
        "        # calculate the validation accuracy and append the loss of this epoch\n",
        "        preds_validation = model.classify(X_val)\n",
        "        accuracy_score_validation = accuracy_score(y_val,preds_validation)\n",
        "        losses.append(loss)\n",
        "        train_accs.append(accuracy_score_training)\n",
        "        accuracies.append(accuracy_score_validation)\n",
        "        # print epoch, loss, and current test accuracy\n",
        "      #scheduler.step()\n",
        "      print(f\"Epoch {epoch}:\\tloss {loss} & accuracy {accuracies[-1]}\")\n",
        "\n",
        "    return losses, accuracies, train_accs\n"
      ],
      "metadata": {
        "id": "dEQ3JOj_xWj5"
      },
      "execution_count": 6,
      "outputs": []
    },
    {
      "cell_type": "markdown",
      "source": [
        "If you implemented the above code `Sample_Network` and `train()` correctly, you should see close to a 0.79-0.80 accuracy."
      ],
      "metadata": {
        "id": "Y6YVQTtqoiWH"
      }
    },
    {
      "cell_type": "code",
      "source": [
        "model = Sample_Network()\n",
        "losses, accuracies, train_accs = train(model, X[:7000], y[:7000], X[7000:], y[7000:], epochs=5)"
      ],
      "metadata": {
        "id": "YXz0CsoqzFlZ",
        "colab": {
          "base_uri": "https://localhost:8080/"
        },
        "outputId": "8adcf309-6a48-438a-e957-93d29cbb5187"
      },
      "execution_count": 30,
      "outputs": [
        {
          "output_type": "stream",
          "name": "stdout",
          "text": [
            "Epoch 0:\tloss 0.6826253533363342 & accuracy 0.748\n",
            "Epoch 1:\tloss 0.5021454691886902 & accuracy 0.781\n",
            "Epoch 2:\tloss 0.576554000377655 & accuracy 0.806\n",
            "Epoch 3:\tloss 0.5763375163078308 & accuracy 0.806\n",
            "Epoch 4:\tloss 0.6231712698936462 & accuracy 0.794\n"
          ]
        }
      ]
    },
    {
      "cell_type": "code",
      "source": [
        "# Let's see how much the model has learned\n",
        "preds = model.classify(X[:5])\n",
        "for i in range(5):\n",
        "    show_image_labels(X[i], preds[i])"
      ],
      "metadata": {
        "id": "PUK5BZ8d1jSy",
        "colab": {
          "base_uri": "https://localhost:8080/",
          "height": 1000
        },
        "outputId": "80740f24-b0e6-4668-8a6c-a17a5ef87624"
      },
      "execution_count": 31,
      "outputs": [
        {
          "output_type": "display_data",
          "data": {
            "text/plain": [
              "<Figure size 640x480 with 1 Axes>"
            ],
            "image/png": "[encoded data removed]"
          },
          "metadata": {}
        },
        {
          "output_type": "display_data",
          "data": {
            "text/plain": [
              "<Figure size 640x480 with 1 Axes>"
            ],
            "image/png": "[encoded data removed]"
          },
          "metadata": {}
        },
        {
          "output_type": "display_data",
          "data": {
            "text/plain": [
              "<Figure size 640x480 with 1 Axes>"
            ],
            "image/png": "[encoded data removed]"
          },
          "metadata": {}
        },
        {
          "output_type": "display_data",
          "data": {
            "text/plain": [
              "<Figure size 640x480 with 1 Axes>"
            ],
            "image/png": "[encoded data removed]"
          },
          "metadata": {}
        },
        {
          "output_type": "display_data",
          "data": {
            "text/plain": [
              "<Figure size 640x480 with 1 Axes>"
            ],
            "image/png": "[encoded data removed]"
          },
          "metadata": {}
        }
      ]
    },
    {
      "cell_type": "markdown",
      "source": [
        "Compared to what we had earlier, the model clearly learned *something*. It is currently able to differentiate among different images of clothes with an 80% accuracy!"
      ],
      "metadata": {
        "id": "RbHKFFHj3k4s"
      }
    },
    {
      "cell_type": "markdown",
      "source": [
        "## Build Your Own Model\n",
        "\n",
        "Now, fill in the following class and make your own neural network model that can classify the clothes with a validation accuracy of 90%!\n",
        "\n",
        "Using the previous `Sample_Network` as an example, please implement `My_Network`, a class that is able to produce `num_layers` of hidden layers (NOT including the input and the output layers) where each hidden layer has `hidden_size` units. Additionally, please **add one or more extra features** to boost your performance. Some inspirations: adding Dropout() layers, Batchnorm() layers, normalize inputs, learning rate schedulers, etc.\n",
        "\n",
        "When you're done with this section, click on the folder icon to your left (for those using Google Colab), and you should be able to download `my_model.pt` and `predictions.npy` - the 2 files you will submit to Gradescope."
      ],
      "metadata": {
        "id": "xfvSgdCR38_s"
      }
    },
    {
      "cell_type": "code",
      "source": [
        "class My_Network(nn.Module):\n",
        "    def __init__(self, num_layers, hidden_size):\n",
        "        super().__init__()\n",
        "        input_dim =  784    # what should be the input dimension? what are we feeding the network?\n",
        "        output_dim = len(np.unique(y))    # what should be the output dimension? what do we want from the network after running model(), or also known as model.forward()?\n",
        "        self.normal_layer = nn.BatchNorm1d(input_dim,affine=False)\n",
        "        self.drop_out_layer = nn.Dropout(p=0.4)\n",
        "        self.input_layer = nn.Linear(input_dim, 128)\n",
        "        self.hidden_layer_1 = nn.Linear(128, hidden_size)\n",
        "        self.hidden_layers = nn.Linear(hidden_size,hidden_size)\n",
        "        self.output_layer = nn.Linear(hidden_size, output_dim)\n",
        "        self.num_layers = num_layers\n",
        "        self.hidden_size = hidden_size\n",
        "    def forward(self, X):\n",
        "        X = X/255\n",
        "        X = self.input_layer(X)\n",
        "        X = F.relu(X)\n",
        "        for h in range(self.num_layers):\n",
        "          if h==0:\n",
        "            X = self.hidden_layer_1(X)\n",
        "            X = self.drop_out_layer(X)\n",
        "            X = F.relu(X)\n",
        "          else:\n",
        "            X = self.hidden_layers(X)\n",
        "            X = F.relu(X)\n",
        "        logits = self.output_layer(X)\n",
        "        return logits\n",
        "\n",
        "    def classify(self, X):\n",
        "        logits = self.forward(X)\n",
        "        Softmax_f = nn.Softmax(dim=1)\n",
        "        output = Softmax_f(logits)\n",
        "        labels = torch.argmax(output,dim=1)\n",
        "        return labels.type(torch.long)"
      ],
      "metadata": {
        "id": "Jm0xDDKP3h4S"
      },
      "execution_count": 7,
      "outputs": []
    },
    {
      "cell_type": "code",
      "source": [
        "my_model = My_Network(2,128)\n",
        "losses, accuracies, train_accs = train(my_model,X[:7000], y[:7000], X[7000:], y[7000:], epochs=20)"
      ],
      "metadata": {
        "id": "PAc_H2sn4X3e",
        "colab": {
          "base_uri": "https://localhost:8080/"
        },
        "outputId": "5690a0d5-fc21-44a4-b533-b60bc5c548b1"
      },
      "execution_count": 13,
      "outputs": [
        {
          "output_type": "stream",
          "name": "stdout",
          "text": [
            "Epoch 0:\tloss 0.7126479744911194 & accuracy 0.74\n",
            "Epoch 1:\tloss 0.33697831630706787 & accuracy 0.773\n",
            "Epoch 2:\tloss 0.4865693747997284 & accuracy 0.809\n",
            "Epoch 3:\tloss 0.2634104788303375 & accuracy 0.831\n",
            "Epoch 4:\tloss 0.27013352513313293 & accuracy 0.826\n",
            "Epoch 5:\tloss 0.3177729547023773 & accuracy 0.836\n",
            "Epoch 6:\tloss 0.2853599190711975 & accuracy 0.836\n",
            "Epoch 7:\tloss 0.25901713967323303 & accuracy 0.851\n",
            "Epoch 8:\tloss 0.07326146960258484 & accuracy 0.824\n",
            "Epoch 9:\tloss 0.1561521589756012 & accuracy 0.833\n",
            "Epoch 10:\tloss 0.28947046399116516 & accuracy 0.853\n",
            "Epoch 11:\tloss 0.11948728561401367 & accuracy 0.858\n",
            "Epoch 12:\tloss 0.41541388630867004 & accuracy 0.856\n",
            "Epoch 13:\tloss 0.10832370072603226 & accuracy 0.873\n",
            "Epoch 14:\tloss 0.18152029812335968 & accuracy 0.86\n",
            "Epoch 15:\tloss 0.728367269039154 & accuracy 0.853\n",
            "Epoch 16:\tloss 0.22633479535579681 & accuracy 0.871\n",
            "Epoch 17:\tloss 0.1858406811952591 & accuracy 0.874\n",
            "Epoch 18:\tloss 0.14951783418655396 & accuracy 0.863\n",
            "Epoch 19:\tloss 0.24932526051998138 & accuracy 0.875\n"
          ]
        }
      ]
    },
    {
      "cell_type": "code",
      "source": [
        "torch.save(my_model.state_dict(), \"./my_model.pt\")       # save your model - do NOT change the name of\n",
        "                                                                   # the model or else the autograder won't recognize it!"
      ],
      "metadata": {
        "id": "N63tBxAK4guN"
      },
      "execution_count": 14,
      "outputs": []
    },
    {
      "cell_type": "code",
      "source": [
        "def get_test_classifications(model, file_path):\n",
        "    test_df = pd.read_csv(file_path, sep=',')\n",
        "    X = test_df.values\n",
        "    X = torch.tensor(X).type(torch.float32)\n",
        "    out = model.classify(X)\n",
        "    np.save(\"predictions.npy\", out)\n",
        "    print(\"predictions.npy saved!\")\n",
        "\n",
        "get_test_classifications(my_model, \"./fashion_mnist_test.csv\")"
      ],
      "metadata": {
        "colab": {
          "base_uri": "https://localhost:8080/"
        },
        "id": "ecOZy7xdgcfs",
        "outputId": "fb74dd28-af57-4b95-ae45-70b57367425f"
      },
      "execution_count": 15,
      "outputs": [
        {
          "output_type": "stream",
          "name": "stdout",
          "text": [
            "predictions.npy saved!\n"
          ]
        }
      ]
    },
    {
      "cell_type": "markdown",
      "source": [
        "Graph out your training vs. validation accuracy. These values should be available after running your training loop."
      ],
      "metadata": {
        "id": "bdJEvqitkI3b"
      }
    },
    {
      "cell_type": "code",
      "source": [
        "def graph(accuracies, training_accs):\n",
        "    \"\"\"\n",
        "    Q:  graph out the accuracies and training accuracies.\n",
        "        make sure you label which curve is the validation/training accuracy.\n",
        "        labels and titles are required.\n",
        "\n",
        "    Inputs\n",
        "    - accuracies: list of floats with length epochs\n",
        "    - training_accs: list of floats with length epochs\n",
        "\n",
        "    Outputs\n",
        "    - None\n",
        "    \"\"\"\n",
        "    import matplotlib.pyplot as plt\n",
        "    plt.figure()\n",
        "    plt.subplot(2,1,1)\n",
        "    plt.plot(accuracies)\n",
        "    plt.subplot(2,1,2)\n",
        "    plt.plot(training_accs)\n",
        "    plt.legend([\"Validation accuracy\", \"Training accuracy\"])\n",
        "    plt.show()\n",
        "graph(accuracies,train_accs)\n"
      ],
      "metadata": {
        "id": "LlA4P5WKkShZ",
        "colab": {
          "base_uri": "https://localhost:8080/",
          "height": 430
        },
        "outputId": "64a3c6ac-bc8b-4488-f9b9-690746dc8f90"
      },
      "execution_count": 16,
      "outputs": [
        {
          "output_type": "display_data",
          "data": {
            "text/plain": [
              "<Figure size 640x480 with 2 Axes>"
            ],
            "image/png": "[encoded data removed]"
          },
          "metadata": {}
        }
      ]
    },
    {
      "cell_type": "markdown",
      "source": [
        "## Short report\n",
        "\n",
        "\n",
        "1.   What extra feature did you end up implementing? Why? Did it improve model performance?\n",
        "2.   What did you observe after plotting the training and validation accuracy? Were there any overfitting or underfitting?\n",
        "\n",
        "\n",
        "Your response:\n",
        "\n",
        "\n",
        "\n",
        "1.   I used dropout layer, and normalization. dropout layers help because they reduce model complexity and prevent overfitting. Normalization also ensures that the absolute value of pixel intensity does not shift the gradients but rather the relative difference does.\n",
        "2.   We can see that the validation accuracy is a lot noisier, which shows that there is some overfitting. However, the average validation accuracy seems to be increasing monotonically, indicating minimal overfitting.\n",
        "\n",
        "\n"
      ],
      "metadata": {
        "id": "GSYN_7gOksTt"
      }
    },
    {
      "cell_type": "markdown",
      "source": [
        "## Conclusion\n",
        "\n",
        "We have explored the very fundamentals of PyTorch in this homework, and the tools we have currently worked with is only the tip of the iceberg! In our next homework, we will do some heavy convolutional neural networks and learn how we can send our model to the GPU for a dramatically faster training time."
      ],
      "metadata": {
        "id": "m45By_XzlKjl"
      }
    }
  ]
}