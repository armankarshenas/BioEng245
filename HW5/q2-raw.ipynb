{
 "cells": [
  {
   "cell_type": "markdown",
   "metadata": {
    "id": "grF7sAQBffrg"
   },
   "source": [
    "# Homework 5 Q2\n",
    "\n",
    "Up to this point, we have created our own models and practiced implementing existing machine learning techniques and derivations. It is now time to move on to more recent advancements of machine learning–Deep Learning. In this homework, I will demonstrate how PyTorch can be used and some common and useful functionalities. In the end, you will be required to create your own model that will be trained on a dataset."
   ]
  },
  {
   "cell_type": "markdown",
   "metadata": {
    "id": "7MxDWa8ZgJjh"
   },
   "source": [
    "## PyTorch Tensors\n",
    "\n",
    "We have made you practice NumPy extensively over the past few weeks: to understand the functions, the dimensions, and the axes. In PyTorch, the package doesn't like to work with NumPy objects. Instead, it works with its own version of NumPy called Torch.Tensors. Torch.Tensor is extremely similar to NumPy and we will show it here.\n",
    "\n",
    "Let's make a random matrix to play with."
   ]
  },
  {
   "cell_type": "code",
   "execution_count": 1,
   "metadata": {
    "id": "yAurHyHnfdk6"
   },
   "outputs": [
    {
     "data": {
      "text/plain": [
       "tensor([[0.4926, 0.8126, 0.1739, 0.2005, 0.3975, 0.9341, 0.4231, 0.8817],\n",
       "        [0.9973, 0.6619, 0.7940, 0.1367, 0.4055, 0.5646, 0.7181, 0.0713],\n",
       "        [0.5828, 0.5240, 0.5800, 0.6917, 0.4520, 0.0243, 0.1969, 0.1158],\n",
       "        [0.2217, 0.4654, 0.9285, 0.2143, 0.0212, 0.9477, 0.1431, 0.8540],\n",
       "        [0.3014, 0.0227, 0.6291, 0.1657, 0.0378, 0.0395, 0.9666, 0.8135]])"
      ]
     },
     "execution_count": 1,
     "metadata": {},
     "output_type": "execute_result"
    }
   ],
   "source": [
    "import torch\n",
    "import numpy as np\n",
    "\n",
    "X = torch.rand(5, 8)\n",
    "X"
   ]
  },
  {
   "cell_type": "markdown",
   "metadata": {
    "id": "5_fl1IKxiAk1"
   },
   "source": [
    "We can easily create the NumPy object of the same tensor using the `.numpy()` method.\n",
    "\n"
   ]
  },
  {
   "cell_type": "code",
   "execution_count": 2,
   "metadata": {
    "id": "HI0TkbDMhgWS"
   },
   "outputs": [
    {
     "name": "stdout",
     "output_type": "stream",
     "text": [
      "[[0.49261826 0.8125706  0.1738962  0.20051515 0.39749187 0.9341345\n",
      "  0.42312074 0.8817445 ]\n",
      " [0.99732894 0.66194326 0.7940112  0.13668579 0.40550596 0.56455207\n",
      "  0.71813333 0.07130659]\n",
      " [0.58279926 0.5239914  0.57995385 0.6916895  0.45197195 0.02428818\n",
      "  0.19691205 0.11577028]\n",
      " [0.2216937  0.46539545 0.928455   0.21425349 0.02122015 0.9477283\n",
      "  0.14308006 0.8539637 ]\n",
      " [0.30137497 0.02269059 0.629136   0.16568184 0.03779954 0.03952229\n",
      "  0.96658    0.81354034]]\n",
      "<class 'numpy.ndarray'>\n"
     ]
    }
   ],
   "source": [
    "X_np = X.numpy()    # create a NumPy version of X\n",
    "print(X_np)\n",
    "print(type(X_np))"
   ]
  },
  {
   "cell_type": "markdown",
   "metadata": {
    "id": "ALcdk3BAiU3k"
   },
   "source": [
    "And change it back to Torch.Tensor by wrapping it around with torch.tensor()."
   ]
  },
  {
   "cell_type": "code",
   "execution_count": 3,
   "metadata": {
    "id": "RX3ob7vRgu6s"
   },
   "outputs": [
    {
     "name": "stdout",
     "output_type": "stream",
     "text": [
      "tensor([[0.4926, 0.8126, 0.1739, 0.2005, 0.3975, 0.9341, 0.4231, 0.8817],\n",
      "        [0.9973, 0.6619, 0.7940, 0.1367, 0.4055, 0.5646, 0.7181, 0.0713],\n",
      "        [0.5828, 0.5240, 0.5800, 0.6917, 0.4520, 0.0243, 0.1969, 0.1158],\n",
      "        [0.2217, 0.4654, 0.9285, 0.2143, 0.0212, 0.9477, 0.1431, 0.8540],\n",
      "        [0.3014, 0.0227, 0.6291, 0.1657, 0.0378, 0.0395, 0.9666, 0.8135]])\n",
      "Shape:\t torch.Size([5, 8])\n",
      "X.shape is still represented by a tuple:\t True\n",
      "Type:\t <class 'torch.Tensor'>\n"
     ]
    }
   ],
   "source": [
    "X = torch.tensor(X_np)\n",
    "print(X)\n",
    "print(\"Shape:\\t\", X.shape)\n",
    "print(\"X.shape is still represented by a tuple:\\t\", X.shape == (5, 8))\n",
    "print(\"Type:\\t\", type(X))"
   ]
  },
  {
   "cell_type": "markdown",
   "metadata": {
    "id": "HHzGObF8hMYt"
   },
   "source": [
    "Slicing works the same as NumPy as well."
   ]
  },
  {
   "cell_type": "code",
   "execution_count": 4,
   "metadata": {
    "id": "0Ika9wZIg7Rf"
   },
   "outputs": [
    {
     "name": "stdout",
     "output_type": "stream",
     "text": [
      "tensor([[0.7940, 0.1367, 0.4055],\n",
      "        [0.5800, 0.6917, 0.4520]])\n",
      "tensor([[0.4926, 0.8126, 0.1739, 0.2005, 0.3975, 0.9341, 0.4231, 0.8817],\n",
      "        [0.5828, 0.5240, 0.5800, 0.6917, 0.4520, 0.0243, 0.1969, 0.1158],\n",
      "        [0.3014, 0.0227, 0.6291, 0.1657, 0.0378, 0.0395, 0.9666, 0.8135]])\n"
     ]
    }
   ],
   "source": [
    "print(X[1:3, 2:5])      # certain section of the matrix\n",
    "print(X[[0, 2, 4], :])  # row 0, 2, and 4"
   ]
  },
  {
   "cell_type": "markdown",
   "metadata": {
    "id": "cgvrUbLKiuF6"
   },
   "source": [
    "Boolean slicing works the same as NumPy as well."
   ]
  },
  {
   "cell_type": "code",
   "execution_count": 5,
   "metadata": {
    "id": "R3t9qJexixaZ"
   },
   "outputs": [
    {
     "name": "stdout",
     "output_type": "stream",
     "text": [
      "tensor([[ True, False,  True,  True,  True, False,  True, False],\n",
      "        [False, False, False,  True,  True, False, False,  True],\n",
      "        [False, False, False, False,  True,  True,  True,  True],\n",
      "        [ True,  True, False,  True,  True, False,  True, False],\n",
      "        [ True,  True, False,  True,  True,  True, False, False]])\n",
      "tensor([[99.0000,  0.8126, 99.0000, 99.0000, 99.0000,  0.9341, 99.0000,  0.8817],\n",
      "        [ 0.9973,  0.6619,  0.7940, 99.0000, 99.0000,  0.5646,  0.7181, 99.0000],\n",
      "        [ 0.5828,  0.5240,  0.5800,  0.6917, 99.0000, 99.0000, 99.0000, 99.0000],\n",
      "        [99.0000, 99.0000,  0.9285, 99.0000, 99.0000,  0.9477, 99.0000,  0.8540],\n",
      "        [99.0000, 99.0000,  0.6291, 99.0000, 99.0000, 99.0000,  0.9666,  0.8135]])\n",
      "tensor([[0.4926, 0.8126, 0.1739, 0.2005, 0.3975, 0.9341, 0.4231, 0.8817],\n",
      "        [0.9973, 0.6619, 0.7940, 0.1367, 0.4055, 0.5646, 0.7181, 0.0713],\n",
      "        [0.5828, 0.5240, 0.5800, 0.6917, 0.4520, 0.0243, 0.1969, 0.1158],\n",
      "        [0.2217, 0.4654, 0.9285, 0.2143, 0.0212, 0.9477, 0.1431, 0.8540],\n",
      "        [0.3014, 0.0227, 0.6291, 0.1657, 0.0378, 0.0395, 0.9666, 0.8135]])\n"
     ]
    }
   ],
   "source": [
    "bool_idx = X < 0.5\n",
    "print(bool_idx)\n",
    "X_bool_filter = torch.clone(X)  # torch.clone() can help us deep copy a matrix so we don't accidentally modify the original copy\n",
    "X_bool_filter[bool_idx] = 99    # using the boolean slicing, we change the values less than 0.5 to 99\n",
    "print(torch.round(X_bool_filter, decimals=4))\n",
    "print(X)                        # notice how the original tensor is unchanged, that's why torch.clone() is important"
   ]
  },
  {
   "cell_type": "markdown",
   "metadata": {
    "id": "s2njEG_3hhRM"
   },
   "source": [
    "Of course, we have our favorite mean, var, and std functions.\n",
    "Now, the only difference between tensors and NumPy is that tensors use the keyword **dim** in place of NumPy's **axis**, like so."
   ]
  },
  {
   "cell_type": "code",
   "execution_count": 6,
   "metadata": {
    "id": "qfvKMNDfheLP"
   },
   "outputs": [
    {
     "name": "stdout",
     "output_type": "stream",
     "text": [
      "tensor(0.4651)\n",
      "tensor(0.1029)\n",
      "tensor(0.3208)\n"
     ]
    }
   ],
   "source": [
    "print(torch.mean(X))\n",
    "print(torch.var(X))\n",
    "print(torch.std(X))"
   ]
  },
  {
   "cell_type": "code",
   "execution_count": 7,
   "metadata": {
    "id": "ZA3m8JfRigLm"
   },
   "outputs": [
    {
     "name": "stdout",
     "output_type": "stream",
     "text": [
      "tensor([0.5192, 0.4973, 0.6211, 0.2818, 0.2628, 0.5020, 0.4896, 0.5473])\n",
      "tensor([0.0923, 0.0884, 0.0815, 0.0534, 0.0458, 0.2079, 0.1225, 0.1724])\n",
      "tensor([0.3039, 0.2973, 0.2855, 0.2311, 0.2141, 0.4559, 0.3500, 0.4152])\n"
     ]
    }
   ],
   "source": [
    "print(torch.mean(X, dim=0))\n",
    "print(torch.var(X, dim=0))\n",
    "print(torch.std(X, dim=0))"
   ]
  },
  {
   "cell_type": "markdown",
   "metadata": {
    "id": "NFSSgDexlFHK"
   },
   "source": [
    "Some linear algebra operations:\n"
   ]
  },
  {
   "cell_type": "code",
   "execution_count": 8,
   "metadata": {
    "id": "ACdPdLRtikn_"
   },
   "outputs": [
    {
     "name": "stdout",
     "output_type": "stream",
     "text": [
      "tensor([[1.7466, 2.0682, 2.2378],\n",
      "        [1.8856, 2.2058, 2.6644],\n",
      "        [1.4062, 1.7071, 1.9879],\n",
      "        [1.3405, 2.2530, 1.7363],\n",
      "        [1.5992, 1.7258, 1.8589]])\n",
      "tensor([[1.7466, 2.0682, 2.2378],\n",
      "        [1.8856, 2.2058, 2.6644],\n",
      "        [1.4062, 1.7071, 1.9879],\n",
      "        [1.3405, 2.2530, 1.7363],\n",
      "        [1.5992, 1.7258, 1.8589]])\n",
      "tensor([[1.7466, 2.0682, 2.2378],\n",
      "        [1.8856, 2.2058, 2.6644],\n",
      "        [1.4062, 1.7071, 1.9879],\n",
      "        [1.3405, 2.2530, 1.7363],\n",
      "        [1.5992, 1.7258, 1.8589]])\n",
      "torch.Size([5, 3])\n"
     ]
    }
   ],
   "source": [
    "Z = torch.rand(8, 3)\n",
    "# dot product - two ways of doing so (NumPy also takes @ for dot products)\n",
    "print(X @ Z)\n",
    "print(torch.matmul(X, Z))\n",
    "print(torch.einsum(\"ij,jk->ik\", [X, Z]))    # this is torch.einsum - not important for this class but a cool function regardless\n",
    "print((X @ Z).shape)"
   ]
  },
  {
   "cell_type": "markdown",
   "metadata": {
    "id": "-KMI-BxVmabm"
   },
   "source": [
    "Calculate eigenvectors and eigenvalues with PyTorch!"
   ]
  },
  {
   "cell_type": "code",
   "execution_count": 9,
   "metadata": {
    "id": "7Sgv_i1blZVi"
   },
   "outputs": [
    {
     "name": "stdout",
     "output_type": "stream",
     "text": [
      "torch.return_types.linalg_eig(\n",
      "eigenvalues=tensor([ 1.3754+0.0000j, -0.0321+0.2459j, -0.0321-0.2459j, -0.0276+0.0000j]),\n",
      "eigenvectors=tensor([[ 0.4345+0.0000j, -0.6736+0.0000j, -0.6736-0.0000j,  0.6331+0.0000j],\n",
      "        [ 0.2598+0.0000j,  0.3980-0.2397j,  0.3980+0.2397j, -0.6937+0.0000j],\n",
      "        [ 0.6749+0.0000j,  0.1476-0.4379j,  0.1476+0.4379j, -0.1578+0.0000j],\n",
      "        [ 0.5368+0.0000j, -0.0416+0.3392j, -0.0416-0.3392j,  0.3051+0.0000j]]))\n"
     ]
    }
   ],
   "source": [
    "X = torch.rand(4, 4)\n",
    "print(torch.linalg.eig(X))"
   ]
  },
  {
   "cell_type": "markdown",
   "metadata": {
    "id": "uKWZ-8ximfvr"
   },
   "source": [
    "## Neural Network 101\n",
    "\n",
    "Now, we will learn how to create our own neural networks using PyTorch. Our model is still pretty light since this is our first exposure to PyTorch. Next week, we will be learning how to train on models on GPU's to speed up training time!"
   ]
  },
  {
   "cell_type": "markdown",
   "metadata": {
    "id": "MaORQBHJn3Xw"
   },
   "source": [
    "Firstly, we will mount on Google Drive, so you can access your files from Google Drive like how you would access files from your local computer."
   ]
  },
  {
   "cell_type": "code",
   "execution_count": 13,
   "metadata": {
    "colab": {
     "base_uri": "https://localhost:8080/"
    },
    "id": "WTegbN2ZoXOT",
    "outputId": "00bd1503-96d6-48bd-bccf-9909a57ecd92"
   },
   "outputs": [
    {
     "name": "stdout",
     "output_type": "stream",
     "text": [
      "Collecting google-colab\n",
      "  Downloading google-colab-1.0.0.tar.gz (72 kB)\n",
      "\u001b[K     |████████████████████████████████| 72 kB 1.4 MB/s eta 0:00:011\n",
      "\u001b[?25hCollecting google-auth~=1.4.0\n",
      "  Downloading google_auth-1.4.2-py2.py3-none-any.whl (64 kB)\n",
      "\u001b[K     |████████████████████████████████| 64 kB 6.6 MB/s  eta 0:00:01\n",
      "\u001b[?25hCollecting ipykernel~=4.6.0\n",
      "  Downloading ipykernel-4.6.1-py3-none-any.whl (104 kB)\n",
      "\u001b[K     |████████████████████████████████| 104 kB 11.6 MB/s eta 0:00:01\n",
      "\u001b[?25hCollecting ipython~=5.5.0\n",
      "  Downloading ipython-5.5.0-py3-none-any.whl (758 kB)\n",
      "\u001b[K     |████████████████████████████████| 758 kB 14.4 MB/s eta 0:00:01\n",
      "\u001b[?25hCollecting notebook~=5.2.0\n",
      "  Downloading notebook-5.2.2-py2.py3-none-any.whl (8.0 MB)\n",
      "\u001b[K     |████████████████████████████████| 8.0 MB 7.3 MB/s eta 0:00:01\n",
      "\u001b[?25hCollecting six~=1.12.0\n",
      "  Downloading six-1.12.0-py2.py3-none-any.whl (10 kB)\n",
      "Collecting pandas~=0.24.0\n",
      "  Downloading pandas-0.24.2.tar.gz (11.8 MB)\n",
      "\u001b[K     |████████████████████████████████| 11.8 MB 8.4 MB/s eta 0:00:01\n",
      "\u001b[?25hCollecting portpicker~=1.2.0\n",
      "  Downloading portpicker-1.2.0.tar.gz (17 kB)\n",
      "Collecting requests~=2.21.0\n",
      "  Downloading requests-2.21.0-py2.py3-none-any.whl (57 kB)\n",
      "\u001b[K     |████████████████████████████████| 57 kB 6.8 MB/s  eta 0:00:01\n",
      "\u001b[?25hCollecting tornado~=4.5.0\n",
      "  Downloading tornado-4.5.3.tar.gz (484 kB)\n",
      "\u001b[K     |████████████████████████████████| 484 kB 10.0 MB/s eta 0:00:01\n",
      "\u001b[?25hRequirement already satisfied: pyasn1-modules>=0.2.1 in /Users/karshenas/opt/anaconda3/lib/python3.8/site-packages (from google-auth~=1.4.0->google-colab) (0.2.8)\n",
      "Requirement already satisfied: cachetools>=2.0.0 in /Users/karshenas/opt/anaconda3/lib/python3.8/site-packages (from google-auth~=1.4.0->google-colab) (4.2.0)\n",
      "Requirement already satisfied: rsa>=3.1.4 in /Users/karshenas/opt/anaconda3/lib/python3.8/site-packages (from google-auth~=1.4.0->google-colab) (4.6)\n",
      "Requirement already satisfied: traitlets>=4.1.0 in /Users/karshenas/opt/anaconda3/lib/python3.8/site-packages (from ipykernel~=4.6.0->google-colab) (4.3.3)\n",
      "Requirement already satisfied: jupyter-client in /Users/karshenas/opt/anaconda3/lib/python3.8/site-packages (from ipykernel~=4.6.0->google-colab) (6.1.6)\n",
      "Requirement already satisfied: appnope; sys_platform == \"darwin\" in /Users/karshenas/opt/anaconda3/lib/python3.8/site-packages (from ipython~=5.5.0->google-colab) (0.1.0)\n",
      "Requirement already satisfied: simplegeneric>0.8 in /Users/karshenas/opt/anaconda3/lib/python3.8/site-packages (from ipython~=5.5.0->google-colab) (0.8.1)\n",
      "Requirement already satisfied: decorator in /Users/karshenas/opt/anaconda3/lib/python3.8/site-packages (from ipython~=5.5.0->google-colab) (4.4.2)\n",
      "Requirement already satisfied: pygments in /Users/karshenas/opt/anaconda3/lib/python3.8/site-packages (from ipython~=5.5.0->google-colab) (2.6.1)\n",
      "Requirement already satisfied: setuptools>=18.5 in /Users/karshenas/opt/anaconda3/lib/python3.8/site-packages (from ipython~=5.5.0->google-colab) (49.2.0.post20200714)\n",
      "Collecting prompt-toolkit<2.0.0,>=1.0.4\n",
      "  Downloading prompt_toolkit-1.0.18-py3-none-any.whl (245 kB)\n",
      "\u001b[K     |████████████████████████████████| 245 kB 13.8 MB/s eta 0:00:01\n",
      "\u001b[?25hRequirement already satisfied: pickleshare in /Users/karshenas/opt/anaconda3/lib/python3.8/site-packages (from ipython~=5.5.0->google-colab) (0.7.5)\n",
      "Requirement already satisfied: pexpect; sys_platform != \"win32\" in /Users/karshenas/opt/anaconda3/lib/python3.8/site-packages (from ipython~=5.5.0->google-colab) (4.8.0)\n",
      "Requirement already satisfied: jinja2 in /Users/karshenas/opt/anaconda3/lib/python3.8/site-packages (from notebook~=5.2.0->google-colab) (2.11.2)\n",
      "Requirement already satisfied: jupyter-core in /Users/karshenas/opt/anaconda3/lib/python3.8/site-packages (from notebook~=5.2.0->google-colab) (4.6.3)\n",
      "Requirement already satisfied: ipython-genutils in /Users/karshenas/opt/anaconda3/lib/python3.8/site-packages (from notebook~=5.2.0->google-colab) (0.2.0)\n",
      "Requirement already satisfied: terminado>=0.3.3; sys_platform != \"win32\" in /Users/karshenas/opt/anaconda3/lib/python3.8/site-packages (from notebook~=5.2.0->google-colab) (0.8.3)\n",
      "Requirement already satisfied: nbformat in /Users/karshenas/opt/anaconda3/lib/python3.8/site-packages (from notebook~=5.2.0->google-colab) (5.0.7)\n",
      "Requirement already satisfied: nbconvert in /Users/karshenas/opt/anaconda3/lib/python3.8/site-packages (from notebook~=5.2.0->google-colab) (5.6.1)\n",
      "Requirement already satisfied: python-dateutil>=2.5.0 in /Users/karshenas/opt/anaconda3/lib/python3.8/site-packages (from pandas~=0.24.0->google-colab) (2.8.1)\n",
      "Requirement already satisfied: pytz>=2011k in /Users/karshenas/opt/anaconda3/lib/python3.8/site-packages (from pandas~=0.24.0->google-colab) (2020.1)\n",
      "Requirement already satisfied: numpy>=1.12.0 in /Users/karshenas/opt/anaconda3/lib/python3.8/site-packages (from pandas~=0.24.0->google-colab) (1.19.4)\n",
      "Requirement already satisfied: certifi>=2017.4.17 in /Users/karshenas/opt/anaconda3/lib/python3.8/site-packages (from requests~=2.21.0->google-colab) (2023.7.22)\n",
      "Collecting urllib3<1.25,>=1.21.1\n",
      "  Downloading urllib3-1.24.3-py2.py3-none-any.whl (118 kB)\n",
      "\u001b[K     |████████████████████████████████| 118 kB 10.4 MB/s eta 0:00:01\n",
      "\u001b[?25hCollecting idna<2.9,>=2.5\n",
      "  Downloading idna-2.8-py2.py3-none-any.whl (58 kB)\n",
      "\u001b[K     |████████████████████████████████| 58 kB 5.4 MB/s eta 0:00:01\n",
      "\u001b[?25hRequirement already satisfied: chardet<3.1.0,>=3.0.2 in /Users/karshenas/opt/anaconda3/lib/python3.8/site-packages (from requests~=2.21.0->google-colab) (3.0.4)\n",
      "Requirement already satisfied: pyasn1<0.5.0,>=0.4.6 in /Users/karshenas/opt/anaconda3/lib/python3.8/site-packages (from pyasn1-modules>=0.2.1->google-auth~=1.4.0->google-colab) (0.4.8)\n",
      "Requirement already satisfied: pyzmq>=13 in /Users/karshenas/opt/anaconda3/lib/python3.8/site-packages (from jupyter-client->ipykernel~=4.6.0->google-colab) (19.0.1)\n",
      "Requirement already satisfied: wcwidth in /Users/karshenas/opt/anaconda3/lib/python3.8/site-packages (from prompt-toolkit<2.0.0,>=1.0.4->ipython~=5.5.0->google-colab) (0.2.5)\n",
      "Requirement already satisfied: ptyprocess>=0.5 in /Users/karshenas/opt/anaconda3/lib/python3.8/site-packages (from pexpect; sys_platform != \"win32\"->ipython~=5.5.0->google-colab) (0.6.0)\n",
      "Requirement already satisfied: MarkupSafe>=0.23 in /Users/karshenas/opt/anaconda3/lib/python3.8/site-packages (from jinja2->notebook~=5.2.0->google-colab) (1.1.1)\n",
      "Requirement already satisfied: jsonschema!=2.5.0,>=2.4 in /Users/karshenas/opt/anaconda3/lib/python3.8/site-packages (from nbformat->notebook~=5.2.0->google-colab) (3.2.0)\n",
      "Requirement already satisfied: defusedxml in /Users/karshenas/opt/anaconda3/lib/python3.8/site-packages (from nbconvert->notebook~=5.2.0->google-colab) (0.6.0)\n",
      "Requirement already satisfied: bleach in /Users/karshenas/opt/anaconda3/lib/python3.8/site-packages (from nbconvert->notebook~=5.2.0->google-colab) (3.1.5)\n",
      "Requirement already satisfied: testpath in /Users/karshenas/opt/anaconda3/lib/python3.8/site-packages (from nbconvert->notebook~=5.2.0->google-colab) (0.4.4)\n",
      "Requirement already satisfied: pandocfilters>=1.4.1 in /Users/karshenas/opt/anaconda3/lib/python3.8/site-packages (from nbconvert->notebook~=5.2.0->google-colab) (1.4.2)\n",
      "Requirement already satisfied: mistune<2,>=0.8.1 in /Users/karshenas/opt/anaconda3/lib/python3.8/site-packages (from nbconvert->notebook~=5.2.0->google-colab) (0.8.4)\n",
      "Requirement already satisfied: entrypoints>=0.2.2 in /Users/karshenas/opt/anaconda3/lib/python3.8/site-packages (from nbconvert->notebook~=5.2.0->google-colab) (0.3)\n",
      "Requirement already satisfied: attrs>=17.4.0 in /Users/karshenas/opt/anaconda3/lib/python3.8/site-packages (from jsonschema!=2.5.0,>=2.4->nbformat->notebook~=5.2.0->google-colab) (19.3.0)\n",
      "Requirement already satisfied: pyrsistent>=0.14.0 in /Users/karshenas/opt/anaconda3/lib/python3.8/site-packages (from jsonschema!=2.5.0,>=2.4->nbformat->notebook~=5.2.0->google-colab) (0.16.0)\n",
      "Requirement already satisfied: webencodings in /Users/karshenas/opt/anaconda3/lib/python3.8/site-packages (from bleach->nbconvert->notebook~=5.2.0->google-colab) (0.5.1)\n",
      "Requirement already satisfied: packaging in /Users/karshenas/opt/anaconda3/lib/python3.8/site-packages (from bleach->nbconvert->notebook~=5.2.0->google-colab) (23.2)\n",
      "Building wheels for collected packages: google-colab, pandas, portpicker, tornado\n"
     ]
    },
    {
     "name": "stdout",
     "output_type": "stream",
     "text": [
      "  Building wheel for google-colab (setup.py) ... \u001b[?25ldone\n",
      "\u001b[?25h  Created wheel for google-colab: filename=google_colab-1.0.0-py2.py3-none-any.whl size=102289 sha256=d89efca17981ea88729b539c7b2b3f70e81f2ba2c50b2f7a8a0c384f147d11d6\n",
      "  Stored in directory: /Users/karshenas/Library/Caches/pip/wheels/e4/e7/91/b2736701bca00e273fdc79f80e2727b558e0903d81b758eb69\n",
      "  Building wheel for pandas (setup.py) ... \u001b[?25lerror\n",
      "\u001b[31m  ERROR: Command errored out with exit status 1:\n",
      "   command: /Users/karshenas/opt/anaconda3/bin/python -u -c 'import sys, setuptools, tokenize; sys.argv[0] = '\"'\"'/private/var/folders/4p/23zcjncx7dg5v9_3s_fgn3tm0000gn/T/pip-install-preczqf6/pandas/setup.py'\"'\"'; __file__='\"'\"'/private/var/folders/4p/23zcjncx7dg5v9_3s_fgn3tm0000gn/T/pip-install-preczqf6/pandas/setup.py'\"'\"';f=getattr(tokenize, '\"'\"'open'\"'\"', open)(__file__);code=f.read().replace('\"'\"'\\r\\n'\"'\"', '\"'\"'\\n'\"'\"');f.close();exec(compile(code, __file__, '\"'\"'exec'\"'\"'))' bdist_wheel -d /private/var/folders/4p/23zcjncx7dg5v9_3s_fgn3tm0000gn/T/pip-wheel-w4gwgi90\n",
      "       cwd: /private/var/folders/4p/23zcjncx7dg5v9_3s_fgn3tm0000gn/T/pip-install-preczqf6/pandas/\n",
      "  Complete output (846 lines):\n",
      "  running bdist_wheel\n",
      "  running build\n",
      "  running build_py\n",
      "  creating build\n",
      "  creating build/lib.macosx-10.9-x86_64-3.8\n",
      "  creating build/lib.macosx-10.9-x86_64-3.8/pandas\n",
      "  copying pandas/conftest.py -> build/lib.macosx-10.9-x86_64-3.8/pandas\n",
      "  copying pandas/_version.py -> build/lib.macosx-10.9-x86_64-3.8/pandas\n",
      "  copying pandas/__init__.py -> build/lib.macosx-10.9-x86_64-3.8/pandas\n",
      "  copying pandas/testing.py -> build/lib.macosx-10.9-x86_64-3.8/pandas\n",
      "  creating build/lib.macosx-10.9-x86_64-3.8/pandas/compat\n",
      "  copying pandas/compat/chainmap_impl.py -> build/lib.macosx-10.9-x86_64-3.8/pandas/compat\n",
      "  copying pandas/compat/__init__.py -> build/lib.macosx-10.9-x86_64-3.8/pandas/compat\n",
      "  copying pandas/compat/chainmap.py -> build/lib.macosx-10.9-x86_64-3.8/pandas/compat\n",
      "  copying pandas/compat/pickle_compat.py -> build/lib.macosx-10.9-x86_64-3.8/pandas/compat\n",
      "  creating build/lib.macosx-10.9-x86_64-3.8/pandas/core\n",
      "  copying pandas/core/accessor.py -> build/lib.macosx-10.9-x86_64-3.8/pandas/core\n",
      "  copying pandas/core/categorical.py -> build/lib.macosx-10.9-x86_64-3.8/pandas/core\n",
      "  copying pandas/core/nanops.py -> build/lib.macosx-10.9-x86_64-3.8/pandas/core\n",
      "  copying pandas/core/missing.py -> build/lib.macosx-10.9-x86_64-3.8/pandas/core\n",
      "  copying pandas/core/algorithms.py -> build/lib.macosx-10.9-x86_64-3.8/pandas/core\n",
      "  copying pandas/core/config.py -> build/lib.macosx-10.9-x86_64-3.8/pandas/core\n",
      "  copying pandas/core/resample.py -> build/lib.macosx-10.9-x86_64-3.8/pandas/core\n",
      "  copying pandas/core/window.py -> build/lib.macosx-10.9-x86_64-3.8/pandas/core\n",
      "  copying pandas/core/index.py -> build/lib.macosx-10.9-x86_64-3.8/pandas/core\n",
      "  copying pandas/core/config_init.py -> build/lib.macosx-10.9-x86_64-3.8/pandas/core\n",
      "  copying pandas/core/generic.py -> build/lib.macosx-10.9-x86_64-3.8/pandas/core\n",
      "  copying pandas/core/series.py -> build/lib.macosx-10.9-x86_64-3.8/pandas/core\n",
      "  copying pandas/core/sorting.py -> build/lib.macosx-10.9-x86_64-3.8/pandas/core\n",
      "  copying pandas/core/__init__.py -> build/lib.macosx-10.9-x86_64-3.8/pandas/core\n",
      "  copying pandas/core/api.py -> build/lib.macosx-10.9-x86_64-3.8/pandas/core\n",
      "  copying pandas/core/ops.py -> build/lib.macosx-10.9-x86_64-3.8/pandas/core\n",
      "  copying pandas/core/common.py -> build/lib.macosx-10.9-x86_64-3.8/pandas/core\n",
      "  copying pandas/core/frame.py -> build/lib.macosx-10.9-x86_64-3.8/pandas/core\n",
      "  copying pandas/core/indexing.py -> build/lib.macosx-10.9-x86_64-3.8/pandas/core\n",
      "  copying pandas/core/panel.py -> build/lib.macosx-10.9-x86_64-3.8/pandas/core\n",
      "  copying pandas/core/base.py -> build/lib.macosx-10.9-x86_64-3.8/pandas/core\n",
      "  copying pandas/core/strings.py -> build/lib.macosx-10.9-x86_64-3.8/pandas/core\n",
      "  copying pandas/core/apply.py -> build/lib.macosx-10.9-x86_64-3.8/pandas/core\n",
      "  creating build/lib.macosx-10.9-x86_64-3.8/pandas/util\n",
      "  copying pandas/util/_depr_module.py -> build/lib.macosx-10.9-x86_64-3.8/pandas/util\n",
      "  copying pandas/util/_test_decorators.py -> build/lib.macosx-10.9-x86_64-3.8/pandas/util\n",
      "  copying pandas/util/_validators.py -> build/lib.macosx-10.9-x86_64-3.8/pandas/util\n",
      "  copying pandas/util/_print_versions.py -> build/lib.macosx-10.9-x86_64-3.8/pandas/util\n",
      "  copying pandas/util/__init__.py -> build/lib.macosx-10.9-x86_64-3.8/pandas/util\n",
      "  copying pandas/util/_decorators.py -> build/lib.macosx-10.9-x86_64-3.8/pandas/util\n",
      "  copying pandas/util/_doctools.py -> build/lib.macosx-10.9-x86_64-3.8/pandas/util\n",
      "  copying pandas/util/testing.py -> build/lib.macosx-10.9-x86_64-3.8/pandas/util\n",
      "  copying pandas/util/_exceptions.py -> build/lib.macosx-10.9-x86_64-3.8/pandas/util\n",
      "  copying pandas/util/_tester.py -> build/lib.macosx-10.9-x86_64-3.8/pandas/util\n",
      "  creating build/lib.macosx-10.9-x86_64-3.8/pandas/io\n",
      "  copying pandas/io/feather_format.py -> build/lib.macosx-10.9-x86_64-3.8/pandas/io\n",
      "  copying pandas/io/parquet.py -> build/lib.macosx-10.9-x86_64-3.8/pandas/io\n",
      "  copying pandas/io/gcs.py -> build/lib.macosx-10.9-x86_64-3.8/pandas/io\n",
      "  copying pandas/io/pytables.py -> build/lib.macosx-10.9-x86_64-3.8/pandas/io\n",
      "  copying pandas/io/html.py -> build/lib.macosx-10.9-x86_64-3.8/pandas/io\n",
      "  copying pandas/io/__init__.py -> build/lib.macosx-10.9-x86_64-3.8/pandas/io\n",
      "  copying pandas/io/clipboards.py -> build/lib.macosx-10.9-x86_64-3.8/pandas/io\n",
      "  copying pandas/io/parsers.py -> build/lib.macosx-10.9-x86_64-3.8/pandas/io\n",
      "  copying pandas/io/excel.py -> build/lib.macosx-10.9-x86_64-3.8/pandas/io\n",
      "  copying pandas/io/api.py -> build/lib.macosx-10.9-x86_64-3.8/pandas/io\n",
      "  copying pandas/io/common.py -> build/lib.macosx-10.9-x86_64-3.8/pandas/io\n",
      "  copying pandas/io/date_converters.py -> build/lib.macosx-10.9-x86_64-3.8/pandas/io\n",
      "  copying pandas/io/pickle.py -> build/lib.macosx-10.9-x86_64-3.8/pandas/io\n",
      "  copying pandas/io/sql.py -> build/lib.macosx-10.9-x86_64-3.8/pandas/io\n",
      "  copying pandas/io/s3.py -> build/lib.macosx-10.9-x86_64-3.8/pandas/io\n",
      "  copying pandas/io/packers.py -> build/lib.macosx-10.9-x86_64-3.8/pandas/io\n",
      "  copying pandas/io/stata.py -> build/lib.macosx-10.9-x86_64-3.8/pandas/io\n",
      "  copying pandas/io/gbq.py -> build/lib.macosx-10.9-x86_64-3.8/pandas/io\n",
      "  creating build/lib.macosx-10.9-x86_64-3.8/pandas/tseries\n",
      "  copying pandas/tseries/plotting.py -> build/lib.macosx-10.9-x86_64-3.8/pandas/tseries\n",
      "  copying pandas/tseries/converter.py -> build/lib.macosx-10.9-x86_64-3.8/pandas/tseries\n",
      "  copying pandas/tseries/__init__.py -> build/lib.macosx-10.9-x86_64-3.8/pandas/tseries\n",
      "  copying pandas/tseries/api.py -> build/lib.macosx-10.9-x86_64-3.8/pandas/tseries\n",
      "  copying pandas/tseries/offsets.py -> build/lib.macosx-10.9-x86_64-3.8/pandas/tseries\n",
      "  copying pandas/tseries/frequencies.py -> build/lib.macosx-10.9-x86_64-3.8/pandas/tseries\n",
      "  copying pandas/tseries/holiday.py -> build/lib.macosx-10.9-x86_64-3.8/pandas/tseries\n",
      "  creating build/lib.macosx-10.9-x86_64-3.8/pandas/tests\n",
      "  copying pandas/tests/test_expressions.py -> build/lib.macosx-10.9-x86_64-3.8/pandas/tests\n",
      "  copying pandas/tests/test_register_accessor.py -> build/lib.macosx-10.9-x86_64-3.8/pandas/tests\n",
      "  copying pandas/tests/test_common.py -> build/lib.macosx-10.9-x86_64-3.8/pandas/tests\n",
      "  copying pandas/tests/test_downstream.py -> build/lib.macosx-10.9-x86_64-3.8/pandas/tests\n",
      "  copying pandas/tests/test_errors.py -> build/lib.macosx-10.9-x86_64-3.8/pandas/tests\n",
      "  copying pandas/tests/test_sorting.py -> build/lib.macosx-10.9-x86_64-3.8/pandas/tests\n",
      "  copying pandas/tests/test_join.py -> build/lib.macosx-10.9-x86_64-3.8/pandas/tests\n",
      "  copying pandas/tests/test_panel.py -> build/lib.macosx-10.9-x86_64-3.8/pandas/tests\n",
      "  copying pandas/tests/__init__.py -> build/lib.macosx-10.9-x86_64-3.8/pandas/tests\n",
      "  copying pandas/tests/test_lib.py -> build/lib.macosx-10.9-x86_64-3.8/pandas/tests\n",
      "  copying pandas/tests/test_nanops.py -> build/lib.macosx-10.9-x86_64-3.8/pandas/tests\n",
      "  copying pandas/tests/test_take.py -> build/lib.macosx-10.9-x86_64-3.8/pandas/tests\n",
      "  copying pandas/tests/test_algos.py -> build/lib.macosx-10.9-x86_64-3.8/pandas/tests\n",
      "  copying pandas/tests/test_multilevel.py -> build/lib.macosx-10.9-x86_64-3.8/pandas/tests\n",
      "  copying pandas/tests/test_compat.py -> build/lib.macosx-10.9-x86_64-3.8/pandas/tests\n",
      "  copying pandas/tests/test_config.py -> build/lib.macosx-10.9-x86_64-3.8/pandas/tests\n",
      "  copying pandas/tests/test_window.py -> build/lib.macosx-10.9-x86_64-3.8/pandas/tests\n",
      "  copying pandas/tests/test_strings.py -> build/lib.macosx-10.9-x86_64-3.8/pandas/tests\n",
      "  copying pandas/tests/test_base.py -> build/lib.macosx-10.9-x86_64-3.8/pandas/tests\n",
      "  creating build/lib.macosx-10.9-x86_64-3.8/pandas/_libs\n",
      "  copying pandas/_libs/__init__.py -> build/lib.macosx-10.9-x86_64-3.8/pandas/_libs\n",
      "  creating build/lib.macosx-10.9-x86_64-3.8/pandas/plotting\n",
      "  copying pandas/plotting/_converter.py -> build/lib.macosx-10.9-x86_64-3.8/pandas/plotting\n",
      "  copying pandas/plotting/_tools.py -> build/lib.macosx-10.9-x86_64-3.8/pandas/plotting\n",
      "  copying pandas/plotting/_style.py -> build/lib.macosx-10.9-x86_64-3.8/pandas/plotting\n",
      "  copying pandas/plotting/__init__.py -> build/lib.macosx-10.9-x86_64-3.8/pandas/plotting\n",
      "  copying pandas/plotting/_core.py -> build/lib.macosx-10.9-x86_64-3.8/pandas/plotting\n",
      "  copying pandas/plotting/_timeseries.py -> build/lib.macosx-10.9-x86_64-3.8/pandas/plotting\n",
      "  copying pandas/plotting/_compat.py -> build/lib.macosx-10.9-x86_64-3.8/pandas/plotting\n",
      "  copying pandas/plotting/_misc.py -> build/lib.macosx-10.9-x86_64-3.8/pandas/plotting\n",
      "  creating build/lib.macosx-10.9-x86_64-3.8/pandas/arrays\n",
      "  copying pandas/arrays/__init__.py -> build/lib.macosx-10.9-x86_64-3.8/pandas/arrays\n",
      "  creating build/lib.macosx-10.9-x86_64-3.8/pandas/api\n",
      "  copying pandas/api/__init__.py -> build/lib.macosx-10.9-x86_64-3.8/pandas/api\n",
      "  creating build/lib.macosx-10.9-x86_64-3.8/pandas/errors\n",
      "  copying pandas/errors/__init__.py -> build/lib.macosx-10.9-x86_64-3.8/pandas/errors\n",
      "  creating build/lib.macosx-10.9-x86_64-3.8/pandas/compat/numpy\n",
      "  copying pandas/compat/numpy/__init__.py -> build/lib.macosx-10.9-x86_64-3.8/pandas/compat/numpy\n",
      "  copying pandas/compat/numpy/function.py -> build/lib.macosx-10.9-x86_64-3.8/pandas/compat/numpy\n",
      "  creating build/lib.macosx-10.9-x86_64-3.8/pandas/core/reshape\n",
      "  copying pandas/core/reshape/tile.py -> build/lib.macosx-10.9-x86_64-3.8/pandas/core/reshape\n",
      "  copying pandas/core/reshape/merge.py -> build/lib.macosx-10.9-x86_64-3.8/pandas/core/reshape\n",
      "  copying pandas/core/reshape/concat.py -> build/lib.macosx-10.9-x86_64-3.8/pandas/core/reshape\n",
      "  copying pandas/core/reshape/util.py -> build/lib.macosx-10.9-x86_64-3.8/pandas/core/reshape\n",
      "  copying pandas/core/reshape/reshape.py -> build/lib.macosx-10.9-x86_64-3.8/pandas/core/reshape\n",
      "  copying pandas/core/reshape/__init__.py -> build/lib.macosx-10.9-x86_64-3.8/pandas/core/reshape\n",
      "  copying pandas/core/reshape/api.py -> build/lib.macosx-10.9-x86_64-3.8/pandas/core/reshape\n",
      "  copying pandas/core/reshape/melt.py -> build/lib.macosx-10.9-x86_64-3.8/pandas/core/reshape\n",
      "  copying pandas/core/reshape/pivot.py -> build/lib.macosx-10.9-x86_64-3.8/pandas/core/reshape\n",
      "  creating build/lib.macosx-10.9-x86_64-3.8/pandas/core/tools\n",
      "  copying pandas/core/tools/timedeltas.py -> build/lib.macosx-10.9-x86_64-3.8/pandas/core/tools\n",
      "  copying pandas/core/tools/datetimes.py -> build/lib.macosx-10.9-x86_64-3.8/pandas/core/tools\n",
      "  copying pandas/core/tools/__init__.py -> build/lib.macosx-10.9-x86_64-3.8/pandas/core/tools\n",
      "  copying pandas/core/tools/numeric.py -> build/lib.macosx-10.9-x86_64-3.8/pandas/core/tools\n",
      "  creating build/lib.macosx-10.9-x86_64-3.8/pandas/core/util\n",
      "  copying pandas/core/util/__init__.py -> build/lib.macosx-10.9-x86_64-3.8/pandas/core/util\n",
      "  copying pandas/core/util/hashing.py -> build/lib.macosx-10.9-x86_64-3.8/pandas/core/util\n",
      "  creating build/lib.macosx-10.9-x86_64-3.8/pandas/core/dtypes\n",
      "  copying pandas/core/dtypes/cast.py -> build/lib.macosx-10.9-x86_64-3.8/pandas/core/dtypes\n",
      "  copying pandas/core/dtypes/missing.py -> build/lib.macosx-10.9-x86_64-3.8/pandas/core/dtypes\n",
      "  copying pandas/core/dtypes/concat.py -> build/lib.macosx-10.9-x86_64-3.8/pandas/core/dtypes\n",
      "  copying pandas/core/dtypes/generic.py -> build/lib.macosx-10.9-x86_64-3.8/pandas/core/dtypes\n",
      "  copying pandas/core/dtypes/__init__.py -> build/lib.macosx-10.9-x86_64-3.8/pandas/core/dtypes\n",
      "  copying pandas/core/dtypes/dtypes.py -> build/lib.macosx-10.9-x86_64-3.8/pandas/core/dtypes\n",
      "  copying pandas/core/dtypes/api.py -> build/lib.macosx-10.9-x86_64-3.8/pandas/core/dtypes\n",
      "  copying pandas/core/dtypes/common.py -> build/lib.macosx-10.9-x86_64-3.8/pandas/core/dtypes\n",
      "  copying pandas/core/dtypes/inference.py -> build/lib.macosx-10.9-x86_64-3.8/pandas/core/dtypes\n",
      "  copying pandas/core/dtypes/base.py -> build/lib.macosx-10.9-x86_64-3.8/pandas/core/dtypes\n",
      "  creating build/lib.macosx-10.9-x86_64-3.8/pandas/core/groupby\n",
      "  copying pandas/core/groupby/categorical.py -> build/lib.macosx-10.9-x86_64-3.8/pandas/core/groupby\n",
      "  copying pandas/core/groupby/generic.py -> build/lib.macosx-10.9-x86_64-3.8/pandas/core/groupby\n",
      "  copying pandas/core/groupby/__init__.py -> build/lib.macosx-10.9-x86_64-3.8/pandas/core/groupby\n",
      "  copying pandas/core/groupby/ops.py -> build/lib.macosx-10.9-x86_64-3.8/pandas/core/groupby\n",
      "  copying pandas/core/groupby/grouper.py -> build/lib.macosx-10.9-x86_64-3.8/pandas/core/groupby\n",
      "  copying pandas/core/groupby/groupby.py -> build/lib.macosx-10.9-x86_64-3.8/pandas/core/groupby\n",
      "  copying pandas/core/groupby/base.py -> build/lib.macosx-10.9-x86_64-3.8/pandas/core/groupby\n",
      "  creating build/lib.macosx-10.9-x86_64-3.8/pandas/core/internals\n",
      "  copying pandas/core/internals/arrays.py -> build/lib.macosx-10.9-x86_64-3.8/pandas/core/internals\n",
      "  copying pandas/core/internals/concat.py -> build/lib.macosx-10.9-x86_64-3.8/pandas/core/internals\n",
      "  copying pandas/core/internals/construction.py -> build/lib.macosx-10.9-x86_64-3.8/pandas/core/internals\n",
      "  copying pandas/core/internals/__init__.py -> build/lib.macosx-10.9-x86_64-3.8/pandas/core/internals\n",
      "  copying pandas/core/internals/blocks.py -> build/lib.macosx-10.9-x86_64-3.8/pandas/core/internals\n",
      "  copying pandas/core/internals/managers.py -> build/lib.macosx-10.9-x86_64-3.8/pandas/core/internals\n",
      "  creating build/lib.macosx-10.9-x86_64-3.8/pandas/core/computation\n",
      "  copying pandas/core/computation/check.py -> build/lib.macosx-10.9-x86_64-3.8/pandas/core/computation\n",
      "  copying pandas/core/computation/align.py -> build/lib.macosx-10.9-x86_64-3.8/pandas/core/computation\n",
      "  copying pandas/core/computation/pytables.py -> build/lib.macosx-10.9-x86_64-3.8/pandas/core/computation\n",
      "  copying pandas/core/computation/engines.py -> build/lib.macosx-10.9-x86_64-3.8/pandas/core/computation\n",
      "  copying pandas/core/computation/expressions.py -> build/lib.macosx-10.9-x86_64-3.8/pandas/core/computation\n",
      "  copying pandas/core/computation/__init__.py -> build/lib.macosx-10.9-x86_64-3.8/pandas/core/computation\n",
      "  copying pandas/core/computation/api.py -> build/lib.macosx-10.9-x86_64-3.8/pandas/core/computation\n",
      "  copying pandas/core/computation/ops.py -> build/lib.macosx-10.9-x86_64-3.8/pandas/core/computation\n",
      "  copying pandas/core/computation/common.py -> build/lib.macosx-10.9-x86_64-3.8/pandas/core/computation\n",
      "  copying pandas/core/computation/eval.py -> build/lib.macosx-10.9-x86_64-3.8/pandas/core/computation\n",
      "  copying pandas/core/computation/scope.py -> build/lib.macosx-10.9-x86_64-3.8/pandas/core/computation\n",
      "  copying pandas/core/computation/expr.py -> build/lib.macosx-10.9-x86_64-3.8/pandas/core/computation\n",
      "  creating build/lib.macosx-10.9-x86_64-3.8/pandas/core/arrays\n",
      "  copying pandas/core/arrays/categorical.py -> build/lib.macosx-10.9-x86_64-3.8/pandas/core/arrays\n",
      "  copying pandas/core/arrays/interval.py -> build/lib.macosx-10.9-x86_64-3.8/pandas/core/arrays\n",
      "  copying pandas/core/arrays/timedeltas.py -> build/lib.macosx-10.9-x86_64-3.8/pandas/core/arrays\n",
      "  copying pandas/core/arrays/datetimes.py -> build/lib.macosx-10.9-x86_64-3.8/pandas/core/arrays\n",
      "  copying pandas/core/arrays/__init__.py -> build/lib.macosx-10.9-x86_64-3.8/pandas/core/arrays\n",
      "  copying pandas/core/arrays/numpy_.py -> build/lib.macosx-10.9-x86_64-3.8/pandas/core/arrays\n",
      "  copying pandas/core/arrays/_ranges.py -> build/lib.macosx-10.9-x86_64-3.8/pandas/core/arrays\n",
      "  copying pandas/core/arrays/integer.py -> build/lib.macosx-10.9-x86_64-3.8/pandas/core/arrays\n",
      "  copying pandas/core/arrays/period.py -> build/lib.macosx-10.9-x86_64-3.8/pandas/core/arrays\n",
      "  copying pandas/core/arrays/sparse.py -> build/lib.macosx-10.9-x86_64-3.8/pandas/core/arrays\n",
      "  copying pandas/core/arrays/datetimelike.py -> build/lib.macosx-10.9-x86_64-3.8/pandas/core/arrays\n",
      "  copying pandas/core/arrays/array_.py -> build/lib.macosx-10.9-x86_64-3.8/pandas/core/arrays\n",
      "  copying pandas/core/arrays/base.py -> build/lib.macosx-10.9-x86_64-3.8/pandas/core/arrays\n",
      "  creating build/lib.macosx-10.9-x86_64-3.8/pandas/core/sparse\n",
      "  copying pandas/core/sparse/scipy_sparse.py -> build/lib.macosx-10.9-x86_64-3.8/pandas/core/sparse\n",
      "  copying pandas/core/sparse/series.py -> build/lib.macosx-10.9-x86_64-3.8/pandas/core/sparse\n",
      "  copying pandas/core/sparse/__init__.py -> build/lib.macosx-10.9-x86_64-3.8/pandas/core/sparse\n",
      "  copying pandas/core/sparse/api.py -> build/lib.macosx-10.9-x86_64-3.8/pandas/core/sparse\n",
      "  copying pandas/core/sparse/frame.py -> build/lib.macosx-10.9-x86_64-3.8/pandas/core/sparse\n",
      "  creating build/lib.macosx-10.9-x86_64-3.8/pandas/core/indexes\n",
      "  copying pandas/core/indexes/accessors.py -> build/lib.macosx-10.9-x86_64-3.8/pandas/core/indexes\n",
      "  copying pandas/core/indexes/interval.py -> build/lib.macosx-10.9-x86_64-3.8/pandas/core/indexes\n",
      "  copying pandas/core/indexes/timedeltas.py -> build/lib.macosx-10.9-x86_64-3.8/pandas/core/indexes\n",
      "  copying pandas/core/indexes/range.py -> build/lib.macosx-10.9-x86_64-3.8/pandas/core/indexes\n",
      "  copying pandas/core/indexes/datetimes.py -> build/lib.macosx-10.9-x86_64-3.8/pandas/core/indexes\n",
      "  copying pandas/core/indexes/multi.py -> build/lib.macosx-10.9-x86_64-3.8/pandas/core/indexes\n",
      "  copying pandas/core/indexes/__init__.py -> build/lib.macosx-10.9-x86_64-3.8/pandas/core/indexes\n",
      "  copying pandas/core/indexes/api.py -> build/lib.macosx-10.9-x86_64-3.8/pandas/core/indexes\n",
      "  copying pandas/core/indexes/period.py -> build/lib.macosx-10.9-x86_64-3.8/pandas/core/indexes\n",
      "  copying pandas/core/indexes/frozen.py -> build/lib.macosx-10.9-x86_64-3.8/pandas/core/indexes\n",
      "  copying pandas/core/indexes/numeric.py -> build/lib.macosx-10.9-x86_64-3.8/pandas/core/indexes\n",
      "  copying pandas/core/indexes/datetimelike.py -> build/lib.macosx-10.9-x86_64-3.8/pandas/core/indexes\n",
      "  copying pandas/core/indexes/base.py -> build/lib.macosx-10.9-x86_64-3.8/pandas/core/indexes\n",
      "  copying pandas/core/indexes/category.py -> build/lib.macosx-10.9-x86_64-3.8/pandas/core/indexes\n",
      "  creating build/lib.macosx-10.9-x86_64-3.8/pandas/io/msgpack\n",
      "  copying pandas/io/msgpack/_version.py -> build/lib.macosx-10.9-x86_64-3.8/pandas/io/msgpack\n",
      "  copying pandas/io/msgpack/__init__.py -> build/lib.macosx-10.9-x86_64-3.8/pandas/io/msgpack\n",
      "  copying pandas/io/msgpack/exceptions.py -> build/lib.macosx-10.9-x86_64-3.8/pandas/io/msgpack\n",
      "  creating build/lib.macosx-10.9-x86_64-3.8/pandas/io/formats\n",
      "  copying pandas/io/formats/console.py -> build/lib.macosx-10.9-x86_64-3.8/pandas/io/formats\n",
      "  copying pandas/io/formats/style.py -> build/lib.macosx-10.9-x86_64-3.8/pandas/io/formats\n",
      "  copying pandas/io/formats/terminal.py -> build/lib.macosx-10.9-x86_64-3.8/pandas/io/formats\n",
      "  copying pandas/io/formats/html.py -> build/lib.macosx-10.9-x86_64-3.8/pandas/io/formats\n",
      "  copying pandas/io/formats/__init__.py -> build/lib.macosx-10.9-x86_64-3.8/pandas/io/formats\n",
      "  copying pandas/io/formats/format.py -> build/lib.macosx-10.9-x86_64-3.8/pandas/io/formats\n",
      "  copying pandas/io/formats/excel.py -> build/lib.macosx-10.9-x86_64-3.8/pandas/io/formats\n",
      "  copying pandas/io/formats/css.py -> build/lib.macosx-10.9-x86_64-3.8/pandas/io/formats\n",
      "  copying pandas/io/formats/csvs.py -> build/lib.macosx-10.9-x86_64-3.8/pandas/io/formats\n",
      "  copying pandas/io/formats/latex.py -> build/lib.macosx-10.9-x86_64-3.8/pandas/io/formats\n",
      "  copying pandas/io/formats/printing.py -> build/lib.macosx-10.9-x86_64-3.8/pandas/io/formats\n",
      "  creating build/lib.macosx-10.9-x86_64-3.8/pandas/io/json\n",
      "  copying pandas/io/json/normalize.py -> build/lib.macosx-10.9-x86_64-3.8/pandas/io/json\n",
      "  copying pandas/io/json/__init__.py -> build/lib.macosx-10.9-x86_64-3.8/pandas/io/json\n",
      "  copying pandas/io/json/table_schema.py -> build/lib.macosx-10.9-x86_64-3.8/pandas/io/json\n",
      "  copying pandas/io/json/json.py -> build/lib.macosx-10.9-x86_64-3.8/pandas/io/json\n",
      "  creating build/lib.macosx-10.9-x86_64-3.8/pandas/io/sas\n",
      "  copying pandas/io/sas/sas7bdat.py -> build/lib.macosx-10.9-x86_64-3.8/pandas/io/sas\n",
      "  copying pandas/io/sas/sas_constants.py -> build/lib.macosx-10.9-x86_64-3.8/pandas/io/sas\n",
      "  copying pandas/io/sas/sasreader.py -> build/lib.macosx-10.9-x86_64-3.8/pandas/io/sas\n",
      "  copying pandas/io/sas/__init__.py -> build/lib.macosx-10.9-x86_64-3.8/pandas/io/sas\n",
      "  copying pandas/io/sas/sas_xport.py -> build/lib.macosx-10.9-x86_64-3.8/pandas/io/sas\n",
      "  creating build/lib.macosx-10.9-x86_64-3.8/pandas/io/clipboard\n",
      "  copying pandas/io/clipboard/__init__.py -> build/lib.macosx-10.9-x86_64-3.8/pandas/io/clipboard\n",
      "  copying pandas/io/clipboard/clipboards.py -> build/lib.macosx-10.9-x86_64-3.8/pandas/io/clipboard\n",
      "  copying pandas/io/clipboard/exceptions.py -> build/lib.macosx-10.9-x86_64-3.8/pandas/io/clipboard\n",
      "  copying pandas/io/clipboard/windows.py -> build/lib.macosx-10.9-x86_64-3.8/pandas/io/clipboard\n",
      "  creating build/lib.macosx-10.9-x86_64-3.8/pandas/tests/series\n",
      "  copying pandas/tests/series/test_block_internals.py -> build/lib.macosx-10.9-x86_64-3.8/pandas/tests/series\n",
      "  copying pandas/tests/series/test_alter_axes.py -> build/lib.macosx-10.9-x86_64-3.8/pandas/tests/series\n",
      "  copying pandas/tests/series/test_period.py -> build/lib.macosx-10.9-x86_64-3.8/pandas/tests/series\n",
      "  copying pandas/tests/series/conftest.py -> build/lib.macosx-10.9-x86_64-3.8/pandas/tests/series\n",
      "  copying pandas/tests/series/test_timeseries.py -> build/lib.macosx-10.9-x86_64-3.8/pandas/tests/series\n",
      "  copying pandas/tests/series/test_constructors.py -> build/lib.macosx-10.9-x86_64-3.8/pandas/tests/series\n",
      "  copying pandas/tests/series/test_missing.py -> build/lib.macosx-10.9-x86_64-3.8/pandas/tests/series\n",
      "  copying pandas/tests/series/test_sorting.py -> build/lib.macosx-10.9-x86_64-3.8/pandas/tests/series\n",
      "  copying pandas/tests/series/test_timezones.py -> build/lib.macosx-10.9-x86_64-3.8/pandas/tests/series\n",
      "  copying pandas/tests/series/test_operators.py -> build/lib.macosx-10.9-x86_64-3.8/pandas/tests/series\n",
      "  copying pandas/tests/series/__init__.py -> build/lib.macosx-10.9-x86_64-3.8/pandas/tests/series\n",
      "  copying pandas/tests/series/test_subclass.py -> build/lib.macosx-10.9-x86_64-3.8/pandas/tests/series\n",
      "  copying pandas/tests/series/test_analytics.py -> build/lib.macosx-10.9-x86_64-3.8/pandas/tests/series\n",
      "  copying pandas/tests/series/test_io.py -> build/lib.macosx-10.9-x86_64-3.8/pandas/tests/series\n",
      "  copying pandas/tests/series/test_apply.py -> build/lib.macosx-10.9-x86_64-3.8/pandas/tests/series\n",
      "  copying pandas/tests/series/test_quantile.py -> build/lib.macosx-10.9-x86_64-3.8/pandas/tests/series\n",
      "  copying pandas/tests/series/test_datetime_values.py -> build/lib.macosx-10.9-x86_64-3.8/pandas/tests/series\n",
      "  copying pandas/tests/series/test_internals.py -> build/lib.macosx-10.9-x86_64-3.8/pandas/tests/series\n",
      "  copying pandas/tests/series/common.py -> build/lib.macosx-10.9-x86_64-3.8/pandas/tests/series\n",
      "  copying pandas/tests/series/test_repr.py -> build/lib.macosx-10.9-x86_64-3.8/pandas/tests/series\n",
      "  copying pandas/tests/series/test_validate.py -> build/lib.macosx-10.9-x86_64-3.8/pandas/tests/series\n",
      "  copying pandas/tests/series/test_duplicates.py -> build/lib.macosx-10.9-x86_64-3.8/pandas/tests/series\n",
      "  copying pandas/tests/series/test_asof.py -> build/lib.macosx-10.9-x86_64-3.8/pandas/tests/series\n",
      "  copying pandas/tests/series/test_api.py -> build/lib.macosx-10.9-x86_64-3.8/pandas/tests/series\n",
      "  copying pandas/tests/series/test_rank.py -> build/lib.macosx-10.9-x86_64-3.8/pandas/tests/series\n",
      "  copying pandas/tests/series/test_arithmetic.py -> build/lib.macosx-10.9-x86_64-3.8/pandas/tests/series\n",
      "  copying pandas/tests/series/test_replace.py -> build/lib.macosx-10.9-x86_64-3.8/pandas/tests/series\n",
      "  copying pandas/tests/series/test_combine_concat.py -> build/lib.macosx-10.9-x86_64-3.8/pandas/tests/series\n",
      "  copying pandas/tests/series/test_dtypes.py -> build/lib.macosx-10.9-x86_64-3.8/pandas/tests/series\n",
      "  creating build/lib.macosx-10.9-x86_64-3.8/pandas/tests/reshape\n",
      "  copying pandas/tests/reshape/test_cut.py -> build/lib.macosx-10.9-x86_64-3.8/pandas/tests/reshape\n",
      "  copying pandas/tests/reshape/test_union_categoricals.py -> build/lib.macosx-10.9-x86_64-3.8/pandas/tests/reshape\n",
      "  copying pandas/tests/reshape/test_qcut.py -> build/lib.macosx-10.9-x86_64-3.8/pandas/tests/reshape\n",
      "  copying pandas/tests/reshape/__init__.py -> build/lib.macosx-10.9-x86_64-3.8/pandas/tests/reshape\n",
      "  copying pandas/tests/reshape/test_pivot.py -> build/lib.macosx-10.9-x86_64-3.8/pandas/tests/reshape\n",
      "  copying pandas/tests/reshape/test_reshape.py -> build/lib.macosx-10.9-x86_64-3.8/pandas/tests/reshape\n",
      "  copying pandas/tests/reshape/test_util.py -> build/lib.macosx-10.9-x86_64-3.8/pandas/tests/reshape\n",
      "  copying pandas/tests/reshape/test_melt.py -> build/lib.macosx-10.9-x86_64-3.8/pandas/tests/reshape\n",
      "  copying pandas/tests/reshape/test_concat.py -> build/lib.macosx-10.9-x86_64-3.8/pandas/tests/reshape\n",
      "  creating build/lib.macosx-10.9-x86_64-3.8/pandas/tests/tools\n",
      "  copying pandas/tests/tools/__init__.py -> build/lib.macosx-10.9-x86_64-3.8/pandas/tests/tools\n",
      "  copying pandas/tests/tools/test_numeric.py -> build/lib.macosx-10.9-x86_64-3.8/pandas/tests/tools\n",
      "  creating build/lib.macosx-10.9-x86_64-3.8/pandas/tests/extension\n",
      "  copying pandas/tests/extension/test_external_block.py -> build/lib.macosx-10.9-x86_64-3.8/pandas/tests/extension\n",
      "  copying pandas/tests/extension/test_period.py -> build/lib.macosx-10.9-x86_64-3.8/pandas/tests/extension\n",
      "  copying pandas/tests/extension/conftest.py -> build/lib.macosx-10.9-x86_64-3.8/pandas/tests/extension\n",
      "  copying pandas/tests/extension/test_common.py -> build/lib.macosx-10.9-x86_64-3.8/pandas/tests/extension\n",
      "  copying pandas/tests/extension/test_sparse.py -> build/lib.macosx-10.9-x86_64-3.8/pandas/tests/extension\n",
      "  copying pandas/tests/extension/test_categorical.py -> build/lib.macosx-10.9-x86_64-3.8/pandas/tests/extension\n",
      "  copying pandas/tests/extension/__init__.py -> build/lib.macosx-10.9-x86_64-3.8/pandas/tests/extension\n",
      "  copying pandas/tests/extension/test_interval.py -> build/lib.macosx-10.9-x86_64-3.8/pandas/tests/extension\n",
      "  copying pandas/tests/extension/test_datetime.py -> build/lib.macosx-10.9-x86_64-3.8/pandas/tests/extension\n",
      "  copying pandas/tests/extension/test_integer.py -> build/lib.macosx-10.9-x86_64-3.8/pandas/tests/extension\n",
      "  creating build/lib.macosx-10.9-x86_64-3.8/pandas/tests/resample\n",
      "  copying pandas/tests/resample/conftest.py -> build/lib.macosx-10.9-x86_64-3.8/pandas/tests/resample\n",
      "  copying pandas/tests/resample/test_resampler_grouper.py -> build/lib.macosx-10.9-x86_64-3.8/pandas/tests/resample\n",
      "  copying pandas/tests/resample/__init__.py -> build/lib.macosx-10.9-x86_64-3.8/pandas/tests/resample\n",
      "  copying pandas/tests/resample/test_timedelta.py -> build/lib.macosx-10.9-x86_64-3.8/pandas/tests/resample\n",
      "  copying pandas/tests/resample/test_period_index.py -> build/lib.macosx-10.9-x86_64-3.8/pandas/tests/resample\n",
      "  copying pandas/tests/resample/test_datetime_index.py -> build/lib.macosx-10.9-x86_64-3.8/pandas/tests/resample\n",
      "  copying pandas/tests/resample/test_base.py -> build/lib.macosx-10.9-x86_64-3.8/pandas/tests/resample\n",
      "  copying pandas/tests/resample/test_time_grouper.py -> build/lib.macosx-10.9-x86_64-3.8/pandas/tests/resample\n",
      "  copying pandas/tests/resample/test_resample_api.py -> build/lib.macosx-10.9-x86_64-3.8/pandas/tests/resample\n",
      "  creating build/lib.macosx-10.9-x86_64-3.8/pandas/tests/util\n",
      "  copying pandas/tests/util/test_validate_args_and_kwargs.py -> build/lib.macosx-10.9-x86_64-3.8/pandas/tests/util\n",
      "  copying pandas/tests/util/test_assert_series_equal.py -> build/lib.macosx-10.9-x86_64-3.8/pandas/tests/util\n",
      "  copying pandas/tests/util/conftest.py -> build/lib.macosx-10.9-x86_64-3.8/pandas/tests/util\n",
      "  copying pandas/tests/util/test_safe_import.py -> build/lib.macosx-10.9-x86_64-3.8/pandas/tests/util\n",
      "  copying pandas/tests/util/test_locale.py -> build/lib.macosx-10.9-x86_64-3.8/pandas/tests/util\n",
      "  copying pandas/tests/util/test_assert_frame_equal.py -> build/lib.macosx-10.9-x86_64-3.8/pandas/tests/util\n",
      "  copying pandas/tests/util/test_assert_interval_array_equal.py -> build/lib.macosx-10.9-x86_64-3.8/pandas/tests/util\n",
      "  copying pandas/tests/util/__init__.py -> build/lib.macosx-10.9-x86_64-3.8/pandas/tests/util\n",
      "  copying pandas/tests/util/test_util.py -> build/lib.macosx-10.9-x86_64-3.8/pandas/tests/util\n",
      "  copying pandas/tests/util/test_move.py -> build/lib.macosx-10.9-x86_64-3.8/pandas/tests/util\n",
      "  copying pandas/tests/util/test_assert_index_equal.py -> build/lib.macosx-10.9-x86_64-3.8/pandas/tests/util\n",
      "  copying pandas/tests/util/test_validate_args.py -> build/lib.macosx-10.9-x86_64-3.8/pandas/tests/util\n",
      "  copying pandas/tests/util/test_validate_kwargs.py -> build/lib.macosx-10.9-x86_64-3.8/pandas/tests/util\n",
      "  copying pandas/tests/util/test_assert_categorical_equal.py -> build/lib.macosx-10.9-x86_64-3.8/pandas/tests/util\n",
      "  copying pandas/tests/util/test_assert_numpy_array_equal.py -> build/lib.macosx-10.9-x86_64-3.8/pandas/tests/util\n",
      "  copying pandas/tests/util/test_assert_extension_array_equal.py -> build/lib.macosx-10.9-x86_64-3.8/pandas/tests/util\n",
      "  copying pandas/tests/util/test_deprecate.py -> build/lib.macosx-10.9-x86_64-3.8/pandas/tests/util\n",
      "  copying pandas/tests/util/test_hashing.py -> build/lib.macosx-10.9-x86_64-3.8/pandas/tests/util\n",
      "  copying pandas/tests/util/test_deprecate_kwarg.py -> build/lib.macosx-10.9-x86_64-3.8/pandas/tests/util\n",
      "  copying pandas/tests/util/test_assert_almost_equal.py -> build/lib.macosx-10.9-x86_64-3.8/pandas/tests/util\n",
      "  creating build/lib.macosx-10.9-x86_64-3.8/pandas/tests/io\n",
      "  copying pandas/tests/io/test_parquet.py -> build/lib.macosx-10.9-x86_64-3.8/pandas/tests/io\n",
      "  copying pandas/tests/io/test_compression.py -> build/lib.macosx-10.9-x86_64-3.8/pandas/tests/io\n",
      "  copying pandas/tests/io/test_date_converters.py -> build/lib.macosx-10.9-x86_64-3.8/pandas/tests/io\n",
      "  copying pandas/tests/io/conftest.py -> build/lib.macosx-10.9-x86_64-3.8/pandas/tests/io\n",
      "  copying pandas/tests/io/test_common.py -> build/lib.macosx-10.9-x86_64-3.8/pandas/tests/io\n",
      "  copying pandas/tests/io/test_pickle.py -> build/lib.macosx-10.9-x86_64-3.8/pandas/tests/io\n",
      "  copying pandas/tests/io/test_clipboard.py -> build/lib.macosx-10.9-x86_64-3.8/pandas/tests/io\n",
      "  copying pandas/tests/io/__init__.py -> build/lib.macosx-10.9-x86_64-3.8/pandas/tests/io\n",
      "  copying pandas/tests/io/test_stata.py -> build/lib.macosx-10.9-x86_64-3.8/pandas/tests/io\n",
      "  copying pandas/tests/io/test_html.py -> build/lib.macosx-10.9-x86_64-3.8/pandas/tests/io\n",
      "  copying pandas/tests/io/test_pytables.py -> build/lib.macosx-10.9-x86_64-3.8/pandas/tests/io\n",
      "  copying pandas/tests/io/test_gcs.py -> build/lib.macosx-10.9-x86_64-3.8/pandas/tests/io\n",
      "  copying pandas/tests/io/test_sql.py -> build/lib.macosx-10.9-x86_64-3.8/pandas/tests/io\n",
      "  copying pandas/tests/io/test_gbq.py -> build/lib.macosx-10.9-x86_64-3.8/pandas/tests/io\n",
      "  copying pandas/tests/io/test_feather.py -> build/lib.macosx-10.9-x86_64-3.8/pandas/tests/io\n",
      "  copying pandas/tests/io/generate_legacy_storage_files.py -> build/lib.macosx-10.9-x86_64-3.8/pandas/tests/io\n",
      "  copying pandas/tests/io/test_excel.py -> build/lib.macosx-10.9-x86_64-3.8/pandas/tests/io\n",
      "  copying pandas/tests/io/test_s3.py -> build/lib.macosx-10.9-x86_64-3.8/pandas/tests/io\n",
      "  copying pandas/tests/io/test_packers.py -> build/lib.macosx-10.9-x86_64-3.8/pandas/tests/io\n",
      "  creating build/lib.macosx-10.9-x86_64-3.8/pandas/tests/tseries\n",
      "  copying pandas/tests/tseries/__init__.py -> build/lib.macosx-10.9-x86_64-3.8/pandas/tests/tseries\n",
      "  copying pandas/tests/tseries/test_frequencies.py -> build/lib.macosx-10.9-x86_64-3.8/pandas/tests/tseries\n",
      "  copying pandas/tests/tseries/test_holiday.py -> build/lib.macosx-10.9-x86_64-3.8/pandas/tests/tseries\n",
      "  creating build/lib.macosx-10.9-x86_64-3.8/pandas/tests/frame\n",
      "  copying pandas/tests/frame/test_block_internals.py -> build/lib.macosx-10.9-x86_64-3.8/pandas/tests/frame\n",
      "  copying pandas/tests/frame/test_alter_axes.py -> build/lib.macosx-10.9-x86_64-3.8/pandas/tests/frame\n",
      "  copying pandas/tests/frame/test_period.py -> build/lib.macosx-10.9-x86_64-3.8/pandas/tests/frame\n",
      "  copying pandas/tests/frame/conftest.py -> build/lib.macosx-10.9-x86_64-3.8/pandas/tests/frame\n",
      "  copying pandas/tests/frame/test_axis_select_reindex.py -> build/lib.macosx-10.9-x86_64-3.8/pandas/tests/frame\n",
      "  copying pandas/tests/frame/test_convert_to.py -> build/lib.macosx-10.9-x86_64-3.8/pandas/tests/frame\n",
      "  copying pandas/tests/frame/test_timeseries.py -> build/lib.macosx-10.9-x86_64-3.8/pandas/tests/frame\n",
      "  copying pandas/tests/frame/test_constructors.py -> build/lib.macosx-10.9-x86_64-3.8/pandas/tests/frame\n",
      "  copying pandas/tests/frame/test_mutate_columns.py -> build/lib.macosx-10.9-x86_64-3.8/pandas/tests/frame\n",
      "  copying pandas/tests/frame/test_missing.py -> build/lib.macosx-10.9-x86_64-3.8/pandas/tests/frame\n",
      "  copying pandas/tests/frame/test_sorting.py -> build/lib.macosx-10.9-x86_64-3.8/pandas/tests/frame\n",
      "  copying pandas/tests/frame/test_query_eval.py -> build/lib.macosx-10.9-x86_64-3.8/pandas/tests/frame\n",
      "  copying pandas/tests/frame/test_join.py -> build/lib.macosx-10.9-x86_64-3.8/pandas/tests/frame\n",
      "  copying pandas/tests/frame/test_timezones.py -> build/lib.macosx-10.9-x86_64-3.8/pandas/tests/frame\n",
      "  copying pandas/tests/frame/test_sort_values_level_as_str.py -> build/lib.macosx-10.9-x86_64-3.8/pandas/tests/frame\n",
      "  copying pandas/tests/frame/test_operators.py -> build/lib.macosx-10.9-x86_64-3.8/pandas/tests/frame\n",
      "  copying pandas/tests/frame/__init__.py -> build/lib.macosx-10.9-x86_64-3.8/pandas/tests/frame\n",
      "  copying pandas/tests/frame/test_subclass.py -> build/lib.macosx-10.9-x86_64-3.8/pandas/tests/frame\n",
      "  copying pandas/tests/frame/test_reshape.py -> build/lib.macosx-10.9-x86_64-3.8/pandas/tests/frame\n",
      "  copying pandas/tests/frame/test_analytics.py -> build/lib.macosx-10.9-x86_64-3.8/pandas/tests/frame\n",
      "  copying pandas/tests/frame/test_apply.py -> build/lib.macosx-10.9-x86_64-3.8/pandas/tests/frame\n",
      "  copying pandas/tests/frame/test_quantile.py -> build/lib.macosx-10.9-x86_64-3.8/pandas/tests/frame\n",
      "  copying pandas/tests/frame/test_indexing.py -> build/lib.macosx-10.9-x86_64-3.8/pandas/tests/frame\n",
      "  copying pandas/tests/frame/test_repr_info.py -> build/lib.macosx-10.9-x86_64-3.8/pandas/tests/frame\n",
      "  copying pandas/tests/frame/common.py -> build/lib.macosx-10.9-x86_64-3.8/pandas/tests/frame\n",
      "  copying pandas/tests/frame/test_nonunique_indexes.py -> build/lib.macosx-10.9-x86_64-3.8/pandas/tests/frame\n",
      "  copying pandas/tests/frame/test_validate.py -> build/lib.macosx-10.9-x86_64-3.8/pandas/tests/frame\n",
      "  copying pandas/tests/frame/test_duplicates.py -> build/lib.macosx-10.9-x86_64-3.8/pandas/tests/frame\n",
      "  copying pandas/tests/frame/test_asof.py -> build/lib.macosx-10.9-x86_64-3.8/pandas/tests/frame\n",
      "  copying pandas/tests/frame/test_api.py -> build/lib.macosx-10.9-x86_64-3.8/pandas/tests/frame\n",
      "  copying pandas/tests/frame/test_rank.py -> build/lib.macosx-10.9-x86_64-3.8/pandas/tests/frame\n",
      "  copying pandas/tests/frame/test_arithmetic.py -> build/lib.macosx-10.9-x86_64-3.8/pandas/tests/frame\n",
      "  copying pandas/tests/frame/test_replace.py -> build/lib.macosx-10.9-x86_64-3.8/pandas/tests/frame\n",
      "  copying pandas/tests/frame/test_combine_concat.py -> build/lib.macosx-10.9-x86_64-3.8/pandas/tests/frame\n",
      "  copying pandas/tests/frame/test_dtypes.py -> build/lib.macosx-10.9-x86_64-3.8/pandas/tests/frame\n",
      "  copying pandas/tests/frame/test_to_csv.py -> build/lib.macosx-10.9-x86_64-3.8/pandas/tests/frame\n",
      "  creating build/lib.macosx-10.9-x86_64-3.8/pandas/tests/dtypes\n",
      "  copying pandas/tests/dtypes/test_inference.py -> build/lib.macosx-10.9-x86_64-3.8/pandas/tests/dtypes\n",
      "  copying pandas/tests/dtypes/test_common.py -> build/lib.macosx-10.9-x86_64-3.8/pandas/tests/dtypes\n",
      "  copying pandas/tests/dtypes/test_missing.py -> build/lib.macosx-10.9-x86_64-3.8/pandas/tests/dtypes\n",
      "  copying pandas/tests/dtypes/__init__.py -> build/lib.macosx-10.9-x86_64-3.8/pandas/tests/dtypes\n",
      "  copying pandas/tests/dtypes/test_generic.py -> build/lib.macosx-10.9-x86_64-3.8/pandas/tests/dtypes\n",
      "  copying pandas/tests/dtypes/test_concat.py -> build/lib.macosx-10.9-x86_64-3.8/pandas/tests/dtypes\n",
      "  copying pandas/tests/dtypes/test_dtypes.py -> build/lib.macosx-10.9-x86_64-3.8/pandas/tests/dtypes\n",
      "  creating build/lib.macosx-10.9-x86_64-3.8/pandas/tests/groupby\n",
      "  copying pandas/tests/groupby/test_timegrouper.py -> build/lib.macosx-10.9-x86_64-3.8/pandas/tests/groupby\n",
      "  copying pandas/tests/groupby/test_grouping.py -> build/lib.macosx-10.9-x86_64-3.8/pandas/tests/groupby\n",
      "  copying pandas/tests/groupby/test_counting.py -> build/lib.macosx-10.9-x86_64-3.8/pandas/tests/groupby\n",
      "  copying pandas/tests/groupby/test_value_counts.py -> build/lib.macosx-10.9-x86_64-3.8/pandas/tests/groupby\n",
      "  copying pandas/tests/groupby/conftest.py -> build/lib.macosx-10.9-x86_64-3.8/pandas/tests/groupby\n",
      "  copying pandas/tests/groupby/test_transform.py -> build/lib.macosx-10.9-x86_64-3.8/pandas/tests/groupby\n",
      "  copying pandas/tests/groupby/test_nth.py -> build/lib.macosx-10.9-x86_64-3.8/pandas/tests/groupby\n",
      "  copying pandas/tests/groupby/test_categorical.py -> build/lib.macosx-10.9-x86_64-3.8/pandas/tests/groupby\n",
      "  copying pandas/tests/groupby/test_bin_groupby.py -> build/lib.macosx-10.9-x86_64-3.8/pandas/tests/groupby\n",
      "  copying pandas/tests/groupby/__init__.py -> build/lib.macosx-10.9-x86_64-3.8/pandas/tests/groupby\n",
      "  copying pandas/tests/groupby/test_apply.py -> build/lib.macosx-10.9-x86_64-3.8/pandas/tests/groupby\n",
      "  copying pandas/tests/groupby/test_function.py -> build/lib.macosx-10.9-x86_64-3.8/pandas/tests/groupby\n",
      "  copying pandas/tests/groupby/test_groupby.py -> build/lib.macosx-10.9-x86_64-3.8/pandas/tests/groupby\n",
      "  copying pandas/tests/groupby/test_filters.py -> build/lib.macosx-10.9-x86_64-3.8/pandas/tests/groupby\n",
      "  copying pandas/tests/groupby/test_rank.py -> build/lib.macosx-10.9-x86_64-3.8/pandas/tests/groupby\n",
      "  copying pandas/tests/groupby/test_index_as_string.py -> build/lib.macosx-10.9-x86_64-3.8/pandas/tests/groupby\n",
      "  copying pandas/tests/groupby/test_whitelist.py -> build/lib.macosx-10.9-x86_64-3.8/pandas/tests/groupby\n",
      "  creating build/lib.macosx-10.9-x86_64-3.8/pandas/tests/internals\n",
      "  copying pandas/tests/internals/__init__.py -> build/lib.macosx-10.9-x86_64-3.8/pandas/tests/internals\n",
      "  copying pandas/tests/internals/test_internals.py -> build/lib.macosx-10.9-x86_64-3.8/pandas/tests/internals\n",
      "  creating build/lib.macosx-10.9-x86_64-3.8/pandas/tests/computation\n",
      "  copying pandas/tests/computation/__init__.py -> build/lib.macosx-10.9-x86_64-3.8/pandas/tests/computation\n",
      "  copying pandas/tests/computation/test_compat.py -> build/lib.macosx-10.9-x86_64-3.8/pandas/tests/computation\n",
      "  copying pandas/tests/computation/test_eval.py -> build/lib.macosx-10.9-x86_64-3.8/pandas/tests/computation\n",
      "  creating build/lib.macosx-10.9-x86_64-3.8/pandas/tests/plotting\n",
      "  copying pandas/tests/plotting/test_frame.py -> build/lib.macosx-10.9-x86_64-3.8/pandas/tests/plotting\n",
      "  copying pandas/tests/plotting/test_misc.py -> build/lib.macosx-10.9-x86_64-3.8/pandas/tests/plotting\n",
      "  copying pandas/tests/plotting/test_boxplot_method.py -> build/lib.macosx-10.9-x86_64-3.8/pandas/tests/plotting\n",
      "  copying pandas/tests/plotting/__init__.py -> build/lib.macosx-10.9-x86_64-3.8/pandas/tests/plotting\n",
      "  copying pandas/tests/plotting/test_datetimelike.py -> build/lib.macosx-10.9-x86_64-3.8/pandas/tests/plotting\n",
      "  copying pandas/tests/plotting/test_hist_method.py -> build/lib.macosx-10.9-x86_64-3.8/pandas/tests/plotting\n",
      "  copying pandas/tests/plotting/common.py -> build/lib.macosx-10.9-x86_64-3.8/pandas/tests/plotting\n",
      "  copying pandas/tests/plotting/test_groupby.py -> build/lib.macosx-10.9-x86_64-3.8/pandas/tests/plotting\n",
      "  copying pandas/tests/plotting/test_converter.py -> build/lib.macosx-10.9-x86_64-3.8/pandas/tests/plotting\n",
      "  copying pandas/tests/plotting/test_series.py -> build/lib.macosx-10.9-x86_64-3.8/pandas/tests/plotting\n",
      "  creating build/lib.macosx-10.9-x86_64-3.8/pandas/tests/arrays\n",
      "  copying pandas/tests/arrays/test_period.py -> build/lib.macosx-10.9-x86_64-3.8/pandas/tests/arrays\n",
      "  copying pandas/tests/arrays/test_array.py -> build/lib.macosx-10.9-x86_64-3.8/pandas/tests/arrays\n",
      "  copying pandas/tests/arrays/__init__.py -> build/lib.macosx-10.9-x86_64-3.8/pandas/tests/arrays\n",
      "  copying pandas/tests/arrays/test_datetimelike.py -> build/lib.macosx-10.9-x86_64-3.8/pandas/tests/arrays\n",
      "  copying pandas/tests/arrays/test_timedeltas.py -> build/lib.macosx-10.9-x86_64-3.8/pandas/tests/arrays\n",
      "  copying pandas/tests/arrays/test_integer.py -> build/lib.macosx-10.9-x86_64-3.8/pandas/tests/arrays\n",
      "  copying pandas/tests/arrays/test_datetimes.py -> build/lib.macosx-10.9-x86_64-3.8/pandas/tests/arrays\n",
      "  copying pandas/tests/arrays/test_numpy.py -> build/lib.macosx-10.9-x86_64-3.8/pandas/tests/arrays\n",
      "  creating build/lib.macosx-10.9-x86_64-3.8/pandas/tests/arithmetic\n",
      "  copying pandas/tests/arithmetic/test_period.py -> build/lib.macosx-10.9-x86_64-3.8/pandas/tests/arithmetic\n",
      "  copying pandas/tests/arithmetic/conftest.py -> build/lib.macosx-10.9-x86_64-3.8/pandas/tests/arithmetic\n",
      "  copying pandas/tests/arithmetic/test_datetime64.py -> build/lib.macosx-10.9-x86_64-3.8/pandas/tests/arithmetic\n",
      "  copying pandas/tests/arithmetic/test_timedelta64.py -> build/lib.macosx-10.9-x86_64-3.8/pandas/tests/arithmetic\n",
      "  copying pandas/tests/arithmetic/__init__.py -> build/lib.macosx-10.9-x86_64-3.8/pandas/tests/arithmetic\n",
      "  copying pandas/tests/arithmetic/test_numeric.py -> build/lib.macosx-10.9-x86_64-3.8/pandas/tests/arithmetic\n",
      "  copying pandas/tests/arithmetic/test_object.py -> build/lib.macosx-10.9-x86_64-3.8/pandas/tests/arithmetic\n",
      "  creating build/lib.macosx-10.9-x86_64-3.8/pandas/tests/api\n",
      "  copying pandas/tests/api/__init__.py -> build/lib.macosx-10.9-x86_64-3.8/pandas/tests/api\n",
      "  copying pandas/tests/api/test_api.py -> build/lib.macosx-10.9-x86_64-3.8/pandas/tests/api\n",
      "  copying pandas/tests/api/test_types.py -> build/lib.macosx-10.9-x86_64-3.8/pandas/tests/api\n",
      "  creating build/lib.macosx-10.9-x86_64-3.8/pandas/tests/generic\n",
      "  copying pandas/tests/generic/test_frame.py -> build/lib.macosx-10.9-x86_64-3.8/pandas/tests/generic\n",
      "  copying pandas/tests/generic/test_panel.py -> build/lib.macosx-10.9-x86_64-3.8/pandas/tests/generic\n",
      "  copying pandas/tests/generic/__init__.py -> build/lib.macosx-10.9-x86_64-3.8/pandas/tests/generic\n",
      "  copying pandas/tests/generic/test_generic.py -> build/lib.macosx-10.9-x86_64-3.8/pandas/tests/generic\n",
      "  copying pandas/tests/generic/test_label_or_level_utils.py -> build/lib.macosx-10.9-x86_64-3.8/pandas/tests/generic\n",
      "  copying pandas/tests/generic/test_series.py -> build/lib.macosx-10.9-x86_64-3.8/pandas/tests/generic\n",
      "  creating build/lib.macosx-10.9-x86_64-3.8/pandas/tests/tslibs\n",
      "  copying pandas/tests/tslibs/test_parsing.py -> build/lib.macosx-10.9-x86_64-3.8/pandas/tests/tslibs\n",
      "  copying pandas/tests/tslibs/test_ccalendar.py -> build/lib.macosx-10.9-x86_64-3.8/pandas/tests/tslibs\n",
      "  copying pandas/tests/tslibs/test_timezones.py -> build/lib.macosx-10.9-x86_64-3.8/pandas/tests/tslibs\n",
      "  copying pandas/tests/tslibs/__init__.py -> build/lib.macosx-10.9-x86_64-3.8/pandas/tests/tslibs\n",
      "  copying pandas/tests/tslibs/test_conversion.py -> build/lib.macosx-10.9-x86_64-3.8/pandas/tests/tslibs\n",
      "  copying pandas/tests/tslibs/test_array_to_datetime.py -> build/lib.macosx-10.9-x86_64-3.8/pandas/tests/tslibs\n",
      "  copying pandas/tests/tslibs/test_timedeltas.py -> build/lib.macosx-10.9-x86_64-3.8/pandas/tests/tslibs\n",
      "  copying pandas/tests/tslibs/test_liboffsets.py -> build/lib.macosx-10.9-x86_64-3.8/pandas/tests/tslibs\n",
      "  copying pandas/tests/tslibs/test_libfrequencies.py -> build/lib.macosx-10.9-x86_64-3.8/pandas/tests/tslibs\n",
      "  copying pandas/tests/tslibs/test_api.py -> build/lib.macosx-10.9-x86_64-3.8/pandas/tests/tslibs\n",
      "  copying pandas/tests/tslibs/test_parse_iso8601.py -> build/lib.macosx-10.9-x86_64-3.8/pandas/tests/tslibs\n",
      "  copying pandas/tests/tslibs/test_normalize_date.py -> build/lib.macosx-10.9-x86_64-3.8/pandas/tests/tslibs\n",
      "  copying pandas/tests/tslibs/test_period_asfreq.py -> build/lib.macosx-10.9-x86_64-3.8/pandas/tests/tslibs\n",
      "  creating build/lib.macosx-10.9-x86_64-3.8/pandas/tests/sparse\n",
      "  copying pandas/tests/sparse/__init__.py -> build/lib.macosx-10.9-x86_64-3.8/pandas/tests/sparse\n",
      "  copying pandas/tests/sparse/test_pivot.py -> build/lib.macosx-10.9-x86_64-3.8/pandas/tests/sparse\n",
      "  copying pandas/tests/sparse/test_reshape.py -> build/lib.macosx-10.9-x86_64-3.8/pandas/tests/sparse\n",
      "  copying pandas/tests/sparse/test_indexing.py -> build/lib.macosx-10.9-x86_64-3.8/pandas/tests/sparse\n",
      "  copying pandas/tests/sparse/common.py -> build/lib.macosx-10.9-x86_64-3.8/pandas/tests/sparse\n",
      "  copying pandas/tests/sparse/test_groupby.py -> build/lib.macosx-10.9-x86_64-3.8/pandas/tests/sparse\n",
      "  copying pandas/tests/sparse/test_combine_concat.py -> build/lib.macosx-10.9-x86_64-3.8/pandas/tests/sparse\n",
      "  copying pandas/tests/sparse/test_format.py -> build/lib.macosx-10.9-x86_64-3.8/pandas/tests/sparse\n",
      "  creating build/lib.macosx-10.9-x86_64-3.8/pandas/tests/indexing\n",
      "  copying pandas/tests/indexing/test_indexing_slow.py -> build/lib.macosx-10.9-x86_64-3.8/pandas/tests/indexing\n",
      "  copying pandas/tests/indexing/conftest.py -> build/lib.macosx-10.9-x86_64-3.8/pandas/tests/indexing\n",
      "  copying pandas/tests/indexing/test_ix.py -> build/lib.macosx-10.9-x86_64-3.8/pandas/tests/indexing\n",
      "  copying pandas/tests/indexing/test_chaining_and_caching.py -> build/lib.macosx-10.9-x86_64-3.8/pandas/tests/indexing\n",
      "  copying pandas/tests/indexing/test_callable.py -> build/lib.macosx-10.9-x86_64-3.8/pandas/tests/indexing\n",
      "  copying pandas/tests/indexing/test_panel.py -> build/lib.macosx-10.9-x86_64-3.8/pandas/tests/indexing\n",
      "  copying pandas/tests/indexing/test_categorical.py -> build/lib.macosx-10.9-x86_64-3.8/pandas/tests/indexing\n",
      "  copying pandas/tests/indexing/test_iloc.py -> build/lib.macosx-10.9-x86_64-3.8/pandas/tests/indexing\n",
      "  copying pandas/tests/indexing/__init__.py -> build/lib.macosx-10.9-x86_64-3.8/pandas/tests/indexing\n",
      "  copying pandas/tests/indexing/test_loc.py -> build/lib.macosx-10.9-x86_64-3.8/pandas/tests/indexing\n",
      "  copying pandas/tests/indexing/test_timedelta.py -> build/lib.macosx-10.9-x86_64-3.8/pandas/tests/indexing\n",
      "  copying pandas/tests/indexing/test_indexing.py -> build/lib.macosx-10.9-x86_64-3.8/pandas/tests/indexing\n",
      "  copying pandas/tests/indexing/test_datetime.py -> build/lib.macosx-10.9-x86_64-3.8/pandas/tests/indexing\n",
      "  copying pandas/tests/indexing/test_floats.py -> build/lib.macosx-10.9-x86_64-3.8/pandas/tests/indexing\n",
      "  copying pandas/tests/indexing/common.py -> build/lib.macosx-10.9-x86_64-3.8/pandas/tests/indexing\n",
      "  copying pandas/tests/indexing/test_coercion.py -> build/lib.macosx-10.9-x86_64-3.8/pandas/tests/indexing\n",
      "  copying pandas/tests/indexing/test_scalar.py -> build/lib.macosx-10.9-x86_64-3.8/pandas/tests/indexing\n",
      "  copying pandas/tests/indexing/test_partial.py -> build/lib.macosx-10.9-x86_64-3.8/pandas/tests/indexing\n",
      "  copying pandas/tests/indexing/test_indexing_engines.py -> build/lib.macosx-10.9-x86_64-3.8/pandas/tests/indexing\n",
      "  creating build/lib.macosx-10.9-x86_64-3.8/pandas/tests/reductions\n",
      "  copying pandas/tests/reductions/test_stat_reductions.py -> build/lib.macosx-10.9-x86_64-3.8/pandas/tests/reductions\n",
      "  copying pandas/tests/reductions/test_reductions.py -> build/lib.macosx-10.9-x86_64-3.8/pandas/tests/reductions\n",
      "  copying pandas/tests/reductions/__init__.py -> build/lib.macosx-10.9-x86_64-3.8/pandas/tests/reductions\n",
      "  creating build/lib.macosx-10.9-x86_64-3.8/pandas/tests/scalar\n",
      "  copying pandas/tests/scalar/test_nat.py -> build/lib.macosx-10.9-x86_64-3.8/pandas/tests/scalar\n",
      "  copying pandas/tests/scalar/__init__.py -> build/lib.macosx-10.9-x86_64-3.8/pandas/tests/scalar\n",
      "  creating build/lib.macosx-10.9-x86_64-3.8/pandas/tests/indexes\n",
      "  copying pandas/tests/indexes/test_frozen.py -> build/lib.macosx-10.9-x86_64-3.8/pandas/tests/indexes\n",
      "  copying pandas/tests/indexes/conftest.py -> build/lib.macosx-10.9-x86_64-3.8/pandas/tests/indexes\n",
      "  copying pandas/tests/indexes/test_common.py -> build/lib.macosx-10.9-x86_64-3.8/pandas/tests/indexes\n",
      "  copying pandas/tests/indexes/__init__.py -> build/lib.macosx-10.9-x86_64-3.8/pandas/tests/indexes\n",
      "  copying pandas/tests/indexes/test_numeric.py -> build/lib.macosx-10.9-x86_64-3.8/pandas/tests/indexes\n",
      "  copying pandas/tests/indexes/common.py -> build/lib.macosx-10.9-x86_64-3.8/pandas/tests/indexes\n",
      "  copying pandas/tests/indexes/datetimelike.py -> build/lib.macosx-10.9-x86_64-3.8/pandas/tests/indexes\n",
      "  copying pandas/tests/indexes/test_category.py -> build/lib.macosx-10.9-x86_64-3.8/pandas/tests/indexes\n",
      "  copying pandas/tests/indexes/test_range.py -> build/lib.macosx-10.9-x86_64-3.8/pandas/tests/indexes\n",
      "  copying pandas/tests/indexes/test_base.py -> build/lib.macosx-10.9-x86_64-3.8/pandas/tests/indexes\n",
      "  creating build/lib.macosx-10.9-x86_64-3.8/pandas/tests/series/indexing\n",
      "  copying pandas/tests/series/indexing/test_alter_index.py -> build/lib.macosx-10.9-x86_64-3.8/pandas/tests/series/indexing\n",
      "  copying pandas/tests/series/indexing/conftest.py -> build/lib.macosx-10.9-x86_64-3.8/pandas/tests/series/indexing\n",
      "  copying pandas/tests/series/indexing/test_callable.py -> build/lib.macosx-10.9-x86_64-3.8/pandas/tests/series/indexing\n",
      "  copying pandas/tests/series/indexing/test_boolean.py -> build/lib.macosx-10.9-x86_64-3.8/pandas/tests/series/indexing\n",
      "  copying pandas/tests/series/indexing/test_iloc.py -> build/lib.macosx-10.9-x86_64-3.8/pandas/tests/series/indexing\n",
      "  copying pandas/tests/series/indexing/__init__.py -> build/lib.macosx-10.9-x86_64-3.8/pandas/tests/series/indexing\n",
      "  copying pandas/tests/series/indexing/test_loc.py -> build/lib.macosx-10.9-x86_64-3.8/pandas/tests/series/indexing\n",
      "  copying pandas/tests/series/indexing/test_indexing.py -> build/lib.macosx-10.9-x86_64-3.8/pandas/tests/series/indexing\n",
      "  copying pandas/tests/series/indexing/test_numeric.py -> build/lib.macosx-10.9-x86_64-3.8/pandas/tests/series/indexing\n",
      "  copying pandas/tests/series/indexing/test_datetime.py -> build/lib.macosx-10.9-x86_64-3.8/pandas/tests/series/indexing\n",
      "  creating build/lib.macosx-10.9-x86_64-3.8/pandas/tests/reshape/merge\n",
      "  copying pandas/tests/reshape/merge/test_merge_index_as_string.py -> build/lib.macosx-10.9-x86_64-3.8/pandas/tests/reshape/merge\n",
      "  copying pandas/tests/reshape/merge/test_merge_asof.py -> build/lib.macosx-10.9-x86_64-3.8/pandas/tests/reshape/merge\n",
      "  copying pandas/tests/reshape/merge/test_join.py -> build/lib.macosx-10.9-x86_64-3.8/pandas/tests/reshape/merge\n",
      "  copying pandas/tests/reshape/merge/__init__.py -> build/lib.macosx-10.9-x86_64-3.8/pandas/tests/reshape/merge\n",
      "  copying pandas/tests/reshape/merge/test_merge.py -> build/lib.macosx-10.9-x86_64-3.8/pandas/tests/reshape/merge\n",
      "  copying pandas/tests/reshape/merge/test_multi.py -> build/lib.macosx-10.9-x86_64-3.8/pandas/tests/reshape/merge\n",
      "  copying pandas/tests/reshape/merge/test_merge_ordered.py -> build/lib.macosx-10.9-x86_64-3.8/pandas/tests/reshape/merge\n",
      "  creating build/lib.macosx-10.9-x86_64-3.8/pandas/tests/extension/decimal\n",
      "  copying pandas/tests/extension/decimal/test_decimal.py -> build/lib.macosx-10.9-x86_64-3.8/pandas/tests/extension/decimal\n",
      "  copying pandas/tests/extension/decimal/__init__.py -> build/lib.macosx-10.9-x86_64-3.8/pandas/tests/extension/decimal\n",
      "  copying pandas/tests/extension/decimal/array.py -> build/lib.macosx-10.9-x86_64-3.8/pandas/tests/extension/decimal\n",
      "  creating build/lib.macosx-10.9-x86_64-3.8/pandas/tests/extension/arrow\n",
      "  copying pandas/tests/extension/arrow/bool.py -> build/lib.macosx-10.9-x86_64-3.8/pandas/tests/extension/arrow\n",
      "  copying pandas/tests/extension/arrow/__init__.py -> build/lib.macosx-10.9-x86_64-3.8/pandas/tests/extension/arrow\n",
      "  copying pandas/tests/extension/arrow/test_bool.py -> build/lib.macosx-10.9-x86_64-3.8/pandas/tests/extension/arrow\n",
      "  creating build/lib.macosx-10.9-x86_64-3.8/pandas/tests/extension/json\n",
      "  copying pandas/tests/extension/json/__init__.py -> build/lib.macosx-10.9-x86_64-3.8/pandas/tests/extension/json\n",
      "  copying pandas/tests/extension/json/test_json.py -> build/lib.macosx-10.9-x86_64-3.8/pandas/tests/extension/json\n",
      "  copying pandas/tests/extension/json/array.py -> build/lib.macosx-10.9-x86_64-3.8/pandas/tests/extension/json\n",
      "  creating build/lib.macosx-10.9-x86_64-3.8/pandas/tests/extension/base\n",
      "  copying pandas/tests/extension/base/missing.py -> build/lib.macosx-10.9-x86_64-3.8/pandas/tests/extension/base\n",
      "  copying pandas/tests/extension/base/reshaping.py -> build/lib.macosx-10.9-x86_64-3.8/pandas/tests/extension/base\n",
      "  copying pandas/tests/extension/base/methods.py -> build/lib.macosx-10.9-x86_64-3.8/pandas/tests/extension/base\n",
      "  copying pandas/tests/extension/base/reduce.py -> build/lib.macosx-10.9-x86_64-3.8/pandas/tests/extension/base\n",
      "  copying pandas/tests/extension/base/setitem.py -> build/lib.macosx-10.9-x86_64-3.8/pandas/tests/extension/base\n",
      "  copying pandas/tests/extension/base/dtype.py -> build/lib.macosx-10.9-x86_64-3.8/pandas/tests/extension/base\n",
      "  copying pandas/tests/extension/base/io.py -> build/lib.macosx-10.9-x86_64-3.8/pandas/tests/extension/base\n",
      "  copying pandas/tests/extension/base/interface.py -> build/lib.macosx-10.9-x86_64-3.8/pandas/tests/extension/base\n",
      "  copying pandas/tests/extension/base/__init__.py -> build/lib.macosx-10.9-x86_64-3.8/pandas/tests/extension/base\n",
      "  copying pandas/tests/extension/base/getitem.py -> build/lib.macosx-10.9-x86_64-3.8/pandas/tests/extension/base\n",
      "  copying pandas/tests/extension/base/ops.py -> build/lib.macosx-10.9-x86_64-3.8/pandas/tests/extension/base\n",
      "  copying pandas/tests/extension/base/casting.py -> build/lib.macosx-10.9-x86_64-3.8/pandas/tests/extension/base\n",
      "  copying pandas/tests/extension/base/groupby.py -> build/lib.macosx-10.9-x86_64-3.8/pandas/tests/extension/base\n",
      "  copying pandas/tests/extension/base/base.py -> build/lib.macosx-10.9-x86_64-3.8/pandas/tests/extension/base\n",
      "  copying pandas/tests/extension/base/constructors.py -> build/lib.macosx-10.9-x86_64-3.8/pandas/tests/extension/base\n",
      "  copying pandas/tests/extension/base/printing.py -> build/lib.macosx-10.9-x86_64-3.8/pandas/tests/extension/base\n",
      "  creating build/lib.macosx-10.9-x86_64-3.8/pandas/tests/extension/numpy_\n",
      "  copying pandas/tests/extension/numpy_/conftest.py -> build/lib.macosx-10.9-x86_64-3.8/pandas/tests/extension/numpy_\n",
      "  copying pandas/tests/extension/numpy_/test_numpy_nested.py -> build/lib.macosx-10.9-x86_64-3.8/pandas/tests/extension/numpy_\n",
      "  copying pandas/tests/extension/numpy_/__init__.py -> build/lib.macosx-10.9-x86_64-3.8/pandas/tests/extension/numpy_\n",
      "  copying pandas/tests/extension/numpy_/test_numpy.py -> build/lib.macosx-10.9-x86_64-3.8/pandas/tests/extension/numpy_\n",
      "  creating build/lib.macosx-10.9-x86_64-3.8/pandas/tests/io/msgpack\n",
      "  copying pandas/tests/io/msgpack/test_extension.py -> build/lib.macosx-10.9-x86_64-3.8/pandas/tests/io/msgpack\n",
      "  copying pandas/tests/io/msgpack/test_subtype.py -> build/lib.macosx-10.9-x86_64-3.8/pandas/tests/io/msgpack\n",
      "  copying pandas/tests/io/msgpack/test_buffer.py -> build/lib.macosx-10.9-x86_64-3.8/pandas/tests/io/msgpack\n",
      "  copying pandas/tests/io/msgpack/test_unpack.py -> build/lib.macosx-10.9-x86_64-3.8/pandas/tests/io/msgpack\n",
      "  copying pandas/tests/io/msgpack/test_pack.py -> build/lib.macosx-10.9-x86_64-3.8/pandas/tests/io/msgpack\n",
      "  copying pandas/tests/io/msgpack/test_unpack_raw.py -> build/lib.macosx-10.9-x86_64-3.8/pandas/tests/io/msgpack\n",
      "  copying pandas/tests/io/msgpack/__init__.py -> build/lib.macosx-10.9-x86_64-3.8/pandas/tests/io/msgpack\n",
      "  copying pandas/tests/io/msgpack/test_except.py -> build/lib.macosx-10.9-x86_64-3.8/pandas/tests/io/msgpack\n",
      "  copying pandas/tests/io/msgpack/test_case.py -> build/lib.macosx-10.9-x86_64-3.8/pandas/tests/io/msgpack\n",
      "  copying pandas/tests/io/msgpack/test_read_size.py -> build/lib.macosx-10.9-x86_64-3.8/pandas/tests/io/msgpack\n",
      "  copying pandas/tests/io/msgpack/common.py -> build/lib.macosx-10.9-x86_64-3.8/pandas/tests/io/msgpack\n",
      "  copying pandas/tests/io/msgpack/test_seq.py -> build/lib.macosx-10.9-x86_64-3.8/pandas/tests/io/msgpack\n",
      "  copying pandas/tests/io/msgpack/test_limits.py -> build/lib.macosx-10.9-x86_64-3.8/pandas/tests/io/msgpack\n",
      "  copying pandas/tests/io/msgpack/test_obj.py -> build/lib.macosx-10.9-x86_64-3.8/pandas/tests/io/msgpack\n",
      "  copying pandas/tests/io/msgpack/test_newspec.py -> build/lib.macosx-10.9-x86_64-3.8/pandas/tests/io/msgpack\n",
      "  copying pandas/tests/io/msgpack/test_format.py -> build/lib.macosx-10.9-x86_64-3.8/pandas/tests/io/msgpack\n",
      "  copying pandas/tests/io/msgpack/test_sequnpack.py -> build/lib.macosx-10.9-x86_64-3.8/pandas/tests/io/msgpack\n",
      "  creating build/lib.macosx-10.9-x86_64-3.8/pandas/tests/io/formats\n",
      "  copying pandas/tests/io/formats/test_console.py -> build/lib.macosx-10.9-x86_64-3.8/pandas/tests/io/formats\n",
      "  copying pandas/tests/io/formats/test_to_latex.py -> build/lib.macosx-10.9-x86_64-3.8/pandas/tests/io/formats\n",
      "  copying pandas/tests/io/formats/test_to_html.py -> build/lib.macosx-10.9-x86_64-3.8/pandas/tests/io/formats\n",
      "  copying pandas/tests/io/formats/__init__.py -> build/lib.macosx-10.9-x86_64-3.8/pandas/tests/io/formats\n",
      "  copying pandas/tests/io/formats/test_eng_formatting.py -> build/lib.macosx-10.9-x86_64-3.8/pandas/tests/io/formats\n",
      "  copying pandas/tests/io/formats/test_printing.py -> build/lib.macosx-10.9-x86_64-3.8/pandas/tests/io/formats\n",
      "  copying pandas/tests/io/formats/test_style.py -> build/lib.macosx-10.9-x86_64-3.8/pandas/tests/io/formats\n",
      "  copying pandas/tests/io/formats/test_css.py -> build/lib.macosx-10.9-x86_64-3.8/pandas/tests/io/formats\n",
      "  copying pandas/tests/io/formats/test_to_excel.py -> build/lib.macosx-10.9-x86_64-3.8/pandas/tests/io/formats\n",
      "  copying pandas/tests/io/formats/test_format.py -> build/lib.macosx-10.9-x86_64-3.8/pandas/tests/io/formats\n",
      "  copying pandas/tests/io/formats/test_to_csv.py -> build/lib.macosx-10.9-x86_64-3.8/pandas/tests/io/formats\n",
      "  creating build/lib.macosx-10.9-x86_64-3.8/pandas/tests/io/parser\n",
      "  copying pandas/tests/io/parser/test_comment.py -> build/lib.macosx-10.9-x86_64-3.8/pandas/tests/io/parser\n",
      "  copying pandas/tests/io/parser/test_multi_thread.py -> build/lib.macosx-10.9-x86_64-3.8/pandas/tests/io/parser\n",
      "  copying pandas/tests/io/parser/test_compression.py -> build/lib.macosx-10.9-x86_64-3.8/pandas/tests/io/parser\n",
      "  copying pandas/tests/io/parser/conftest.py -> build/lib.macosx-10.9-x86_64-3.8/pandas/tests/io/parser\n",
      "  copying pandas/tests/io/parser/test_converters.py -> build/lib.macosx-10.9-x86_64-3.8/pandas/tests/io/parser\n",
      "  copying pandas/tests/io/parser/test_common.py -> build/lib.macosx-10.9-x86_64-3.8/pandas/tests/io/parser\n",
      "  copying pandas/tests/io/parser/test_parse_dates.py -> build/lib.macosx-10.9-x86_64-3.8/pandas/tests/io/parser\n",
      "  copying pandas/tests/io/parser/test_c_parser_only.py -> build/lib.macosx-10.9-x86_64-3.8/pandas/tests/io/parser\n",
      "  copying pandas/tests/io/parser/test_dialect.py -> build/lib.macosx-10.9-x86_64-3.8/pandas/tests/io/parser\n",
      "  copying pandas/tests/io/parser/test_skiprows.py -> build/lib.macosx-10.9-x86_64-3.8/pandas/tests/io/parser\n",
      "  copying pandas/tests/io/parser/__init__.py -> build/lib.macosx-10.9-x86_64-3.8/pandas/tests/io/parser\n",
      "  copying pandas/tests/io/parser/test_read_fwf.py -> build/lib.macosx-10.9-x86_64-3.8/pandas/tests/io/parser\n",
      "  copying pandas/tests/io/parser/test_unsupported.py -> build/lib.macosx-10.9-x86_64-3.8/pandas/tests/io/parser\n",
      "  copying pandas/tests/io/parser/test_mangle_dupes.py -> build/lib.macosx-10.9-x86_64-3.8/pandas/tests/io/parser\n",
      "  copying pandas/tests/io/parser/test_python_parser_only.py -> build/lib.macosx-10.9-x86_64-3.8/pandas/tests/io/parser\n",
      "  copying pandas/tests/io/parser/test_textreader.py -> build/lib.macosx-10.9-x86_64-3.8/pandas/tests/io/parser\n",
      "  copying pandas/tests/io/parser/test_network.py -> build/lib.macosx-10.9-x86_64-3.8/pandas/tests/io/parser\n",
      "  copying pandas/tests/io/parser/test_na_values.py -> build/lib.macosx-10.9-x86_64-3.8/pandas/tests/io/parser\n",
      "  copying pandas/tests/io/parser/test_usecols.py -> build/lib.macosx-10.9-x86_64-3.8/pandas/tests/io/parser\n",
      "  copying pandas/tests/io/parser/test_quoting.py -> build/lib.macosx-10.9-x86_64-3.8/pandas/tests/io/parser\n",
      "  copying pandas/tests/io/parser/test_header.py -> build/lib.macosx-10.9-x86_64-3.8/pandas/tests/io/parser\n",
      "  copying pandas/tests/io/parser/test_index_col.py -> build/lib.macosx-10.9-x86_64-3.8/pandas/tests/io/parser\n",
      "  copying pandas/tests/io/parser/test_dtypes.py -> build/lib.macosx-10.9-x86_64-3.8/pandas/tests/io/parser\n",
      "  creating build/lib.macosx-10.9-x86_64-3.8/pandas/tests/io/json\n",
      "  copying pandas/tests/io/json/test_compression.py -> build/lib.macosx-10.9-x86_64-3.8/pandas/tests/io/json\n",
      "  copying pandas/tests/io/json/test_json_table_schema.py -> build/lib.macosx-10.9-x86_64-3.8/pandas/tests/io/json\n",
      "  copying pandas/tests/io/json/__init__.py -> build/lib.macosx-10.9-x86_64-3.8/pandas/tests/io/json\n",
      "  copying pandas/tests/io/json/test_readlines.py -> build/lib.macosx-10.9-x86_64-3.8/pandas/tests/io/json\n",
      "  copying pandas/tests/io/json/test_ujson.py -> build/lib.macosx-10.9-x86_64-3.8/pandas/tests/io/json\n",
      "  copying pandas/tests/io/json/test_pandas.py -> build/lib.macosx-10.9-x86_64-3.8/pandas/tests/io/json\n",
      "  copying pandas/tests/io/json/test_normalize.py -> build/lib.macosx-10.9-x86_64-3.8/pandas/tests/io/json\n",
      "  creating build/lib.macosx-10.9-x86_64-3.8/pandas/tests/io/sas\n",
      "  copying pandas/tests/io/sas/test_sas7bdat.py -> build/lib.macosx-10.9-x86_64-3.8/pandas/tests/io/sas\n",
      "  copying pandas/tests/io/sas/test_sas.py -> build/lib.macosx-10.9-x86_64-3.8/pandas/tests/io/sas\n",
      "  copying pandas/tests/io/sas/__init__.py -> build/lib.macosx-10.9-x86_64-3.8/pandas/tests/io/sas\n",
      "  copying pandas/tests/io/sas/test_xport.py -> build/lib.macosx-10.9-x86_64-3.8/pandas/tests/io/sas\n",
      "  creating build/lib.macosx-10.9-x86_64-3.8/pandas/tests/tseries/offsets\n",
      "  copying pandas/tests/tseries/offsets/conftest.py -> build/lib.macosx-10.9-x86_64-3.8/pandas/tests/tseries/offsets\n",
      "  copying pandas/tests/tseries/offsets/test_offsets_properties.py -> build/lib.macosx-10.9-x86_64-3.8/pandas/tests/tseries/offsets\n",
      "  copying pandas/tests/tseries/offsets/test_fiscal.py -> build/lib.macosx-10.9-x86_64-3.8/pandas/tests/tseries/offsets\n",
      "  copying pandas/tests/tseries/offsets/__init__.py -> build/lib.macosx-10.9-x86_64-3.8/pandas/tests/tseries/offsets\n",
      "  copying pandas/tests/tseries/offsets/test_yqm_offsets.py -> build/lib.macosx-10.9-x86_64-3.8/pandas/tests/tseries/offsets\n",
      "  copying pandas/tests/tseries/offsets/common.py -> build/lib.macosx-10.9-x86_64-3.8/pandas/tests/tseries/offsets\n",
      "  copying pandas/tests/tseries/offsets/test_ticks.py -> build/lib.macosx-10.9-x86_64-3.8/pandas/tests/tseries/offsets\n",
      "  copying pandas/tests/tseries/offsets/test_offsets.py -> build/lib.macosx-10.9-x86_64-3.8/pandas/tests/tseries/offsets\n",
      "  creating build/lib.macosx-10.9-x86_64-3.8/pandas/tests/dtypes/cast\n",
      "  copying pandas/tests/dtypes/cast/test_convert_objects.py -> build/lib.macosx-10.9-x86_64-3.8/pandas/tests/dtypes/cast\n",
      "  copying pandas/tests/dtypes/cast/test_construct_object_arr.py -> build/lib.macosx-10.9-x86_64-3.8/pandas/tests/dtypes/cast\n",
      "  copying pandas/tests/dtypes/cast/test_construct_from_scalar.py -> build/lib.macosx-10.9-x86_64-3.8/pandas/tests/dtypes/cast\n",
      "  copying pandas/tests/dtypes/cast/test_find_common_type.py -> build/lib.macosx-10.9-x86_64-3.8/pandas/tests/dtypes/cast\n",
      "  copying pandas/tests/dtypes/cast/__init__.py -> build/lib.macosx-10.9-x86_64-3.8/pandas/tests/dtypes/cast\n",
      "  copying pandas/tests/dtypes/cast/test_infer_dtype.py -> build/lib.macosx-10.9-x86_64-3.8/pandas/tests/dtypes/cast\n",
      "  copying pandas/tests/dtypes/cast/test_infer_datetimelike.py -> build/lib.macosx-10.9-x86_64-3.8/pandas/tests/dtypes/cast\n",
      "  copying pandas/tests/dtypes/cast/test_construct_ndarray.py -> build/lib.macosx-10.9-x86_64-3.8/pandas/tests/dtypes/cast\n",
      "  copying pandas/tests/dtypes/cast/test_downcast.py -> build/lib.macosx-10.9-x86_64-3.8/pandas/tests/dtypes/cast\n",
      "  creating build/lib.macosx-10.9-x86_64-3.8/pandas/tests/groupby/aggregate\n",
      "  copying pandas/tests/groupby/aggregate/__init__.py -> build/lib.macosx-10.9-x86_64-3.8/pandas/tests/groupby/aggregate\n",
      "  copying pandas/tests/groupby/aggregate/test_cython.py -> build/lib.macosx-10.9-x86_64-3.8/pandas/tests/groupby/aggregate\n",
      "  copying pandas/tests/groupby/aggregate/test_aggregate.py -> build/lib.macosx-10.9-x86_64-3.8/pandas/tests/groupby/aggregate\n",
      "  copying pandas/tests/groupby/aggregate/test_other.py -> build/lib.macosx-10.9-x86_64-3.8/pandas/tests/groupby/aggregate\n",
      "  creating build/lib.macosx-10.9-x86_64-3.8/pandas/tests/arrays/interval\n",
      "  copying pandas/tests/arrays/interval/__init__.py -> build/lib.macosx-10.9-x86_64-3.8/pandas/tests/arrays/interval\n",
      "  copying pandas/tests/arrays/interval/test_interval.py -> build/lib.macosx-10.9-x86_64-3.8/pandas/tests/arrays/interval\n",
      "  copying pandas/tests/arrays/interval/test_ops.py -> build/lib.macosx-10.9-x86_64-3.8/pandas/tests/arrays/interval\n",
      "  creating build/lib.macosx-10.9-x86_64-3.8/pandas/tests/arrays/categorical\n",
      "  copying pandas/tests/arrays/categorical/conftest.py -> build/lib.macosx-10.9-x86_64-3.8/pandas/tests/arrays/categorical\n",
      "  copying pandas/tests/arrays/categorical/test_warnings.py -> build/lib.macosx-10.9-x86_64-3.8/pandas/tests/arrays/categorical\n",
      "  copying pandas/tests/arrays/categorical/test_constructors.py -> build/lib.macosx-10.9-x86_64-3.8/pandas/tests/arrays/categorical\n",
      "  copying pandas/tests/arrays/categorical/test_missing.py -> build/lib.macosx-10.9-x86_64-3.8/pandas/tests/arrays/categorical\n",
      "  copying pandas/tests/arrays/categorical/test_sorting.py -> build/lib.macosx-10.9-x86_64-3.8/pandas/tests/arrays/categorical\n",
      "  copying pandas/tests/arrays/categorical/test_operators.py -> build/lib.macosx-10.9-x86_64-3.8/pandas/tests/arrays/categorical\n",
      "  copying pandas/tests/arrays/categorical/__init__.py -> build/lib.macosx-10.9-x86_64-3.8/pandas/tests/arrays/categorical\n",
      "  copying pandas/tests/arrays/categorical/test_subclass.py -> build/lib.macosx-10.9-x86_64-3.8/pandas/tests/arrays/categorical\n",
      "  copying pandas/tests/arrays/categorical/test_analytics.py -> build/lib.macosx-10.9-x86_64-3.8/pandas/tests/arrays/categorical\n",
      "  copying pandas/tests/arrays/categorical/test_indexing.py -> build/lib.macosx-10.9-x86_64-3.8/pandas/tests/arrays/categorical\n",
      "  copying pandas/tests/arrays/categorical/test_algos.py -> build/lib.macosx-10.9-x86_64-3.8/pandas/tests/arrays/categorical\n",
      "  copying pandas/tests/arrays/categorical/common.py -> build/lib.macosx-10.9-x86_64-3.8/pandas/tests/arrays/categorical\n",
      "  copying pandas/tests/arrays/categorical/test_repr.py -> build/lib.macosx-10.9-x86_64-3.8/pandas/tests/arrays/categorical\n",
      "  copying pandas/tests/arrays/categorical/test_api.py -> build/lib.macosx-10.9-x86_64-3.8/pandas/tests/arrays/categorical\n",
      "  copying pandas/tests/arrays/categorical/test_dtypes.py -> build/lib.macosx-10.9-x86_64-3.8/pandas/tests/arrays/categorical\n",
      "  creating build/lib.macosx-10.9-x86_64-3.8/pandas/tests/arrays/sparse\n",
      "  copying pandas/tests/arrays/sparse/test_libsparse.py -> build/lib.macosx-10.9-x86_64-3.8/pandas/tests/arrays/sparse\n",
      "  copying pandas/tests/arrays/sparse/test_array.py -> build/lib.macosx-10.9-x86_64-3.8/pandas/tests/arrays/sparse\n",
      "  copying pandas/tests/arrays/sparse/test_arithmetics.py -> build/lib.macosx-10.9-x86_64-3.8/pandas/tests/arrays/sparse\n",
      "  copying pandas/tests/arrays/sparse/__init__.py -> build/lib.macosx-10.9-x86_64-3.8/pandas/tests/arrays/sparse\n",
      "  copying pandas/tests/arrays/sparse/test_dtype.py -> build/lib.macosx-10.9-x86_64-3.8/pandas/tests/arrays/sparse\n",
      "  creating build/lib.macosx-10.9-x86_64-3.8/pandas/tests/sparse/series\n",
      "  copying pandas/tests/sparse/series/__init__.py -> build/lib.macosx-10.9-x86_64-3.8/pandas/tests/sparse/series\n",
      "  copying pandas/tests/sparse/series/test_indexing.py -> build/lib.macosx-10.9-x86_64-3.8/pandas/tests/sparse/series\n",
      "  copying pandas/tests/sparse/series/test_series.py -> build/lib.macosx-10.9-x86_64-3.8/pandas/tests/sparse/series\n",
      "  creating build/lib.macosx-10.9-x86_64-3.8/pandas/tests/sparse/frame\n",
      "  copying pandas/tests/sparse/frame/conftest.py -> build/lib.macosx-10.9-x86_64-3.8/pandas/tests/sparse/frame\n",
      "  copying pandas/tests/sparse/frame/test_frame.py -> build/lib.macosx-10.9-x86_64-3.8/pandas/tests/sparse/frame\n",
      "  copying pandas/tests/sparse/frame/test_to_from_scipy.py -> build/lib.macosx-10.9-x86_64-3.8/pandas/tests/sparse/frame\n",
      "  copying pandas/tests/sparse/frame/__init__.py -> build/lib.macosx-10.9-x86_64-3.8/pandas/tests/sparse/frame\n",
      "  copying pandas/tests/sparse/frame/test_analytics.py -> build/lib.macosx-10.9-x86_64-3.8/pandas/tests/sparse/frame\n",
      "  copying pandas/tests/sparse/frame/test_apply.py -> build/lib.macosx-10.9-x86_64-3.8/pandas/tests/sparse/frame\n",
      "  copying pandas/tests/sparse/frame/test_indexing.py -> build/lib.macosx-10.9-x86_64-3.8/pandas/tests/sparse/frame\n",
      "  copying pandas/tests/sparse/frame/test_to_csv.py -> build/lib.macosx-10.9-x86_64-3.8/pandas/tests/sparse/frame\n",
      "  creating build/lib.macosx-10.9-x86_64-3.8/pandas/tests/indexing/interval\n",
      "  copying pandas/tests/indexing/interval/__init__.py -> build/lib.macosx-10.9-x86_64-3.8/pandas/tests/indexing/interval\n",
      "  copying pandas/tests/indexing/interval/test_interval.py -> build/lib.macosx-10.9-x86_64-3.8/pandas/tests/indexing/interval\n",
      "  copying pandas/tests/indexing/interval/test_interval_new.py -> build/lib.macosx-10.9-x86_64-3.8/pandas/tests/indexing/interval\n",
      "  creating build/lib.macosx-10.9-x86_64-3.8/pandas/tests/indexing/multiindex\n",
      "  copying pandas/tests/indexing/multiindex/test_indexing_slow.py -> build/lib.macosx-10.9-x86_64-3.8/pandas/tests/indexing/multiindex\n",
      "  copying pandas/tests/indexing/multiindex/test_multiindex.py -> build/lib.macosx-10.9-x86_64-3.8/pandas/tests/indexing/multiindex\n",
      "  copying pandas/tests/indexing/multiindex/conftest.py -> build/lib.macosx-10.9-x86_64-3.8/pandas/tests/indexing/multiindex\n",
      "  copying pandas/tests/indexing/multiindex/test_ix.py -> build/lib.macosx-10.9-x86_64-3.8/pandas/tests/indexing/multiindex\n",
      "  copying pandas/tests/indexing/multiindex/test_chaining_and_caching.py -> build/lib.macosx-10.9-x86_64-3.8/pandas/tests/indexing/multiindex\n",
      "  copying pandas/tests/indexing/multiindex/test_xs.py -> build/lib.macosx-10.9-x86_64-3.8/pandas/tests/indexing/multiindex\n",
      "  copying pandas/tests/indexing/multiindex/test_getitem.py -> build/lib.macosx-10.9-x86_64-3.8/pandas/tests/indexing/multiindex\n",
      "  copying pandas/tests/indexing/multiindex/test_panel.py -> build/lib.macosx-10.9-x86_64-3.8/pandas/tests/indexing/multiindex\n",
      "  copying pandas/tests/indexing/multiindex/test_sorted.py -> build/lib.macosx-10.9-x86_64-3.8/pandas/tests/indexing/multiindex\n",
      "  copying pandas/tests/indexing/multiindex/test_setitem.py -> build/lib.macosx-10.9-x86_64-3.8/pandas/tests/indexing/multiindex\n",
      "  copying pandas/tests/indexing/multiindex/test_iloc.py -> build/lib.macosx-10.9-x86_64-3.8/pandas/tests/indexing/multiindex\n",
      "  copying pandas/tests/indexing/multiindex/__init__.py -> build/lib.macosx-10.9-x86_64-3.8/pandas/tests/indexing/multiindex\n",
      "  copying pandas/tests/indexing/multiindex/test_loc.py -> build/lib.macosx-10.9-x86_64-3.8/pandas/tests/indexing/multiindex\n",
      "  copying pandas/tests/indexing/multiindex/test_datetime.py -> build/lib.macosx-10.9-x86_64-3.8/pandas/tests/indexing/multiindex\n",
      "  copying pandas/tests/indexing/multiindex/test_slice.py -> build/lib.macosx-10.9-x86_64-3.8/pandas/tests/indexing/multiindex\n",
      "  copying pandas/tests/indexing/multiindex/test_set_ops.py -> build/lib.macosx-10.9-x86_64-3.8/pandas/tests/indexing/multiindex\n",
      "  copying pandas/tests/indexing/multiindex/test_partial.py -> build/lib.macosx-10.9-x86_64-3.8/pandas/tests/indexing/multiindex\n",
      "  creating build/lib.macosx-10.9-x86_64-3.8/pandas/tests/scalar/interval\n",
      "  copying pandas/tests/scalar/interval/__init__.py -> build/lib.macosx-10.9-x86_64-3.8/pandas/tests/scalar/interval\n",
      "  copying pandas/tests/scalar/interval/test_interval.py -> build/lib.macosx-10.9-x86_64-3.8/pandas/tests/scalar/interval\n",
      "  copying pandas/tests/scalar/interval/test_ops.py -> build/lib.macosx-10.9-x86_64-3.8/pandas/tests/scalar/interval\n",
      "  creating build/lib.macosx-10.9-x86_64-3.8/pandas/tests/scalar/timedelta\n",
      "  copying pandas/tests/scalar/timedelta/__init__.py -> build/lib.macosx-10.9-x86_64-3.8/pandas/tests/scalar/timedelta\n",
      "  copying pandas/tests/scalar/timedelta/test_timedelta.py -> build/lib.macosx-10.9-x86_64-3.8/pandas/tests/scalar/timedelta\n",
      "  copying pandas/tests/scalar/timedelta/test_formats.py -> build/lib.macosx-10.9-x86_64-3.8/pandas/tests/scalar/timedelta\n",
      "  copying pandas/tests/scalar/timedelta/test_construction.py -> build/lib.macosx-10.9-x86_64-3.8/pandas/tests/scalar/timedelta\n",
      "  copying pandas/tests/scalar/timedelta/test_arithmetic.py -> build/lib.macosx-10.9-x86_64-3.8/pandas/tests/scalar/timedelta\n",
      "  creating build/lib.macosx-10.9-x86_64-3.8/pandas/tests/scalar/period\n",
      "  copying pandas/tests/scalar/period/test_period.py -> build/lib.macosx-10.9-x86_64-3.8/pandas/tests/scalar/period\n",
      "  copying pandas/tests/scalar/period/__init__.py -> build/lib.macosx-10.9-x86_64-3.8/pandas/tests/scalar/period\n",
      "  copying pandas/tests/scalar/period/test_asfreq.py -> build/lib.macosx-10.9-x86_64-3.8/pandas/tests/scalar/period\n",
      "  creating build/lib.macosx-10.9-x86_64-3.8/pandas/tests/scalar/timestamp\n",
      "  copying pandas/tests/scalar/timestamp/test_timezones.py -> build/lib.macosx-10.9-x86_64-3.8/pandas/tests/scalar/timestamp\n",
      "  copying pandas/tests/scalar/timestamp/test_timestamp.py -> build/lib.macosx-10.9-x86_64-3.8/pandas/tests/scalar/timestamp\n",
      "  copying pandas/tests/scalar/timestamp/__init__.py -> build/lib.macosx-10.9-x86_64-3.8/pandas/tests/scalar/timestamp\n",
      "  copying pandas/tests/scalar/timestamp/test_comparisons.py -> build/lib.macosx-10.9-x86_64-3.8/pandas/tests/scalar/timestamp\n",
      "  copying pandas/tests/scalar/timestamp/test_rendering.py -> build/lib.macosx-10.9-x86_64-3.8/pandas/tests/scalar/timestamp\n",
      "  copying pandas/tests/scalar/timestamp/test_unary_ops.py -> build/lib.macosx-10.9-x86_64-3.8/pandas/tests/scalar/timestamp\n",
      "  copying pandas/tests/scalar/timestamp/test_arithmetic.py -> build/lib.macosx-10.9-x86_64-3.8/pandas/tests/scalar/timestamp\n",
      "  creating build/lib.macosx-10.9-x86_64-3.8/pandas/tests/indexes/interval\n",
      "  copying pandas/tests/indexes/interval/__init__.py -> build/lib.macosx-10.9-x86_64-3.8/pandas/tests/indexes/interval\n",
      "  copying pandas/tests/indexes/interval/test_interval_range.py -> build/lib.macosx-10.9-x86_64-3.8/pandas/tests/indexes/interval\n",
      "  copying pandas/tests/indexes/interval/test_interval.py -> build/lib.macosx-10.9-x86_64-3.8/pandas/tests/indexes/interval\n",
      "  copying pandas/tests/indexes/interval/test_astype.py -> build/lib.macosx-10.9-x86_64-3.8/pandas/tests/indexes/interval\n",
      "  copying pandas/tests/indexes/interval/test_construction.py -> build/lib.macosx-10.9-x86_64-3.8/pandas/tests/indexes/interval\n",
      "  copying pandas/tests/indexes/interval/test_interval_new.py -> build/lib.macosx-10.9-x86_64-3.8/pandas/tests/indexes/interval\n",
      "  copying pandas/tests/indexes/interval/test_interval_tree.py -> build/lib.macosx-10.9-x86_64-3.8/pandas/tests/indexes/interval\n",
      "  creating build/lib.macosx-10.9-x86_64-3.8/pandas/tests/indexes/multi\n",
      "  copying pandas/tests/indexes/multi/test_names.py -> build/lib.macosx-10.9-x86_64-3.8/pandas/tests/indexes/multi\n",
      "  copying pandas/tests/indexes/multi/conftest.py -> build/lib.macosx-10.9-x86_64-3.8/pandas/tests/indexes/multi\n",
      "  copying pandas/tests/indexes/multi/test_missing.py -> build/lib.macosx-10.9-x86_64-3.8/pandas/tests/indexes/multi\n",
      "  copying pandas/tests/indexes/multi/test_sorting.py -> build/lib.macosx-10.9-x86_64-3.8/pandas/tests/indexes/multi\n",
      "  copying pandas/tests/indexes/multi/test_join.py -> build/lib.macosx-10.9-x86_64-3.8/pandas/tests/indexes/multi\n",
      "  copying pandas/tests/indexes/multi/test_copy.py -> build/lib.macosx-10.9-x86_64-3.8/pandas/tests/indexes/multi\n",
      "  copying pandas/tests/indexes/multi/test_integrity.py -> build/lib.macosx-10.9-x86_64-3.8/pandas/tests/indexes/multi\n",
      "  copying pandas/tests/indexes/multi/__init__.py -> build/lib.macosx-10.9-x86_64-3.8/pandas/tests/indexes/multi\n",
      "  copying pandas/tests/indexes/multi/test_reshape.py -> build/lib.macosx-10.9-x86_64-3.8/pandas/tests/indexes/multi\n",
      "  copying pandas/tests/indexes/multi/test_analytics.py -> build/lib.macosx-10.9-x86_64-3.8/pandas/tests/indexes/multi\n",
      "  copying pandas/tests/indexes/multi/test_constructor.py -> build/lib.macosx-10.9-x86_64-3.8/pandas/tests/indexes/multi\n",
      "  copying pandas/tests/indexes/multi/test_conversion.py -> build/lib.macosx-10.9-x86_64-3.8/pandas/tests/indexes/multi\n",
      "  copying pandas/tests/indexes/multi/test_indexing.py -> build/lib.macosx-10.9-x86_64-3.8/pandas/tests/indexes/multi\n",
      "  copying pandas/tests/indexes/multi/test_astype.py -> build/lib.macosx-10.9-x86_64-3.8/pandas/tests/indexes/multi\n",
      "  copying pandas/tests/indexes/multi/test_equivalence.py -> build/lib.macosx-10.9-x86_64-3.8/pandas/tests/indexes/multi\n",
      "  copying pandas/tests/indexes/multi/test_get_set.py -> build/lib.macosx-10.9-x86_64-3.8/pandas/tests/indexes/multi\n",
      "  copying pandas/tests/indexes/multi/test_compat.py -> build/lib.macosx-10.9-x86_64-3.8/pandas/tests/indexes/multi\n",
      "  copying pandas/tests/indexes/multi/test_monotonic.py -> build/lib.macosx-10.9-x86_64-3.8/pandas/tests/indexes/multi\n",
      "  copying pandas/tests/indexes/multi/test_drop.py -> build/lib.macosx-10.9-x86_64-3.8/pandas/tests/indexes/multi\n",
      "  copying pandas/tests/indexes/multi/test_duplicates.py -> build/lib.macosx-10.9-x86_64-3.8/pandas/tests/indexes/multi\n",
      "  copying pandas/tests/indexes/multi/test_set_ops.py -> build/lib.macosx-10.9-x86_64-3.8/pandas/tests/indexes/multi\n",
      "  copying pandas/tests/indexes/multi/test_contains.py -> build/lib.macosx-10.9-x86_64-3.8/pandas/tests/indexes/multi\n",
      "  copying pandas/tests/indexes/multi/test_partial_indexing.py -> build/lib.macosx-10.9-x86_64-3.8/pandas/tests/indexes/multi\n",
      "  copying pandas/tests/indexes/multi/test_format.py -> build/lib.macosx-10.9-x86_64-3.8/pandas/tests/indexes/multi\n",
      "  copying pandas/tests/indexes/multi/test_reindex.py -> build/lib.macosx-10.9-x86_64-3.8/pandas/tests/indexes/multi\n",
      "  creating build/lib.macosx-10.9-x86_64-3.8/pandas/tests/indexes/period\n",
      "  copying pandas/tests/indexes/period/test_period.py -> build/lib.macosx-10.9-x86_64-3.8/pandas/tests/indexes/period\n",
      "  copying pandas/tests/indexes/period/__init__.py -> build/lib.macosx-10.9-x86_64-3.8/pandas/tests/indexes/period\n",
      "  copying pandas/tests/indexes/period/test_scalar_compat.py -> build/lib.macosx-10.9-x86_64-3.8/pandas/tests/indexes/period\n",
      "  copying pandas/tests/indexes/period/test_indexing.py -> build/lib.macosx-10.9-x86_64-3.8/pandas/tests/indexes/period\n",
      "  copying pandas/tests/indexes/period/test_astype.py -> build/lib.macosx-10.9-x86_64-3.8/pandas/tests/indexes/period\n",
      "  copying pandas/tests/indexes/period/test_formats.py -> build/lib.macosx-10.9-x86_64-3.8/pandas/tests/indexes/period\n",
      "  copying pandas/tests/indexes/period/test_setops.py -> build/lib.macosx-10.9-x86_64-3.8/pandas/tests/indexes/period\n",
      "  copying pandas/tests/indexes/period/test_construction.py -> build/lib.macosx-10.9-x86_64-3.8/pandas/tests/indexes/period\n",
      "  copying pandas/tests/indexes/period/test_partial_slicing.py -> build/lib.macosx-10.9-x86_64-3.8/pandas/tests/indexes/period\n",
      "  copying pandas/tests/indexes/period/test_ops.py -> build/lib.macosx-10.9-x86_64-3.8/pandas/tests/indexes/period\n",
      "  copying pandas/tests/indexes/period/test_arithmetic.py -> build/lib.macosx-10.9-x86_64-3.8/pandas/tests/indexes/period\n",
      "  copying pandas/tests/indexes/period/test_tools.py -> build/lib.macosx-10.9-x86_64-3.8/pandas/tests/indexes/period\n",
      "  copying pandas/tests/indexes/period/test_asfreq.py -> build/lib.macosx-10.9-x86_64-3.8/pandas/tests/indexes/period\n",
      "  copying pandas/tests/indexes/period/test_period_range.py -> build/lib.macosx-10.9-x86_64-3.8/pandas/tests/indexes/period\n",
      "  creating build/lib.macosx-10.9-x86_64-3.8/pandas/tests/indexes/datetimes\n",
      "  copying pandas/tests/indexes/datetimes/test_misc.py -> build/lib.macosx-10.9-x86_64-3.8/pandas/tests/indexes/datetimes\n",
      "  copying pandas/tests/indexes/datetimes/test_missing.py -> build/lib.macosx-10.9-x86_64-3.8/pandas/tests/indexes/datetimes\n",
      "  copying pandas/tests/indexes/datetimes/test_date_range.py -> build/lib.macosx-10.9-x86_64-3.8/pandas/tests/indexes/datetimes\n",
      "  copying pandas/tests/indexes/datetimes/test_timezones.py -> build/lib.macosx-10.9-x86_64-3.8/pandas/tests/indexes/datetimes\n",
      "  copying pandas/tests/indexes/datetimes/__init__.py -> build/lib.macosx-10.9-x86_64-3.8/pandas/tests/indexes/datetimes\n",
      "  copying pandas/tests/indexes/datetimes/test_datetimelike.py -> build/lib.macosx-10.9-x86_64-3.8/pandas/tests/indexes/datetimes\n",
      "  copying pandas/tests/indexes/datetimes/test_scalar_compat.py -> build/lib.macosx-10.9-x86_64-3.8/pandas/tests/indexes/datetimes\n",
      "  copying pandas/tests/indexes/datetimes/test_indexing.py -> build/lib.macosx-10.9-x86_64-3.8/pandas/tests/indexes/datetimes\n",
      "  copying pandas/tests/indexes/datetimes/test_astype.py -> build/lib.macosx-10.9-x86_64-3.8/pandas/tests/indexes/datetimes\n",
      "  copying pandas/tests/indexes/datetimes/test_formats.py -> build/lib.macosx-10.9-x86_64-3.8/pandas/tests/indexes/datetimes\n",
      "  copying pandas/tests/indexes/datetimes/test_setops.py -> build/lib.macosx-10.9-x86_64-3.8/pandas/tests/indexes/datetimes\n",
      "  copying pandas/tests/indexes/datetimes/test_datetime.py -> build/lib.macosx-10.9-x86_64-3.8/pandas/tests/indexes/datetimes\n",
      "  copying pandas/tests/indexes/datetimes/test_construction.py -> build/lib.macosx-10.9-x86_64-3.8/pandas/tests/indexes/datetimes\n",
      "  copying pandas/tests/indexes/datetimes/test_partial_slicing.py -> build/lib.macosx-10.9-x86_64-3.8/pandas/tests/indexes/datetimes\n",
      "  copying pandas/tests/indexes/datetimes/test_ops.py -> build/lib.macosx-10.9-x86_64-3.8/pandas/tests/indexes/datetimes\n",
      "  copying pandas/tests/indexes/datetimes/test_arithmetic.py -> build/lib.macosx-10.9-x86_64-3.8/pandas/tests/indexes/datetimes\n",
      "  copying pandas/tests/indexes/datetimes/test_tools.py -> build/lib.macosx-10.9-x86_64-3.8/pandas/tests/indexes/datetimes\n",
      "  creating build/lib.macosx-10.9-x86_64-3.8/pandas/tests/indexes/timedeltas\n",
      "  copying pandas/tests/indexes/timedeltas/__init__.py -> build/lib.macosx-10.9-x86_64-3.8/pandas/tests/indexes/timedeltas\n",
      "  copying pandas/tests/indexes/timedeltas/test_timedelta.py -> build/lib.macosx-10.9-x86_64-3.8/pandas/tests/indexes/timedeltas\n",
      "  copying pandas/tests/indexes/timedeltas/test_scalar_compat.py -> build/lib.macosx-10.9-x86_64-3.8/pandas/tests/indexes/timedeltas\n",
      "  copying pandas/tests/indexes/timedeltas/test_indexing.py -> build/lib.macosx-10.9-x86_64-3.8/pandas/tests/indexes/timedeltas\n",
      "  copying pandas/tests/indexes/timedeltas/test_astype.py -> build/lib.macosx-10.9-x86_64-3.8/pandas/tests/indexes/timedeltas\n",
      "  copying pandas/tests/indexes/timedeltas/test_formats.py -> build/lib.macosx-10.9-x86_64-3.8/pandas/tests/indexes/timedeltas\n",
      "  copying pandas/tests/indexes/timedeltas/test_setops.py -> build/lib.macosx-10.9-x86_64-3.8/pandas/tests/indexes/timedeltas\n",
      "  copying pandas/tests/indexes/timedeltas/test_construction.py -> build/lib.macosx-10.9-x86_64-3.8/pandas/tests/indexes/timedeltas\n",
      "  copying pandas/tests/indexes/timedeltas/test_partial_slicing.py -> build/lib.macosx-10.9-x86_64-3.8/pandas/tests/indexes/timedeltas\n",
      "  copying pandas/tests/indexes/timedeltas/test_ops.py -> build/lib.macosx-10.9-x86_64-3.8/pandas/tests/indexes/timedeltas\n",
      "  copying pandas/tests/indexes/timedeltas/test_arithmetic.py -> build/lib.macosx-10.9-x86_64-3.8/pandas/tests/indexes/timedeltas\n",
      "  copying pandas/tests/indexes/timedeltas/test_timedelta_range.py -> build/lib.macosx-10.9-x86_64-3.8/pandas/tests/indexes/timedeltas\n",
      "  copying pandas/tests/indexes/timedeltas/test_tools.py -> build/lib.macosx-10.9-x86_64-3.8/pandas/tests/indexes/timedeltas\n",
      "  creating build/lib.macosx-10.9-x86_64-3.8/pandas/_libs/tslibs\n",
      "  copying pandas/_libs/tslibs/__init__.py -> build/lib.macosx-10.9-x86_64-3.8/pandas/_libs/tslibs\n",
      "  creating build/lib.macosx-10.9-x86_64-3.8/pandas/api/types\n",
      "  copying pandas/api/types/__init__.py -> build/lib.macosx-10.9-x86_64-3.8/pandas/api/types\n",
      "  creating build/lib.macosx-10.9-x86_64-3.8/pandas/api/extensions\n",
      "  copying pandas/api/extensions/__init__.py -> build/lib.macosx-10.9-x86_64-3.8/pandas/api/extensions\n",
      "  creating build/lib.macosx-10.9-x86_64-3.8/pandas/io/formats/templates\n",
      "  copying pandas/io/formats/templates/html.tpl -> build/lib.macosx-10.9-x86_64-3.8/pandas/io/formats/templates\n",
      "  UPDATING build/lib.macosx-10.9-x86_64-3.8/pandas/_version.py\n",
      "  set build/lib.macosx-10.9-x86_64-3.8/pandas/_version.py to '0.24.2'\n",
      "  running build_ext\n",
      "  building 'pandas._libs.algos' extension\n",
      "  creating build/temp.macosx-10.9-x86_64-3.8\n",
      "  creating build/temp.macosx-10.9-x86_64-3.8/pandas\n",
      "  creating build/temp.macosx-10.9-x86_64-3.8/pandas/_libs\n",
      "  gcc -Wno-unused-result -Wsign-compare -Wunreachable-code -DNDEBUG -g -fwrapv -O3 -Wall -Wstrict-prototypes -I/Users/karshenas/opt/anaconda3/include -arch x86_64 -I/Users/karshenas/opt/anaconda3/include -arch x86_64 -I./pandas/_libs -Ipandas/_libs/src/klib -Ipandas/_libs/src -I/Users/karshenas/opt/anaconda3/lib/python3.8/site-packages/numpy/core/include -I/Users/karshenas/opt/anaconda3/include/python3.8 -c pandas/_libs/algos.c -o build/temp.macosx-10.9-x86_64-3.8/pandas/_libs/algos.o -Wno-unused-function\n",
      "  xcrun: error: invalid active developer path (/Library/Developer/CommandLineTools), missing xcrun at: /Library/Developer/CommandLineTools/usr/bin/xcrun\n",
      "  error: command 'gcc' failed with exit status 1\n",
      "  ----------------------------------------\u001b[0m\n",
      "\u001b[31m  ERROR: Failed building wheel for pandas\u001b[0m\n",
      "\u001b[?25h  Running setup.py clean for pandas\n"
     ]
    },
    {
     "name": "stdout",
     "output_type": "stream",
     "text": [
      "  Building wheel for portpicker (setup.py) ... \u001b[?25ldone\n",
      "\u001b[?25h  Created wheel for portpicker: filename=portpicker-1.2.0-py3-none-any.whl size=13368 sha256=0e7ec3e208b127b7b8d836ccdf36614547300a2f20beabb1fdaddab3bca5d2c3\n",
      "  Stored in directory: /Users/karshenas/Library/Caches/pip/wheels/b9/10/77/cad2fb4f8ab57cc7cecb92b9b1b0548ac932b8f81774003683\n",
      "  Building wheel for tornado (setup.py) ... \u001b[?25ldone\n",
      "\u001b[?25h  Created wheel for tornado: filename=tornado-4.5.3-cp38-cp38-macosx_10_9_x86_64.whl size=420782 sha256=58177cae26d87b9488c6e8b3ccf59875e53267547df6277e6f84cedc99a61d72\n",
      "  Stored in directory: /Users/karshenas/Library/Caches/pip/wheels/20/fe/26/0c03adccd0cec2744261ec6b8380fbe5e726d1ea4cf3a9370e\n",
      "Successfully built google-colab portpicker tornado\n",
      "Failed to build pandas\n",
      "\u001b[31mERROR: spyder 4.1.4 requires pyqt5<5.13; python_version >= \"3\", which is not installed.\u001b[0m\n",
      "\u001b[31mERROR: spyder 4.1.4 requires pyqtwebengine<5.13; python_version >= \"3\", which is not installed.\u001b[0m\n",
      "\u001b[31mERROR: conda 4.14.0 requires ruamel_yaml_conda>=0.11.14, which is not installed.\u001b[0m\n",
      "\u001b[31mERROR: tensorflow 2.4.0 has requirement six~=1.15.0, but you'll have six 1.12.0 which is incompatible.\u001b[0m\n",
      "\u001b[31mERROR: tensorflow 2.4.0 has requirement typing-extensions~=3.7.4, but you'll have typing-extensions 4.8.0 which is incompatible.\u001b[0m\n",
      "\u001b[31mERROR: tensorboard 2.4.0 has requirement google-auth<2,>=1.6.3, but you'll have google-auth 1.4.2 which is incompatible.\u001b[0m\n",
      "\u001b[31mERROR: spyder-kernels 1.9.2 has requirement ipykernel>=5.1.3; python_version > \"2\", but you'll have ipykernel 4.6.1 which is incompatible.\u001b[0m\n",
      "\u001b[31mERROR: pyppeteer 0.2.6 has requirement urllib3<2.0.0,>=1.25.8, but you'll have urllib3 1.24.3 which is incompatible.\u001b[0m\n",
      "\u001b[31mERROR: jupyter-console 6.1.0 has requirement prompt-toolkit!=3.0.0,!=3.0.1,<3.1.0,>=2.0.0, but you'll have prompt-toolkit 1.0.18 which is incompatible.\u001b[0m\n",
      "\u001b[31mERROR: distributed 2.20.0 has requirement tornado>=6.0.3; python_version >= \"3.8\", but you'll have tornado 4.5.3 which is incompatible.\u001b[0m\n",
      "\u001b[31mERROR: bokeh 2.1.1 has requirement tornado>=5.1, but you'll have tornado 4.5.3 which is incompatible.\u001b[0m\n",
      "Installing collected packages: six, google-auth, prompt-toolkit, ipython, tornado, ipykernel, notebook, pandas, portpicker, urllib3, idna, requests, google-colab\n",
      "  Attempting uninstall: six\n",
      "    Found existing installation: six 1.15.0\n",
      "    Uninstalling six-1.15.0:\n",
      "      Successfully uninstalled six-1.15.0\n",
      "  Attempting uninstall: google-auth\n",
      "    Found existing installation: google-auth 1.24.0\n",
      "    Uninstalling google-auth-1.24.0:\n",
      "      Successfully uninstalled google-auth-1.24.0\n",
      "  Attempting uninstall: prompt-toolkit\n",
      "    Found existing installation: prompt-toolkit 3.0.5\n",
      "    Uninstalling prompt-toolkit-3.0.5:\n",
      "      Successfully uninstalled prompt-toolkit-3.0.5\n",
      "  Attempting uninstall: ipython\n",
      "    Found existing installation: ipython 7.16.1\n",
      "    Uninstalling ipython-7.16.1:\n",
      "      Successfully uninstalled ipython-7.16.1\n",
      "  Attempting uninstall: tornado\n",
      "    Found existing installation: tornado 6.0.4\n",
      "    Uninstalling tornado-6.0.4:\n",
      "      Successfully uninstalled tornado-6.0.4\n",
      "  Attempting uninstall: ipykernel\n",
      "    Found existing installation: ipykernel 5.3.2\n",
      "    Uninstalling ipykernel-5.3.2:\n",
      "      Successfully uninstalled ipykernel-5.3.2\n",
      "  Attempting uninstall: notebook\n",
      "    Found existing installation: notebook 6.0.3\n",
      "    Uninstalling notebook-6.0.3:\n",
      "      Successfully uninstalled notebook-6.0.3\n",
      "  Attempting uninstall: pandas\n",
      "    Found existing installation: pandas 1.0.5\n",
      "    Uninstalling pandas-1.0.5:\n",
      "      Successfully uninstalled pandas-1.0.5\n",
      "    Running setup.py install for pandas ... \u001b[?25l|^C\n",
      "\u001b[?25canceled\n",
      "\u001b[31mERROR: Operation cancelled by user\u001b[0m\n"
     ]
    },
    {
     "ename": "ModuleNotFoundError",
     "evalue": "No module named 'google.colab'",
     "output_type": "error",
     "traceback": [
      "\u001b[0;31m---------------------------------------------------------------------------\u001b[0m",
      "\u001b[0;31mModuleNotFoundError\u001b[0m                       Traceback (most recent call last)",
      "\u001b[0;32m<ipython-input-13-c01f56c0e037>\u001b[0m in \u001b[0;36m<module>\u001b[0;34m\u001b[0m\n\u001b[1;32m      1\u001b[0m \u001b[0mget_ipython\u001b[0m\u001b[0;34m(\u001b[0m\u001b[0;34m)\u001b[0m\u001b[0;34m.\u001b[0m\u001b[0msystem\u001b[0m\u001b[0;34m(\u001b[0m\u001b[0;34m'pip install google-colab'\u001b[0m\u001b[0;34m)\u001b[0m\u001b[0;34m\u001b[0m\u001b[0;34m\u001b[0m\u001b[0m\n\u001b[0;32m----> 2\u001b[0;31m \u001b[0;32mfrom\u001b[0m \u001b[0mgoogle\u001b[0m\u001b[0;34m.\u001b[0m\u001b[0mcolab\u001b[0m \u001b[0;32mimport\u001b[0m \u001b[0mdrive\u001b[0m\u001b[0;34m\u001b[0m\u001b[0;34m\u001b[0m\u001b[0m\n\u001b[0m\u001b[1;32m      3\u001b[0m \u001b[0mdrive\u001b[0m\u001b[0;34m.\u001b[0m\u001b[0mmount\u001b[0m\u001b[0;34m(\u001b[0m\u001b[0;34m'/content/drive'\u001b[0m\u001b[0;34m)\u001b[0m\u001b[0;34m\u001b[0m\u001b[0;34m\u001b[0m\u001b[0m\n",
      "\u001b[0;31mModuleNotFoundError\u001b[0m: No module named 'google.colab'"
     ]
    }
   ],
   "source": [
    "!pip install google-colab\n",
    "from google.colab import drive\n",
    "drive.mount('/content/drive')"
   ]
  },
  {
   "cell_type": "markdown",
   "metadata": {
    "id": "EaKrU7HzpUi1"
   },
   "source": [
    "Some standard imports!"
   ]
  },
  {
   "cell_type": "code",
   "execution_count": null,
   "metadata": {
    "id": "m9P3-Ro-mHvR"
   },
   "outputs": [
    {
     "name": "stdout",
     "output_type": "stream",
     "text": [
      "Collecting pandas\n",
      "  Downloading pandas-2.0.3-cp38-cp38-macosx_10_9_x86_64.whl (11.7 MB)\n",
      "\u001b[K     |████████████████████████████████| 11.7 MB 6.2 MB/s eta 0:00:01\n",
      "\u001b[?25hCollecting numpy>=1.20.3; python_version < \"3.10\"\n",
      "  Downloading numpy-1.24.4-cp38-cp38-macosx_10_9_x86_64.whl (19.8 MB)\n",
      "\u001b[K     |████████████████████████████████| 19.8 MB 7.8 MB/s eta 0:00:01     |████████████████████████████▊   | 17.7 MB 7.8 MB/s eta 0:00:01\n",
      "\u001b[?25hCollecting python-dateutil>=2.8.2\n",
      "  Using cached python_dateutil-2.8.2-py2.py3-none-any.whl (247 kB)\n",
      "Collecting tzdata>=2022.1\n",
      "  Downloading tzdata-2024.1-py2.py3-none-any.whl (345 kB)\n",
      "\u001b[K     |████████████████████████████████| 345 kB 7.7 MB/s eta 0:00:01\n",
      "\u001b[?25hRequirement already satisfied: pytz>=2020.1 in /Users/karshenas/opt/anaconda3/lib/python3.8/site-packages (from pandas) (2020.1)\n",
      "Requirement already satisfied: six>=1.5 in /Users/karshenas/opt/anaconda3/lib/python3.8/site-packages (from python-dateutil>=2.8.2->pandas) (1.12.0)\n",
      "\u001b[31mERROR: tensorflow 2.4.0 has requirement numpy~=1.19.2, but you'll have numpy 1.24.4 which is incompatible.\u001b[0m\n",
      "\u001b[31mERROR: tensorflow 2.4.0 has requirement six~=1.15.0, but you'll have six 1.12.0 which is incompatible.\u001b[0m\n",
      "\u001b[31mERROR: tensorflow 2.4.0 has requirement typing-extensions~=3.7.4, but you'll have typing-extensions 4.8.0 which is incompatible.\u001b[0m\n",
      "\u001b[31mERROR: tensorboard 2.4.0 has requirement google-auth<2,>=1.6.3, but you'll have google-auth 1.4.2 which is incompatible.\u001b[0m\n",
      "\u001b[31mERROR: bokeh 2.1.1 has requirement tornado>=5.1, but you'll have tornado 4.5.3 which is incompatible.\u001b[0m\n",
      "Installing collected packages: numpy, python-dateutil, tzdata, pandas\n",
      "  Attempting uninstall: numpy\n",
      "    Found existing installation: numpy 1.19.4\n",
      "    Uninstalling numpy-1.19.4:\n",
      "      Successfully uninstalled numpy-1.19.4\n",
      "  Attempting uninstall: python-dateutil\n",
      "    Found existing installation: python-dateutil 2.8.1\n",
      "    Uninstalling python-dateutil-2.8.1:\n",
      "      Successfully uninstalled python-dateutil-2.8.1\n"
     ]
    }
   ],
   "source": [
    "!pip install pandas\n",
    "import torch\n",
    "import torch.nn as nn\n",
    "import torch.nn.functional as F\n",
    "\n",
    "import pandas as pd\n",
    "import numpy as np"
   ]
  },
  {
   "cell_type": "markdown",
   "metadata": {
    "id": "UDrlQoGMrTIL"
   },
   "source": [
    "We will be working with a very popular deep learning dataset Fashion MNIST. Each data point is a 28x28 image of some type of clothes."
   ]
  },
  {
   "cell_type": "code",
   "execution_count": null,
   "metadata": {
    "id": "kghvXO08nqjc"
   },
   "outputs": [],
   "source": [
    "file_path = \"//hw5/\"      # ENTER YOUR OWN FILE PATH\n",
    "data = pd.read_csv(file_path + \"fashion_mnist_data.csv\", sep=',')\n",
    "data.head()"
   ]
  },
  {
   "cell_type": "code",
   "execution_count": null,
   "metadata": {
    "id": "2MzrHvzirEsc"
   },
   "outputs": [],
   "source": [
    "print(data.shape)   # (N, D + 1) (one column is the label column)"
   ]
  },
  {
   "cell_type": "markdown",
   "metadata": {
    "id": "Hv49eFRJqvZ4"
   },
   "source": [
    "In the following cell, transform the DataFrame data to 2 NumPy arrays X and y, where X is the data matrix with 784 pixels per row. y should be a NumPy vector of the labels. From the cell above, we see that there are 8,000 samples to work with. Each sample has 784 features, or pixels, where the first column, \"label\", is the label of that sample. The final shape of X should be `(8000, 784)` and y should be `(8000, )`."
   ]
  },
  {
   "cell_type": "code",
   "execution_count": null,
   "metadata": {
    "id": "cg824aI6qehg"
   },
   "outputs": [],
   "source": [
    "### YOUR CODE HERE\n",
    "...\n",
    "print(X.shape)\n",
    "print(y.shape)"
   ]
  },
  {
   "cell_type": "markdown",
   "metadata": {
    "id": "L8pXuVsesIks"
   },
   "source": [
    "Let's quickly visualize some samples. You should see some images of clothes and the correct labels if you implemented the above cell correctly."
   ]
  },
  {
   "cell_type": "code",
   "execution_count": null,
   "metadata": {
    "id": "kUakZ4dyq_yj"
   },
   "outputs": [],
   "source": [
    "import matplotlib.pyplot as plt\n",
    "\n",
    "labels = [\"T-Shirt/Top\", \"Trouser\", \"Pullover\", \"Dress\", \"Coat\", \"Sandal\", \"Shirt\", \"Sneaker\", \"Bag\", \"Boot\"]\n",
    "\n",
    "def show_image_labels(img, label):\n",
    "    plt.imshow(img.reshape(28, 28))\n",
    "    plt.title(labels[label])\n",
    "    plt.show()\n",
    "\n",
    "for i in range(5):\n",
    "    show_image_labels(X[i], y[i])"
   ]
  },
  {
   "cell_type": "markdown",
   "metadata": {
    "id": "dTxzqTEYtkYZ"
   },
   "source": [
    "Now, we will build our first neural network!"
   ]
  },
  {
   "cell_type": "code",
   "execution_count": null,
   "metadata": {
    "id": "c-8aNVErtHXc"
   },
   "outputs": [],
   "source": [
    "class Sample_Network(nn.Module):\n",
    "    def __init__(self):\n",
    "        super().__init__()\n",
    "        # TODO\n",
    "        input_dim =  ...    # what should be the input dimension? what are we feeding the network?\n",
    "        output_dim = ...    # what should be the output dimension? what do we want from the network after running model(), or also known as model.forward()?\n",
    "        self.input_layer = nn.Linear(input_dim, 126)\n",
    "        self.hidden_layer = nn.Linear(126, 256)\n",
    "        self.output_layer = nn.Linear(256, output_dim)\n",
    "\n",
    "    # self.forward is the main function that you will run your model with!\n",
    "    # model(X) is equivalent as model.forward(X).\n",
    "    # you will see how it's used in just a bit!\n",
    "    # nothing to implement here - an example of how you the forward method works\n",
    "    # as you can see, X is first passed into the input layer, then a non-linearity ReLU\n",
    "    # then, the hidden layer followed by a non-linearity ReLU\n",
    "    # in the end, the output_layer produces a logit matrix based on how many classes\n",
    "    # we want it to classify\n",
    "    def forward(self, X):\n",
    "        X = self.input_layer(X)\n",
    "        X = F.relu(X)\n",
    "        X = self.hidden_layer(X)\n",
    "        X = F.relu(X)\n",
    "        logits = self.output_layer(X)\n",
    "        return logits\n",
    "\n",
    "    # we will create our own function to help with prediction\n",
    "    # we will utilize F.softmax and torch.argmax!\n",
    "    def classify(self, X):\n",
    "        \"\"\"\n",
    "        Q:  create a function classify that will take in X data points and produce\n",
    "            the predicted classification of these points.\n",
    "\n",
    "        HINT: use torch.softmax() and torch.argmax()! you NEED them.\n",
    "\n",
    "        Inputs\n",
    "        - X: the torch.tensor matrix to be classified with shape (N, D)\n",
    "\n",
    "        Outputs\n",
    "        - labels: a torch.tensor with the shape (N, ), each item being X[i]'s \n",
    "                  classification prediction\n",
    "        \"\"\"\n",
    "        X = torch.tensor(X).type(torch.float32)     # enforce smooth-running with the model\n",
    "        logits = self(X)\n",
    "        ...\n",
    "        return labels.type(torch.long)"
   ]
  },
  {
   "cell_type": "markdown",
   "metadata": {
    "id": "epYwFybOvIPw"
   },
   "source": [
    "Write code to transform X and y into Tensors. `X` needs to be of type `torch.float32` and `y` needs to be of type `torch.long`. Google how you can cast a tensor to some certain type with PyTorch."
   ]
  },
  {
   "cell_type": "code",
   "execution_count": null,
   "metadata": {
    "id": "XFZAMEgFvH2g"
   },
   "outputs": [],
   "source": [
    "### YOUR CODE HERE\n",
    "X, y = ..., ..."
   ]
  },
  {
   "cell_type": "markdown",
   "metadata": {
    "id": "z8Vrj4RHv5Hn"
   },
   "source": [
    "Let's instantiate our model and see what the outputs look like! It should look like (2, 10) because we fed in 2 samples and we're classifying one of the 10 possible classes!"
   ]
  },
  {
   "cell_type": "code",
   "execution_count": null,
   "metadata": {
    "id": "xzkJUASct-rA"
   },
   "outputs": [],
   "source": [
    "model = Sample_Network()\n",
    "out = model(X[:2])\n",
    "print(out)\n",
    "print(out.shape)"
   ]
  },
  {
   "cell_type": "markdown",
   "metadata": {
    "id": "hUl3IeKYwJTC"
   },
   "source": [
    "If we apply softmax to the output, we get the probability distribution of each class!"
   ]
  },
  {
   "cell_type": "code",
   "execution_count": null,
   "metadata": {
    "id": "CZcJ98WSwIbC"
   },
   "outputs": [],
   "source": [
    "preds = model.classify(X[:2])\n",
    "print(preds)    # the model thinks that the first 2 samples are these classes"
   ]
  },
  {
   "cell_type": "code",
   "execution_count": null,
   "metadata": {
    "id": "ZoRW9az6vEys"
   },
   "outputs": [],
   "source": [
    "# let's see if the model is doing a good job\n",
    "show_image_labels(X[0], preds[0])       # this should be a T-shirt, not a shirt - they are two different classes\n",
    "show_image_labels(X[1], preds[1])"
   ]
  },
  {
   "cell_type": "markdown",
   "metadata": {
    "id": "14PEE-Wpx6j5"
   },
   "source": [
    "Technically, the first image is supposed to be a t-shirt, not a shirt, soooo the model got both wrong (if it somehow did it got lucky)... Why? Well, we haven't trained it yet! And that's our next section!"
   ]
  },
  {
   "cell_type": "markdown",
   "metadata": {
    "id": "1nnMk8NIyGnX"
   },
   "source": [
    "## Writing the Training Loop\n",
    "\n",
    "This is arguably one of the most important components of Deep Learning and PyTorch. We need to write our own training loop that will repeatedly train our model a number of epochs of times, based on our own specifications.\n",
    "\n",
    "A typical training loop will have the following structure:\n",
    "\n",
    "\n",
    "*   Take in the model and the data X_train, y_train, X_val, and y_val.\n",
    "*   Take in hyperparameters such as learning rate, batch size, optimizer, schedulers, etc.\n",
    "*   Iterate through the epochs\n",
    "*   Each epoch, iterate through the batches and keep track of the losses and the metrics of choice (accuracy in our case)."
   ]
  },
  {
   "cell_type": "code",
   "execution_count": null,
   "metadata": {
    "id": "dEQ3JOj_xWj5"
   },
   "outputs": [],
   "source": [
    "from sklearn.metrics import accuracy_score\n",
    "\n",
    "def train(model, X_train, y_train, X_val, y_val, epochs=15, batch_size=32, lr=1e-3):\n",
    "    \"\"\"\n",
    "    Q:  write the training loop following the schema shown above.\n",
    "\n",
    "    Inputs\n",
    "    - model: the model to be trained - a PyTorch nn.Module class object\n",
    "    - X_train, y_train, X_val, y_val: training and validation data\n",
    "    - epochs: num epochs, or the number of times we want to run through the entire training data\n",
    "    - batch_size: number of data points per batch\n",
    "    - lr: learning rate\n",
    "    - optimizer: optimizer used\n",
    "\n",
    "    Outputs\n",
    "    - losses: a list of losses\n",
    "    - accuracies: a list of validation accuracies\n",
    "    - train_accs: a list of training accuracies\n",
    "    \"\"\"\n",
    "\n",
    "    batches = ...   # using batch_size, determine the number of batches needed\n",
    "\n",
    "    loss_fn = nn.CrossEntropyLoss()                             # read the write-up for an explanation on CrossEntropyLoss()\n",
    "    optimizer = torch.optim.Adam(model.parameters(), lr=lr)     # read the write-up for an explanation on Adam\n",
    "\n",
    "    losses = []\n",
    "    train_accs = []\n",
    "    accuracies = []\n",
    "\n",
    "    for epoch in range(epochs):\n",
    "        for i in range(batches):\n",
    "            X_batch = ...\n",
    "            y_batch = ...\n",
    "\n",
    "            logits = ...\n",
    "\n",
    "            loss = loss_fn(logits, y_batch)\n",
    "\n",
    "            # these 3 functions will follow you whenever you train a model with PyTorch\n",
    "            optimizer.zero_grad()   # erases the gradients from the previous epoch (sets all gradients to 0)\n",
    "            loss.backward()         # calculates the gradients with respect to every single weight matrix in the model\n",
    "            optimizer.step()        # takes ONE learning step with the gradients just calculated\n",
    "\n",
    "        # feel free to use sklearn's accuracy_score function\n",
    "        # calculate the training accuracy\n",
    "        ...\n",
    "\n",
    "        # calculate the validation accuracy and append the loss of this epoch\n",
    "        ...\n",
    "\n",
    "        # print epoch, loss, and current test accuracy\n",
    "        print(f\"Epoch {epoch}:\\tloss {loss} & accuracy {accuracy}\")\n",
    "    \n",
    "    return losses, accuracies, train_accs"
   ]
  },
  {
   "cell_type": "markdown",
   "metadata": {
    "id": "Y6YVQTtqoiWH"
   },
   "source": [
    "If you implemented the above code `Sample_Network` and `train()` correctly, you should see close to a 0.79-0.80 accuracy."
   ]
  },
  {
   "cell_type": "code",
   "execution_count": null,
   "metadata": {
    "id": "YXz0CsoqzFlZ"
   },
   "outputs": [],
   "source": [
    "model = Sample_Network()\n",
    "losses, accuracies, train_accs = train(model, X[:7000], y[:7000], X[7000:], y[7000:], epochs=5)"
   ]
  },
  {
   "cell_type": "code",
   "execution_count": null,
   "metadata": {
    "id": "PUK5BZ8d1jSy"
   },
   "outputs": [],
   "source": [
    "# Let's see how much the model has learned\n",
    "preds = model.classify(X[:5])\n",
    "for i in range(5):\n",
    "    show_image_labels(X[i], preds[i])"
   ]
  },
  {
   "cell_type": "markdown",
   "metadata": {
    "id": "RbHKFFHj3k4s"
   },
   "source": [
    "Compared to what we had earlier, the model clearly learned *something*. It is currently able to differentiate among different images of clothes with an 80% accuracy!"
   ]
  },
  {
   "cell_type": "markdown",
   "metadata": {
    "id": "xfvSgdCR38_s"
   },
   "source": [
    "## Build Your Own Model\n",
    "\n",
    "Now, fill in the following class and make your own neural network model that can classify the clothes with a validation accuracy of 90%!\n",
    "\n",
    "Using the previous `Sample_Network` as an example, please implement `My_Network`, a class that is able to produce `num_layers` of hidden layers (NOT including the input and the output layers) where each hidden layer has `hidden_size` units. Additionally, please **add one or more extra features** to boost your performance. Some inspirations: adding Dropout() layers, Batchnorm() layers, normalize inputs, learning rate schedulers, etc.\n",
    "\n",
    "When you're done with this section, click on the folder icon to your left (for those using Google Colab), and you should be able to download `my_model.pt` and `predictions.npy` - the 2 files you will submit to Gradescope."
   ]
  },
  {
   "cell_type": "code",
   "execution_count": null,
   "metadata": {
    "id": "Jm0xDDKP3h4S"
   },
   "outputs": [],
   "source": [
    "class My_Network(nn.Module):\n",
    "    def __init__(self, num_layers, hidden_size):\n",
    "        super().__init__()\n",
    "        ...\n",
    "    \n",
    "    def forward(self, X):\n",
    "        ...\n",
    "\n",
    "    def classify(self, X):\n",
    "        ..."
   ]
  },
  {
   "cell_type": "code",
   "execution_count": null,
   "metadata": {
    "id": "PAc_H2sn4X3e"
   },
   "outputs": [],
   "source": [
    "my_model = My_Network(...)\n",
    "losses, accuracies, train_accs = train(my_model)"
   ]
  },
  {
   "cell_type": "code",
   "execution_count": null,
   "metadata": {
    "id": "N63tBxAK4guN"
   },
   "outputs": [],
   "source": [
    "torch.save(my_model.state_dict(), file_path + \"my_model.pt\")       # save your model - do NOT change the name of \n",
    "                                                                   # the model or else the autograder won't recognize it!"
   ]
  },
  {
   "cell_type": "code",
   "execution_count": null,
   "metadata": {
    "colab": {
     "base_uri": "https://localhost:8080/"
    },
    "id": "ecOZy7xdgcfs",
    "outputId": "f59650f2-a17e-4251-d288-a70aa286c3a4"
   },
   "outputs": [
    {
     "name": "stdout",
     "output_type": "stream",
     "text": [
      "predictions.npy saved!\n"
     ]
    }
   ],
   "source": [
    "def get_test_classifications(model, file_path):\n",
    "    test_df = pd.read_csv(file_path, sep=',')\n",
    "    X = test_df.values\n",
    "    X = torch.tensor(X).type(torch.float32)\n",
    "    out = model.classify(X)\n",
    "    np.save(\"predictions.npy\", out)\n",
    "    print(\"predictions.npy saved!\")\n",
    "\n",
    "get_test_classifications(my_model, \"/YOUR/PATH/TO/fashion_mnist_test.csv\")"
   ]
  },
  {
   "cell_type": "markdown",
   "metadata": {
    "id": "bdJEvqitkI3b"
   },
   "source": [
    "Graph out your training vs. validation accuracy. These values should be available after running your training loop."
   ]
  },
  {
   "cell_type": "code",
   "execution_count": null,
   "metadata": {
    "id": "LlA4P5WKkShZ"
   },
   "outputs": [],
   "source": [
    "def graph(accuracies, training_accs):\n",
    "    \"\"\"\n",
    "    Q:  graph out the accuracies and training accuracies.\n",
    "        make sure you label which curve is the validation/training accuracy.\n",
    "        labels and titles are required.\n",
    "\n",
    "    Inputs\n",
    "    - accuracies: list of floats with length epochs\n",
    "    - training_accs: list of floats with length epochs\n",
    "\n",
    "    Outputs\n",
    "    - None\n",
    "    \"\"\"\n",
    "    ..."
   ]
  },
  {
   "cell_type": "markdown",
   "metadata": {
    "id": "GSYN_7gOksTt"
   },
   "source": [
    "## Short report\n",
    "\n",
    "\n",
    "1.   What extra feature did you end up implementing? Why? Did it improve model performance?\n",
    "2.   What did you observe after plotting the training and validation accuracy? Were there any overfitting or underfitting?\n",
    "\n",
    "\n",
    "Your response:\n",
    "\n",
    "\n",
    "\n",
    "1.   ...\n",
    "2.   ...\n",
    "\n",
    "\n"
   ]
  },
  {
   "cell_type": "markdown",
   "metadata": {
    "id": "m45By_XzlKjl"
   },
   "source": [
    "## Conclusion\n",
    "\n",
    "We have explored the very fundamentals of PyTorch in this homework, and the tools we have currently worked with is only the tip of the iceberg! In our next homework, we will do some heavy convolutional neural networks and learn how we can send our model to the GPU for a dramatically faster training time."
   ]
  }
 ],
 "metadata": {
  "colab": {
   "provenance": []
  },
  "kernelspec": {
   "display_name": "Python 3",
   "language": "python",
   "name": "python3"
  },
  "language_info": {
   "codemirror_mode": {
    "name": "ipython",
    "version": 3
   },
   "file_extension": ".py",
   "mimetype": "text/x-python",
   "name": "python",
   "nbconvert_exporter": "python",
   "pygments_lexer": "ipython3",
   "version": "3.8.3"
  }
 },
 "nbformat": 4,
 "nbformat_minor": 1
}
